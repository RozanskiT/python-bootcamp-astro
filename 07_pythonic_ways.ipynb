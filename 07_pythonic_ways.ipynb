{
 "cells": [
  {
   "cell_type": "markdown",
   "metadata": {},
   "source": [
    "# Being Pythonic\n",
    "\n",
    "This notebook shows examples of no-pythonic implementations with a task to make the more Pythonic."
   ]
  },
  {
   "cell_type": "code",
   "execution_count": null,
   "metadata": {},
   "outputs": [],
   "source": [
    "# Example 1: Non-Pythonic vs Pythonic - List comprehension\n",
    "numbers = [1, 2, 3, 4, 5]\n",
    "\n",
    "# Non-Pythonic\n",
    "squared = []\n",
    "for num in numbers:\n",
    "    squared.append(num ** 2)\n",
    "print(squared)"
   ]
  },
  {
   "cell_type": "markdown",
   "metadata": {},
   "source": [
    "<details>\n",
    "    <summary> Solution (click me)</summary>\n",
    "    \n",
    "    # Pythonic way:\n",
    "    squared = [num ** 2 for num in numbers]\n",
    "    print(squared)\n",
    "</details>"
   ]
  },
  {
   "cell_type": "code",
   "execution_count": null,
   "metadata": {},
   "outputs": [],
   "source": [
    "# Example 2: Non-Pythonic vs Pythonic - Checking value existence\n",
    "fruits = ['apple', 'banana', 'orange']\n",
    "\n",
    "# Non-Pythonic\n",
    "def is_fruit_exist(fruits_list, fruit):\n",
    "    for f in fruits_list:\n",
    "        if f == fruit:\n",
    "            return True\n",
    "    return False\n",
    "\n",
    "print(is_fruit_exist(fruits, 'banana'))"
   ]
  },
  {
   "cell_type": "markdown",
   "metadata": {},
   "source": [
    "<details>\n",
    "    <summary> Solution (click me)</summary>\n",
    "    \n",
    "    # Pythonic way:\n",
    "    print('banana' in fruits)\n",
    "</details>"
   ]
  },
  {
   "cell_type": "code",
   "execution_count": null,
   "metadata": {},
   "outputs": [],
   "source": [
    "# Example 3: Non-Pythonic vs Pythonic - Joining strings\n",
    "words = ['Hello', 'world', 'Python']\n",
    "\n",
    "# Non-Pythonic\n",
    "result = ''\n",
    "for word in words:\n",
    "    result += word + ' '\n",
    "print(result)"
   ]
  },
  {
   "cell_type": "markdown",
   "metadata": {},
   "source": [
    "<details>\n",
    "    <summary> Solution (click me)</summary>\n",
    "    \n",
    "    # Pythonic way:\n",
    "    result = ' '.join(words)\n",
    "    print(result)\n",
    "</details>"
   ]
  },
  {
   "cell_type": "code",
   "execution_count": null,
   "metadata": {},
   "outputs": [],
   "source": [
    "# Example 4: Non-Pythonic vs Pythonic - Iterating with for loop\n",
    "# Non-Pythonic\n",
    "i = 0\n",
    "while i < 5:\n",
    "    print(i)\n",
    "    i += 1"
   ]
  },
  {
   "cell_type": "markdown",
   "metadata": {},
   "source": [
    "<details>\n",
    "    <summary> Solution (click me)</summary>\n",
    "    \n",
    "    # Pythonic way:\n",
    "    for i in range(5):\n",
    "        print(i)\n",
    "</details>"
   ]
  },
  {
   "cell_type": "code",
   "execution_count": null,
   "metadata": {},
   "outputs": [],
   "source": [
    "# Example 5: Non-Pythonic vs Pythonic - File handling\n",
    "# Non-Pythonic\n",
    "file = open('data/example_spectrum.dsv', 'r')\n",
    "content = file.read()\n",
    "file.close()"
   ]
  },
  {
   "cell_type": "markdown",
   "metadata": {},
   "source": [
    "<details>\n",
    "    <summary> Solution (click me)</summary>\n",
    "    \n",
    "    # Pythonic way\n",
    "    with open('data/example_spectrum.dsv', 'r') as file:\n",
    "        content = file.read()\n",
    "</details>"
   ]
  },
  {
   "cell_type": "code",
   "execution_count": null,
   "metadata": {},
   "outputs": [],
   "source": [
    "# Example 6: Non-Pythonic vs Pythonic - Dictionary key existence check\n",
    "student = {'name': 'John', 'age': 20}\n",
    "\n",
    "# Non-Pythonic\n",
    "if 'name' in student:\n",
    "    print(student['name'])"
   ]
  },
  {
   "cell_type": "markdown",
   "metadata": {},
   "source": [
    "<details>\n",
    "    <summary> Solution (click me)</summary>\n",
    "    \n",
    "    # Pythonic way:\n",
    "    print(student.get('name'))\n",
    "</details>"
   ]
  },
  {
   "cell_type": "code",
   "execution_count": null,
   "metadata": {},
   "outputs": [],
   "source": [
    "# Example 7: Non-Pythonic vs Pythonic - Enumerating a list\n",
    "fruits = ['apple', 'banana', 'orange']\n",
    "\n",
    "# Non-Pythonic\n",
    "for i in range(len(fruits)):\n",
    "    print(i, fruits[i])"
   ]
  },
  {
   "cell_type": "markdown",
   "metadata": {},
   "source": [
    "<details>\n",
    "    <summary> Solution (click me)</summary>\n",
    "    \n",
    "    # Pythonic way:\n",
    "    for i, fruit in enumerate(fruits):\n",
    "        print(i, fruit)\n",
    "</details>"
   ]
  },
  {
   "cell_type": "code",
   "execution_count": null,
   "metadata": {},
   "outputs": [],
   "source": [
    "# Example 8: Non-Pythonic vs Pythonic - Reversing a list\n",
    "numbers = [1, 2, 3, 4, 5]\n",
    "\n",
    "# Non-Pythonic\n",
    "reversed_numbers = []\n",
    "for i in range(len(numbers)-1, -1, -1):\n",
    "    reversed_numbers.append(numbers[i])\n",
    "print(reversed_numbers)"
   ]
  },
  {
   "cell_type": "markdown",
   "metadata": {},
   "source": [
    "<details>\n",
    "    <summary> Solution (click me)</summary>\n",
    "    \n",
    "    # Pythonic way:\n",
    "    # reversed_numbers = list(reversed(numbers))\n",
    "    reversed_numbers = numbers[::-1]\n",
    "    print(reversed_numbers)\n",
    "</details>"
   ]
  },
  {
   "cell_type": "code",
   "execution_count": null,
   "metadata": {},
   "outputs": [],
   "source": [
    "# Example 9: Non-Pythonic vs Pythonic - Conditional assignment\n",
    "score = 85\n",
    "\n",
    "# Non-Pythonic\n",
    "grade = None\n",
    "if score >= 90:\n",
    "    grade = 'A'\n",
    "else:\n",
    "    grade = 'B'\n",
    "print(grade)"
   ]
  },
  {
   "cell_type": "markdown",
   "metadata": {},
   "source": [
    "<details>\n",
    "    <summary> Solution (click me)</summary>\n",
    "    \n",
    "    # Pythonic way:\n",
    "    grade = 'A' if score >= 90 else 'B'\n",
    "    print(grade)\n",
    "</details>"
   ]
  },
  {
   "cell_type": "code",
   "execution_count": null,
   "metadata": {},
   "outputs": [],
   "source": [
    "# Example 10: Non-Pythonic vs Pythonic - Merging two dictionaries\n",
    "dict1 = {'a': 1, 'b': 2}\n",
    "dict2 = {'c': 3, 'd': 4}\n",
    "\n",
    "# Non-Pythonic\n",
    "merged_dict = dict1.copy()\n",
    "merged_dict.update(dict2)\n",
    "print(merged_dict)"
   ]
  },
  {
   "cell_type": "markdown",
   "metadata": {},
   "source": [
    "<details>\n",
    "    <summary> Solution (click me)</summary>\n",
    "    \n",
    "    # Pythonic way:\n",
    "    merged_dict = {**dict1, **dict2}\n",
    "    # merged_dict = dict1 | dict2 # python>=3.9\n",
    "    print(merged_dict)\n",
    "</details>"
   ]
  },
  {
   "cell_type": "code",
   "execution_count": null,
   "metadata": {},
   "outputs": [],
   "source": [
    "# Example 11: Non-Pythonic vs Pythonic - Finding unique elements in a list\n",
    "numbers = [1, 2, 3, 2, 4, 1, 5]\n",
    "\n",
    "# Non-Pythonic\n",
    "unique_numbers = []\n",
    "for num in numbers:\n",
    "    if num not in unique_numbers:\n",
    "        unique_numbers.append(num)\n",
    "print(unique_numbers)"
   ]
  },
  {
   "cell_type": "markdown",
   "metadata": {},
   "source": [
    "<details>\n",
    "    <summary> Solution (click me)</summary>\n",
    "    \n",
    "    # Pythonic way:\n",
    "    unique_numbers = list(set(numbers))\n",
    "    print(unique_numbers)\n",
    "</details>"
   ]
  },
  {
   "cell_type": "code",
   "execution_count": null,
   "metadata": {},
   "outputs": [],
   "source": [
    "# Example 12: Non-Pythonic vs Pythonic - variable exchange\n",
    "a, b = 4, 2\n",
    "\n",
    "# Non-Pythonic\n",
    "temp = a\n",
    "a = b\n",
    "b = temp\n",
    "print(a, b)"
   ]
  },
  {
   "cell_type": "markdown",
   "metadata": {},
   "source": [
    "<details>\n",
    "    <summary> Solution (click me)</summary>\n",
    "    \n",
    "    # Pythonic way:\n",
    "    a,b = b,a\n",
    "    print(a, b)\n",
    "</details>"
   ]
  },
  {
   "cell_type": "code",
   "execution_count": null,
   "metadata": {},
   "outputs": [],
   "source": [
    "# Example 13: Non-Pythonic vs Pythonic - filtering list\n",
    "a = [7, 8, 9, 10]\n",
    "\n",
    "# Non-Pythonic\n",
    "b = []\n",
    "for i in a:\n",
    "    if i > 8:\n",
    "        b.append(i)\n",
    "print(b)"
   ]
  },
  {
   "cell_type": "markdown",
   "metadata": {},
   "source": [
    "<details>\n",
    "    <summary> Solution (click me)</summary>\n",
    "    \n",
    "    # Pythonic way:\n",
    "    b = [i for i in a if i > 8]\n",
    "    # Or:\n",
    "    b = filter(lambda x: x > 8, a)\n",
    "    print(b)\n",
    "</details>"
   ]
  },
  {
   "cell_type": "code",
   "execution_count": null,
   "metadata": {},
   "outputs": [],
   "source": [
    "# Example 14: Non-Pythonic vs Pythonic - chain comprehension\n",
    "age = 70\n",
    "\n",
    "# Non-Pythonic\n",
    "if age > 60 and age < 100:\n",
    "    print(\"Non Pythonic condition\")"
   ]
  },
  {
   "cell_type": "markdown",
   "metadata": {},
   "source": [
    "<details>\n",
    "    <summary> Solution (click me)</summary>\n",
    "    \n",
    "    # Pythonic way:\n",
    "    if 60 < age < 100:\n",
    "        print(\"Pythonic condition\")\n",
    "</details>"
   ]
  },
  {
   "cell_type": "code",
   "execution_count": null,
   "metadata": {},
   "outputs": [],
   "source": []
  }
 ],
 "metadata": {
  "colab": {
   "authorship_tag": "ABX9TyMivAYElQrpVpwXp9bwXpe4",
   "collapsed_sections": [],
   "name": "07_zadanie.ipynb",
   "provenance": []
  },
  "kernelspec": {
   "display_name": "Python 3 (ipykernel)",
   "language": "python",
   "name": "python3"
  },
  "language_info": {
   "codemirror_mode": {
    "name": "ipython",
    "version": 3
   },
   "file_extension": ".py",
   "mimetype": "text/x-python",
   "name": "python",
   "nbconvert_exporter": "python",
   "pygments_lexer": "ipython3",
   "version": "3.8.3"
  }
 },
 "nbformat": 4,
 "nbformat_minor": 1
}
