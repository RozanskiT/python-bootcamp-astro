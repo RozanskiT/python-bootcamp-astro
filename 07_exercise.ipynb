{
 "cells": [
  {
   "cell_type": "markdown",
   "metadata": {
    "id": "ZQ6vj_TJUTzG"
   },
   "source": [
    "# Draw color-color diagram"
   ]
  },
  {
   "cell_type": "code",
   "execution_count": 2,
   "metadata": {
    "id": "IifbEKlXYbnQ"
   },
   "outputs": [],
   "source": [
    "!pip install astroquery"
   ]
  },
  {
   "cell_type": "code",
   "execution_count": 3,
   "metadata": {
    "executionInfo": {
     "elapsed": 1459,
     "status": "ok",
     "timestamp": 1607011234903,
     "user": {
      "displayName": "Tomasz Różański",
      "photoUrl": "https://lh4.googleusercontent.com/-CdAQaQI9V1E/AAAAAAAAAAI/AAAAAAAAAvI/rnNPiSw4f80/s64/photo.jpg",
      "userId": "09904144145241711927"
     },
     "user_tz": -60
    },
    "id": "yDAbF_wEPU-I"
   },
   "outputs": [],
   "source": [
    "from astroquery.simbad import Simbad\n",
    "# https://astroquery.readthedocs.io/en/latest/simbad/simbad.html\n",
    "Simbad.add_votable_fields('typed_id')"
   ]
  },
  {
   "cell_type": "markdown",
   "metadata": {
    "id": "erVK5i7_X4xD"
   },
   "source": [
    "### Path to data directory"
   ]
  },
  {
   "cell_type": "code",
   "execution_count": 14,
   "metadata": {
    "colab": {
     "base_uri": "https://localhost:8080/"
    },
    "executionInfo": {
     "elapsed": 674,
     "status": "ok",
     "timestamp": 1607011255917,
     "user": {
      "displayName": "Tomasz Różański",
      "photoUrl": "https://lh4.googleusercontent.com/-CdAQaQI9V1E/AAAAAAAAAAI/AAAAAAAAAvI/rnNPiSw4f80/s64/photo.jpg",
      "userId": "09904144145241711927"
     },
     "user_tz": -60
    },
    "id": "ncjgMjmLXr2p",
    "outputId": "93aeee5f-fb31-49a9-cf09-e019126cd59a"
   },
   "outputs": [
    {
     "name": "stdout",
     "output_type": "stream",
     "text": [
      "../data\n"
     ]
    }
   ],
   "source": [
    "import os\n",
    "\n",
    "data_directory_path= \"../data\" # If saved elswhere, this must be changed\n",
    "print(data_directory_path)"
   ]
  },
  {
   "cell_type": "markdown",
   "metadata": {
    "id": "csl7ES7mX8p_"
   },
   "source": [
    "### Reading data from Simbad"
   ]
  },
  {
   "cell_type": "code",
   "execution_count": 15,
   "metadata": {
    "id": "QX_X1SooYAPu"
   },
   "outputs": [
    {
     "name": "stdout",
     "output_type": "stream",
     "text": [
      "--NOTES--\n",
      "\n",
      "1. The parameter filtername must correspond to an existing filter. Filters include: B,V,R,I,J,K.  They are checked by SIMBAD but not astroquery.simbad\n",
      "\n",
      "2. Fields beginning with rvz display the data as it is in the database. Fields beginning with rv force the display as a radial velocity. Fields beginning with z force the display as a redshift\n",
      "\n",
      "3. For each measurement catalog, the VOTable contains all fields of the first measurement. When applicable, the first measurement is the mean one. \n",
      "\n",
      "Available VOTABLE fields:\n",
      "\n",
      "bibcodelist(y1-y2)\n",
      "biblio\n",
      "cel\n",
      "cl.g\n",
      "coo(opt)\n",
      "coo_bibcode\n",
      "coo_err_angle\n",
      "coo_err_maja\n",
      "coo_err_mina\n",
      "coo_qual\n",
      "coo_wavelength\n",
      "coordinates\n",
      "dec(opt)\n",
      "dec_prec\n",
      "diameter\n",
      "dim\n",
      "dim_angle\n",
      "dim_bibcode\n",
      "dim_incl\n",
      "dim_majaxis\n",
      "dim_minaxis\n",
      "dim_qual\n",
      "dim_wavelength\n",
      "dimensions\n",
      "distance\n",
      "distance_result\n",
      "einstein\n",
      "fe_h\n",
      "flux(filtername)\n",
      "flux_bibcode(filtername)\n",
      "flux_error(filtername)\n",
      "flux_name(filtername)\n",
      "flux_qual(filtername)\n",
      "flux_system(filtername)\n",
      "flux_unit(filtername)\n",
      "fluxdata(filtername)\n",
      "gcrv\n",
      "gen\n",
      "gj\n",
      "hbet\n",
      "hbet1\n",
      "hgam\n",
      "id(opt)\n",
      "ids\n",
      "iras\n",
      "irc\n",
      "iso\n",
      "iue\n",
      "jp11\n",
      "link_bibcode\n",
      "main_id\n",
      "measurements\n",
      "membership\n",
      "mesplx\n",
      "mespm\n",
      "mk\n",
      "morphtype\n",
      "mt\n",
      "mt_bibcode\n",
      "mt_qual\n",
      "otype\n",
      "otype(opt)\n",
      "otypes\n",
      "parallax\n",
      "plx\n",
      "plx_bibcode\n",
      "plx_error\n",
      "plx_prec\n",
      "plx_qual\n",
      "pm\n",
      "pm_bibcode\n",
      "pm_err_angle\n",
      "pm_err_maja\n",
      "pm_err_mina\n",
      "pm_qual\n",
      "pmdec\n",
      "pmdec_prec\n",
      "pmra\n",
      "pmra_prec\n",
      "pos\n",
      "posa\n",
      "propermotions\n",
      "ra(opt)\n",
      "ra_prec\n",
      "rot\n",
      "rv_value\n",
      "rvz_bibcode\n",
      "rvz_error\n",
      "rvz_qual\n",
      "rvz_radvel\n",
      "rvz_type\n",
      "rvz_wavelength\n",
      "sao\n",
      "sp\n",
      "sp_bibcode\n",
      "sp_nature\n",
      "sp_qual\n",
      "sptype\n",
      "td1\n",
      "typed_id\n",
      "ubv\n",
      "uvby\n",
      "uvby1\n",
      "v*\n",
      "velocity\n",
      "xmm\n",
      "z_value\n",
      "For more information on a field:\n",
      "Simbad.get_field_description ('field_name') \n",
      "Currently active VOTABLE fields:\n",
      " ['main_id', 'coordinates', 'typed_id', 'flux(U)', 'flux(B)', 'flux(V)', 'mk']\n"
     ]
    }
   ],
   "source": [
    "Simbad.list_votable_fields()"
   ]
  },
  {
   "cell_type": "code",
   "execution_count": 16,
   "metadata": {
    "executionInfo": {
     "elapsed": 947,
     "status": "ok",
     "timestamp": 1607011259098,
     "user": {
      "displayName": "Tomasz Różański",
      "photoUrl": "https://lh4.googleusercontent.com/-CdAQaQI9V1E/AAAAAAAAAAI/AAAAAAAAAvI/rnNPiSw4f80/s64/photo.jpg",
      "userId": "09904144145241711927"
     },
     "user_tz": -60
    },
    "id": "2OuZFoK0Y8pJ"
   },
   "outputs": [],
   "source": [
    "for vo_field in [\"flux(U)\",\"flux(B)\",\"flux(V)\",\"mk\"]:\n",
    "    Simbad.add_votable_fields(vo_field)"
   ]
  },
  {
   "cell_type": "code",
   "execution_count": 17,
   "metadata": {
    "executionInfo": {
     "elapsed": 1984,
     "status": "ok",
     "timestamp": 1607011260361,
     "user": {
      "displayName": "Tomasz Różański",
      "photoUrl": "https://lh4.googleusercontent.com/-CdAQaQI9V1E/AAAAAAAAAAI/AAAAAAAAAvI/rnNPiSw4f80/s64/photo.jpg",
      "userId": "09904144145241711927"
     },
     "user_tz": -60
    },
    "id": "ihvbZAhSXr79"
   },
   "outputs": [],
   "source": [
    "result_table = Simbad.query_objects([\"Sirius\"])"
   ]
  },
  {
   "cell_type": "code",
   "execution_count": 18,
   "metadata": {
    "colab": {
     "base_uri": "https://localhost:8080/",
     "height": 117
    },
    "executionInfo": {
     "elapsed": 1674,
     "status": "ok",
     "timestamp": 1607011260364,
     "user": {
      "displayName": "Tomasz Różański",
      "photoUrl": "https://lh4.googleusercontent.com/-CdAQaQI9V1E/AAAAAAAAAAI/AAAAAAAAAvI/rnNPiSw4f80/s64/photo.jpg",
      "userId": "09904144145241711927"
     },
     "user_tz": -60
    },
    "id": "BpPzuWVdYkuf",
    "outputId": "6847d8b7-790e-4ef6-dd9b-6e6bfbe07489"
   },
   "outputs": [
    {
     "data": {
      "text/html": [
       "<div>\n",
       "<style scoped>\n",
       "    .dataframe tbody tr th:only-of-type {\n",
       "        vertical-align: middle;\n",
       "    }\n",
       "\n",
       "    .dataframe tbody tr th {\n",
       "        vertical-align: top;\n",
       "    }\n",
       "\n",
       "    .dataframe thead th {\n",
       "        text-align: right;\n",
       "    }\n",
       "</style>\n",
       "<table border=\"1\" class=\"dataframe\">\n",
       "  <thead>\n",
       "    <tr style=\"text-align: right;\">\n",
       "      <th></th>\n",
       "      <th>MAIN_ID</th>\n",
       "      <th>RA</th>\n",
       "      <th>DEC</th>\n",
       "      <th>RA_PREC</th>\n",
       "      <th>DEC_PREC</th>\n",
       "      <th>COO_ERR_MAJA</th>\n",
       "      <th>COO_ERR_MINA</th>\n",
       "      <th>COO_ERR_ANGLE</th>\n",
       "      <th>COO_QUAL</th>\n",
       "      <th>COO_WAVELENGTH</th>\n",
       "      <th>...</th>\n",
       "      <th>MK_Spectral_type</th>\n",
       "      <th>MK_bibcode</th>\n",
       "      <th>FLUX_U_1</th>\n",
       "      <th>FLUX_B_1</th>\n",
       "      <th>FLUX_V_1</th>\n",
       "      <th>MK_ds_1</th>\n",
       "      <th>MK_mss_1</th>\n",
       "      <th>MK_Spectral_type_1</th>\n",
       "      <th>MK_bibcode_1</th>\n",
       "      <th>SCRIPT_NUMBER_ID</th>\n",
       "    </tr>\n",
       "  </thead>\n",
       "  <tbody>\n",
       "    <tr>\n",
       "      <th>0</th>\n",
       "      <td>* alf CMa</td>\n",
       "      <td>06 45 08.9172</td>\n",
       "      <td>-16 42 58.017</td>\n",
       "      <td>9</td>\n",
       "      <td>9</td>\n",
       "      <td>11.7</td>\n",
       "      <td>10.9</td>\n",
       "      <td>90</td>\n",
       "      <td>A</td>\n",
       "      <td>O</td>\n",
       "      <td>...</td>\n",
       "      <td>A0</td>\n",
       "      <td>1993yCat.3135....0C</td>\n",
       "      <td>-1.51</td>\n",
       "      <td>-1.46</td>\n",
       "      <td>-1.46</td>\n",
       "      <td></td>\n",
       "      <td></td>\n",
       "      <td>A0</td>\n",
       "      <td>1993yCat.3135....0C</td>\n",
       "      <td>1</td>\n",
       "    </tr>\n",
       "  </tbody>\n",
       "</table>\n",
       "<p>1 rows × 27 columns</p>\n",
       "</div>"
      ],
      "text/plain": [
       "     MAIN_ID             RA            DEC  RA_PREC  DEC_PREC  COO_ERR_MAJA  \\\n",
       "0  * alf CMa  06 45 08.9172  -16 42 58.017        9         9          11.7   \n",
       "\n",
       "   COO_ERR_MINA  COO_ERR_ANGLE COO_QUAL COO_WAVELENGTH  ... MK_Spectral_type  \\\n",
       "0          10.9             90        A              O  ...               A0   \n",
       "\n",
       "            MK_bibcode  FLUX_U_1  FLUX_B_1  FLUX_V_1 MK_ds_1 MK_mss_1  \\\n",
       "0  1993yCat.3135....0C     -1.51     -1.46     -1.46                    \n",
       "\n",
       "  MK_Spectral_type_1         MK_bibcode_1  SCRIPT_NUMBER_ID  \n",
       "0                 A0  1993yCat.3135....0C                 1  \n",
       "\n",
       "[1 rows x 27 columns]"
      ]
     },
     "execution_count": 18,
     "metadata": {},
     "output_type": "execute_result"
    }
   ],
   "source": [
    "result_table= result_table.to_pandas()\n",
    "result_table"
   ]
  },
  {
   "cell_type": "code",
   "execution_count": 19,
   "metadata": {},
   "outputs": [
    {
     "name": "stdout",
     "output_type": "stream",
     "text": [
      "[-1.51] [-1.46] [-1.46]\n"
     ]
    }
   ],
   "source": [
    "FLUX_U= result_table[\"FLUX_U\"].values\n",
    "FLUX_B= result_table[\"FLUX_B\"].values\n",
    "FLUX_V= result_table[\"FLUX_V\"].values\n",
    "print(FLUX_U, FLUX_B, FLUX_V)"
   ]
  },
  {
   "cell_type": "code",
   "execution_count": 20,
   "metadata": {},
   "outputs": [
    {
     "data": {
      "text/plain": [
       "<matplotlib.collections.PathCollection at 0x7ff2dfe6e370>"
      ]
     },
     "execution_count": 20,
     "metadata": {},
     "output_type": "execute_result"
    },
    {
     "data": {
      "image/png": "[encoded data removed]",
      "text/plain": [
       "<Figure size 640x480 with 1 Axes>"
      ]
     },
     "metadata": {},
     "output_type": "display_data"
    }
   ],
   "source": [
    "import matplotlib.pyplot as plt\n",
    "plt.scatter(FLUX_U, FLUX_B)"
   ]
  },
  {
   "cell_type": "markdown",
   "metadata": {
    "id": "Woh5KFqnZ4X5"
   },
   "source": [
    "### Task\n",
    "\n",
    "* Load the star list `star_list.dat`.\n",
    "\n",
    "* Plot a color-color diagram for those stars: (U-B) vs. (B-V).\n",
    "\n",
    "* Select one star from each spectral type and retrieve their spectra obtained in the [UVES POP (Field Stars)](http://www.eso.org/sci/observing/tools/uvespop/field_stars_uptonow.html) project. Display their spectral lines - H$\\alpha$ (~6650) - on the plot."
   ]
  },
  {
   "cell_type": "code",
   "execution_count": 21,
   "metadata": {
    "executionInfo": {
     "elapsed": 646,
     "status": "ok",
     "timestamp": 1607011266525,
     "user": {
      "displayName": "Tomasz Różański",
      "photoUrl": "https://lh4.googleusercontent.com/-CdAQaQI9V1E/AAAAAAAAAAI/AAAAAAAAAvI/rnNPiSw4f80/s64/photo.jpg",
      "userId": "09904144145241711927"
     },
     "user_tz": -60
    },
    "id": "7AkY2ozYYmHu"
   },
   "outputs": [],
   "source": [
    "file_path= os.path.join(data_directory_path,\"star_list.txt\")"
   ]
  },
  {
   "cell_type": "code",
   "execution_count": 22,
   "metadata": {
    "executionInfo": {
     "elapsed": 1636,
     "status": "ok",
     "timestamp": 1607011269878,
     "user": {
      "displayName": "Tomasz Różański",
      "photoUrl": "https://lh4.googleusercontent.com/-CdAQaQI9V1E/AAAAAAAAAAI/AAAAAAAAAvI/rnNPiSw4f80/s64/photo.jpg",
      "userId": "09904144145241711927"
     },
     "user_tz": -60
    },
    "id": "eIZq01mkDn9g"
   },
   "outputs": [],
   "source": [
    "stars_names= [] # Below read star names to empty list star_names\n",
    "# ..."
   ]
  },
  {
   "cell_type": "code",
   "execution_count": 23,
   "metadata": {
    "executionInfo": {
     "elapsed": 10996,
     "status": "ok",
     "timestamp": 1607011279595,
     "user": {
      "displayName": "Tomasz Różański",
      "photoUrl": "https://lh4.googleusercontent.com/-CdAQaQI9V1E/AAAAAAAAAAI/AAAAAAAAAvI/rnNPiSw4f80/s64/photo.jpg",
      "userId": "09904144145241711927"
     },
     "user_tz": -60
    },
    "id": "WVkuV_icDpJn"
   },
   "outputs": [],
   "source": [
    "# Use Simbad.query_objects to download information about the whole sample"
   ]
  },
  {
   "cell_type": "code",
   "execution_count": 25,
   "metadata": {
    "executionInfo": {
     "elapsed": 658,
     "status": "ok",
     "timestamp": 1607011394164,
     "user": {
      "displayName": "Tomasz Różański",
      "photoUrl": "https://lh4.googleusercontent.com/-CdAQaQI9V1E/AAAAAAAAAAI/AAAAAAAAAvI/rnNPiSw4f80/s64/photo.jpg",
      "userId": "09904144145241711927"
     },
     "user_tz": -60
    },
    "id": "UmoVo0ghEG2-"
   },
   "outputs": [],
   "source": [
    "# Calculate color indices U-B and B-V"
   ]
  },
  {
   "cell_type": "code",
   "execution_count": 26,
   "metadata": {
    "colab": {
     "base_uri": "https://localhost:8080/",
     "height": 282
    },
    "executionInfo": {
     "elapsed": 1091,
     "status": "ok",
     "timestamp": 1607011396466,
     "user": {
      "displayName": "Tomasz Różański",
      "photoUrl": "https://lh4.googleusercontent.com/-CdAQaQI9V1E/AAAAAAAAAAI/AAAAAAAAAvI/rnNPiSw4f80/s64/photo.jpg",
      "userId": "09904144145241711927"
     },
     "user_tz": -60
    },
    "id": "Kr_fy3LiFGlt",
    "outputId": "8004ba87-7109-400b-e59f-0677b3c8ea23"
   },
   "outputs": [],
   "source": [
    "# Display color-color diagram using plt.scatter(FLUX_U, FLUX_B)"
   ]
  }
 ],
 "metadata": {
  "colab": {
   "authorship_tag": "ABX9TyMivAYElQrpVpwXp9bwXpe4",
   "collapsed_sections": [],
   "name": "07_zadanie.ipynb",
   "provenance": []
  },
  "kernelspec": {
   "display_name": "Python 3 (ipykernel)",
   "language": "python",
   "name": "python3"
  },
  "language_info": {
   "codemirror_mode": {
    "name": "ipython",
    "version": 3
   },
   "file_extension": ".py",
   "mimetype": "text/x-python",
   "name": "python",
   "nbconvert_exporter": "python",
   "pygments_lexer": "ipython3",
   "version": "3.8.16"
  }
 },
 "nbformat": 4,
 "nbformat_minor": 1
}
