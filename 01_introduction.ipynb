{
 "cells": [
  {
   "cell_type": "markdown",
   "metadata": {
    "id": "3rCO8TpfnpzM"
   },
   "source": [
    "# Programming\n",
    "\n",
    "There are many programming languages and many programming styles, fortunately, they differ slightly from each other compared to how different natural languages are from each other, for example, Polish and Chinese.\n",
    "\n",
    "#### Computers\n",
    "\n",
    "Without computers, there would be no programming. Without programming languages, computers would be useless. The development of computers has enabled simulations that have helped to better understand processes such as the formation of galaxies, open and globular clusters, stars and their evolution. Computer simulations have been involved in all problems for which there are no analytical solutions. In all such cases, we have to rely on the results of these approximate calculations.\n",
    "\n",
    "What's more, the importance of using computers in astronomy is constantly growing. All of modern radio astronomy, photometric sky surveys, or satellite research would not be possible without the use of supercomputers assisting research at all stages: collection, processing, and image analysis.\n",
    "\n",
    "For this reason, an astronomer in his array of skills, besides mathematics and physics, should also reach for programming in its broadest sense.\n",
    "\n",
    "#### A brief comparison of Python, C, and FORTRAN.\n",
    "Implementation of [Caesar cipher](https://en.wikipedia.org/wiki/Caesar_cipher):\n",
    "---\n",
    "**Python**\n",
    "```\n",
    "def caesar(s, k, decode = False):\n",
    "\tif decode: k = 26 - k\n",
    "\treturn \"\".join([chr((ord(i) - 65 + k) % 26 + 65)\n",
    "\t\t\t\tfor i in s.upper()\n",
    "\t\t\t\tif ord(i) >= 65 and ord(i) <= 90 ])\n",
    " \n",
    "msg = \"The quick brown fox jumped over the lazy dogs\"\n",
    "print(msg)\n",
    "enc = caesar(msg, 11)\n",
    "print(enc)\n",
    "print caesar(enc, 11, decode = True)\n",
    "```\n",
    "---\n",
    "**C**\n",
    "```\n",
    "#include <stdio.h>\n",
    "#include <stdlib.h>\n",
    "#include <string.h>\n",
    "#include <ctype.h>\n",
    " \n",
    "#define caesar(x) rot(13, x)\n",
    "#define decaesar(x) rot(13, x)\n",
    "#define decrypt_rot(x, y) rot((26-x), y)\n",
    " \n",
    "void rot(int c, char *str)\n",
    "{\n",
    "\tint l = strlen(str);\n",
    "\tconst char *alpha[2] = { \"abcdefghijklmnopqrstuvwxyz\", \"ABCDEFGHIJKLMNOPQRSTUVWXYZ\"};\n",
    " \n",
    "\tint i;\n",
    "\tfor (i = 0; i < l; i++)\n",
    "\t{\n",
    "\t\tif (!isalpha(str[i]))\n",
    "\t\t\tcontinue;\n",
    " \n",
    "\t\tif (isupper(str[i]))\n",
    "                        str[i] = alpha[1][((int)(tolower(str[i]) - 'a') + c) % 26];\n",
    "                else\n",
    "                        str[i] = alpha[0][((int)(tolower(str[i]) - 'a') + c) % 26];\n",
    "\t}\n",
    "}\n",
    " \n",
    " \n",
    "int main()\n",
    "{\n",
    "\tchar str[] = \"This is a top secret text message!\";\n",
    " \n",
    "\tprintf(\"Original: %s\\n\", str);\n",
    "\tcaesar(str);\n",
    "\tprintf(\"Encrypted: %s\\n\", str);\n",
    "\tdecaesar(str);\n",
    "\tprintf(\"Decrypted: %s\\n\", str);\n",
    " \n",
    "\treturn 0;\n",
    "}\n",
    "```\n",
    "---\n",
    "**FORTRAN**\n",
    "```\n",
    "program Caesar_Cipher\n",
    "  implicit none\n",
    " \n",
    "  integer, parameter :: key = 3     \n",
    "  character(43) :: message = \"The five boxing wizards jump quickly\"\n",
    " \n",
    "  write(*, \"(2a)\") \"Original message  = \", message\n",
    "  call encrypt(message)\n",
    "  write(*, \"(2a)\") \"Encrypted message = \", message\n",
    "  call decrypt(message)\n",
    "  write(*, \"(2a)\") \"Decrypted message = \", message\n",
    " \n",
    "contains\n",
    " \n",
    "subroutine encrypt(text)\n",
    "  character(*), intent(inout) :: text\n",
    "  integer :: i\n",
    " \n",
    "  do i = 1, len(text)\n",
    "    select case(text(i:i))\n",
    "      case ('A':'Z')\n",
    "        text(i:i) = achar(modulo(iachar(text(i:i)) - 65 + key, 26) + 65)\n",
    "      case ('a':'z')\n",
    "        text(i:i) = achar(modulo(iachar(text(i:i)) - 97 + key, 26) + 97)\n",
    "    end select\n",
    "  end do\n",
    "end subroutine\n",
    " \n",
    "subroutine decrypt(text)\n",
    "  character(*), intent(inout) :: text\n",
    "  integer :: i\n",
    " \n",
    "  do i = 1, len(text)\n",
    "    select case(text(i:i))\n",
    "      case ('A':'Z')\n",
    "        text(i:i) = achar(modulo(iachar(text(i:i)) - 65 - key, 26) + 65)\n",
    "      case ('a':'z')\n",
    "        text(i:i) = achar(modulo(iachar(text(i:i)) - 97 - key, 26) + 97)\n",
    "    end select\n",
    "  end do\n",
    "end subroutine\n",
    " \n",
    "end program Caesar_Cipher\n",
    "```\n",
    "\n"
   ]
  },
  {
   "cell_type": "markdown",
   "metadata": {
    "id": "9Vjta_W_qKRW"
   },
   "source": [
    "---\n",
    "It's clear now why we start learning with Python - it hides many technical details that an astronomer doesn't necessarily have to worry about.\n",
    "\n",
    "\"Boring\" features of Python, worth hearing about once in a lifetime:\n",
    "\n",
    "- it works on all basic operating systems (Windows, MacOS, Ubuntu, etc.),\n",
    "- it has a simple syntax based on English,\n",
    "- programs written in it are usually much shorter than those written in other programming languages,\n",
    "- it supports procedural, object-oriented, and functional programming,\n",
    "- it has two versions, 2. and 3., which are not compatible with each other; today, Python 3 is the standard,\n",
    "- it is strongly, dynamically typed.\n"
   ]
  },
  {
   "cell_type": "markdown",
   "metadata": {
    "id": "VOervumsuINC"
   },
   "source": [
    "---\n",
    "\n",
    "In real code, you can use the `caesar` function to encrypt and decrypt messages with the Caesar cipher:"
   ]
  },
  {
   "cell_type": "code",
   "execution_count": null,
   "metadata": {
    "colab": {
     "base_uri": "https://localhost:8080/"
    },
    "executionInfo": {
     "elapsed": 846,
     "status": "ok",
     "timestamp": 1606408756203,
     "user": {
      "displayName": "Tomasz Różański",
      "photoUrl": "https://lh4.googleusercontent.com/-CdAQaQI9V1E/AAAAAAAAAAI/AAAAAAAAAvI/rnNPiSw4f80/s64/photo.jpg",
      "userId": "09904144145241711927"
     },
     "user_tz": -60
    },
    "id": "zx5X0xE1mHKG",
    "outputId": "541fbd4d-7a75-4ddd-9175-8468542165f5"
   },
   "outputs": [],
   "source": [
    "def caesar(s, k, decode = False):\n",
    "\tif decode: k = 26 - k\n",
    "\treturn \"\".join([chr((ord(i) - 65 + k) % 26 + 65)\n",
    "\t\t\t\tfor i in s.upper()\n",
    "\t\t\t\tif ord(i) >= 65 and ord(i) <= 90 ])\n",
    " \n",
    "msg = \"The quick brown fox jumped over the lazy dogs\"\n",
    "print(msg)\n",
    "enc = caesar(msg, 11)\n",
    "print(enc)\n",
    "print(caesar(enc, 11, decode = True))"
   ]
  },
  {
   "cell_type": "markdown",
   "metadata": {
    "id": "DM0k78urm3Pp"
   },
   "source": [
    "In the next notebook, you can find information about the basics of the Python language."
   ]
  },
  {
   "cell_type": "code",
   "execution_count": null,
   "metadata": {},
   "outputs": [],
   "source": []
  }
 ],
 "metadata": {
  "colab": {
   "authorship_tag": "ABX9TyPaIEwyODCxoqUAZeKiYlM3",
   "collapsed_sections": [],
   "name": "02_wprowadzenie.ipynb",
   "provenance": []
  },
  "kernelspec": {
   "display_name": "Python 3 (ipykernel)",
   "language": "python",
   "name": "python3"
  },
  "language_info": {
   "codemirror_mode": {
    "name": "ipython",
    "version": 3
   },
   "file_extension": ".py",
   "mimetype": "text/x-python",
   "name": "python",
   "nbconvert_exporter": "python",
   "pygments_lexer": "ipython3",
   "version": "3.8.3"
  }
 },
 "nbformat": 4,
 "nbformat_minor": 1
}
