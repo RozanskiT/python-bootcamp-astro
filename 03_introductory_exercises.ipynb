{
 "cells": [
  {
   "cell_type": "markdown",
   "metadata": {},
   "source": [
    "# Tasks\n",
    "\n",
    "1. To practice the syntax in short questions and answers, I recommend visiting the tests on the website: https://www.w3schools.com/python/exercise.asp. The tutorial on w3schools is much more comprehensive in terms of introducing various language elements: https://www.w3schools.com/python/.\n",
    "2. Below are a few tasks to practice these fundamentals."
   ]
  },
  {
   "cell_type": "markdown",
   "metadata": {
    "id": "5yjkEd-82Cl0"
   },
   "source": [
    "## Task -1.\n",
    "\n",
    "Assign example values to variables of different types: integer, float, string, list, tuple, dictionary, and set."
   ]
  },
  {
   "cell_type": "code",
   "execution_count": 1,
   "metadata": {
    "id": "hs8bFOMG2ZYJ"
   },
   "outputs": [
    {
     "ename": "SyntaxError",
     "evalue": "invalid syntax (784978534.py, line 3)",
     "output_type": "error",
     "traceback": [
      "\u001b[0;36m  Cell \u001b[0;32mIn[1], line 3\u001b[0;36m\u001b[0m\n\u001b[0;31m    string_value = # ...\u001b[0m\n\u001b[0m                   ^\u001b[0m\n\u001b[0;31mSyntaxError\u001b[0m\u001b[0;31m:\u001b[0m invalid syntax\n"
     ]
    }
   ],
   "source": [
    "integer_number = 10\n",
    "float_number = 3.14\n",
    "string_value = # ...\n",
    "list_values = # ...\n",
    "tuple_values = # ...\n",
    "dictionary_values = # ...\n",
    "set_values = # ..."
   ]
  },
  {
   "cell_type": "markdown",
   "metadata": {},
   "source": [
    "<details>\n",
    "<summary>Answer (click me)</summary>\n",
    "<pre><code>\n",
    "integer_number = 10\n",
    "float_number = 3.14\n",
    "string_value = \"Hello, world!\"\n",
    "list_values = [1, 2, 3, 4, 5]\n",
    "tuple_values = (6, 7, 8, 9, 10)\n",
    "dictionary_values = {\"apple\": 1, \"banana\": 2, \"orange\": 3}\n",
    "set_values = {1, 2, 3, 4, 5}\n",
    "</code></pre>\n",
    "</details>"
   ]
  },
  {
   "cell_type": "markdown",
   "metadata": {
    "id": "OFO5WFlU4rzw"
   },
   "source": [
    "## Task 0.\n",
    "\n",
    "Practice defining functions. To do this, write a function that calculates the product of two numbers."
   ]
  },
  {
   "cell_type": "code",
   "execution_count": null,
   "metadata": {
    "id": "FwPZjnH24r_i"
   },
   "outputs": [],
   "source": [
    "a= 10; b=15\n",
    "# ... itd"
   ]
  },
  {
   "cell_type": "markdown",
   "metadata": {},
   "source": [
    "<details>\n",
    "<summary>Answer (click me)</summary>\n",
    "<pre><code>\n",
    "def multiply_numbers(a, b):\n",
    "    product = a * b\n",
    "    return product\n",
    "</code></pre>\n",
    "</details>"
   ]
  },
  {
   "cell_type": "markdown",
   "metadata": {
    "id": "1JHFjlFIpem0"
   },
   "source": [
    "### Task 1.\n",
    "\n",
    "Let a = 3, b = 4, and c = 5 be the sides of a triangle. Calculate the area of this triangle using Heron's formula. (Hint: Use the `sqrt()` function from the `math` module for square root.)\n",
    "$$\n",
    "s = \\frac{a+b+c}{2}\n",
    "$$\n",
    "$$\n",
    "A= \\sqrt{s(s-a)(s-b)(s-c)}\n",
    "$$"
   ]
  },
  {
   "cell_type": "code",
   "execution_count": null,
   "metadata": {
    "id": "Altpd__Bopin"
   },
   "outputs": [],
   "source": []
  },
  {
   "cell_type": "markdown",
   "metadata": {},
   "source": [
    "<details>\n",
    "<summary>Answer (click me)</summary>\n",
    "<pre><code>\n",
    "def heron(a,b,c):\n",
    "    s = (a + b + c) / 2\n",
    "    return math.sqrt(s * (s - a) * (s - b) * (s - c))\n",
    "</code></pre>\n",
    "</details>"
   ]
  },
  {
   "cell_type": "markdown",
   "metadata": {
    "id": "CzFu-Uv8qKNI"
   },
   "source": [
    "## Taks 2.\n",
    "\n",
    "Print the names using the print function on separate lines: x = [\"Alice\", \"Bob\", \"Carol\", \"David\"]. Try using a for loop.\n",
    "\n",
    "Alice\n",
    "\n",
    "Bob\n",
    "\n",
    "Carol\n",
    "\n",
    "David"
   ]
  },
  {
   "cell_type": "code",
   "execution_count": null,
   "metadata": {
    "id": "-ovukvk_tl3m"
   },
   "outputs": [],
   "source": []
  },
  {
   "cell_type": "markdown",
   "metadata": {
    "id": "PVCSkxkBrHum"
   },
   "source": [
    "## Task 3.\n",
    "\n",
    "Write a function to display a Christmas tree made of stars:"
   ]
  },
  {
   "cell_type": "code",
   "execution_count": null,
   "metadata": {
    "id": "ccdf7QyRqL6h"
   },
   "outputs": [],
   "source": [
    "#      *  \n",
    "#     ***\n",
    "#    *****\n",
    "#   *******\n",
    "#  *********\n",
    "# ***********\n",
    "#     ***\n",
    "#     ***"
   ]
  },
  {
   "cell_type": "code",
   "execution_count": 2,
   "metadata": {
    "colab": {
     "base_uri": "https://localhost:8080/"
    },
    "executionInfo": {
     "elapsed": 523,
     "status": "ok",
     "timestamp": 1606404324819,
     "user": {
      "displayName": "Tomasz Różański",
      "photoUrl": "https://lh4.googleusercontent.com/-CdAQaQI9V1E/AAAAAAAAAAI/AAAAAAAAAvI/rnNPiSw4f80/s64/photo.jpg",
      "userId": "09904144145241711927"
     },
     "user_tz": -60
    },
    "id": "PW0w32lnrXCJ",
    "outputId": "78b2fd7c-a592-46be-ffb1-a7df82866da1"
   },
   "outputs": [
    {
     "name": "stdout",
     "output_type": "stream",
     "text": [
      " **********\n",
      "  *********\n",
      "   ********\n",
      "    *******\n",
      "     ******\n",
      "      *****\n",
      "       ****\n",
      "        ***\n",
      "         **\n",
      "          *\n"
     ]
    }
   ],
   "source": [
    "# Experiment with the following code\n",
    "for i in range(10):\n",
    "    print(i*\" \",(10-i)*\"*\")"
   ]
  },
  {
   "cell_type": "markdown",
   "metadata": {
    "id": "TVDYokvrsMQ5"
   },
   "source": [
    "## Task 4. (tedious)\n",
    "\n",
    "Given a date in the form: year, month, day, check if it is \"valid\".\n",
    "\n",
    "- There are 12 months.\n",
    "- The number of days in a month can be: 31, 30, 28, or 29.\n",
    "- A year is a leap year when:\n",
    "    - it is divisible by 4 and not divisible by 100,\n",
    "    - or it is divisible by 400.\n",
    "\n",
    "You can try creating a function called `is_date_ok(day, month, year)`."
   ]
  },
  {
   "cell_type": "code",
   "execution_count": null,
   "metadata": {
    "id": "pqJ-4m6zr33o"
   },
   "outputs": [],
   "source": [
    "# example of existing date\n",
    "day= 10\n",
    "month=2\n",
    "year= 2015"
   ]
  },
  {
   "cell_type": "code",
   "execution_count": null,
   "metadata": {},
   "outputs": [],
   "source": []
  },
  {
   "cell_type": "code",
   "execution_count": 8,
   "metadata": {
    "id": "iJXuKXQ1tnf8"
   },
   "outputs": [],
   "source": [
    "# assert is_date_ok(day, month, year) == True"
   ]
  },
  {
   "cell_type": "code",
   "execution_count": 9,
   "metadata": {
    "id": "XV0fvyIvtS-Z"
   },
   "outputs": [],
   "source": [
    "# example of impossible date\n",
    "day= 30\n",
    "month= 2\n",
    "year= 2015"
   ]
  },
  {
   "cell_type": "code",
   "execution_count": null,
   "metadata": {
    "id": "0U1H3VlmtXLH"
   },
   "outputs": [],
   "source": []
  },
  {
   "cell_type": "code",
   "execution_count": 10,
   "metadata": {},
   "outputs": [],
   "source": [
    "# assert is_date_ok(day, month, year) == False"
   ]
  },
  {
   "cell_type": "markdown",
   "metadata": {},
   "source": [
    "<details>\n",
    "<summary>Answer (click me)</summary>\n",
    "<pre><code>\n",
    "def is_date_ok(day, month, year):\n",
    "    # Check if month is valid\n",
    "    if month < 1 or month > 12:\n",
    "        return False\n",
    "\n",
    "    # Check if day is valid\n",
    "    if month == 2:  # February\n",
    "        if year % 4 == 0 and (year % 100 != 0 or year % 400 == 0):\n",
    "            max_days = 29  # Leap year\n",
    "        else:\n",
    "            max_days = 28\n",
    "    elif month in [4, 6, 9, 11]:  # April, June, September, November\n",
    "        max_days = 30\n",
    "    else:\n",
    "        max_days = 31\n",
    "\n",
    "    if day < 1 or day > max_days:\n",
    "        return False\n",
    "\n",
    "    return True\n",
    "</code></pre>\n",
    "</details>"
   ]
  },
  {
   "cell_type": "markdown",
   "metadata": {
    "id": "JoSHNx00tezg"
   },
   "source": [
    "## Task 5.\n",
    "\n",
    "Write a program that will display 30 copies of the text entered by the user, each time on a new line with line numbers. Use the input() function.\n",
    "\n",
    "eg.\n",
    "1 cat\n",
    "\n",
    "2 cat\n",
    "\n",
    "...\n",
    "\n",
    "30 cat"
   ]
  },
  {
   "cell_type": "code",
   "execution_count": null,
   "metadata": {
    "id": "jdxD8d8FtoFL"
   },
   "outputs": [],
   "source": []
  },
  {
   "cell_type": "markdown",
   "metadata": {
    "id": "agqt2Uh7uC-V"
   },
   "source": [
    "## Task 6.\n",
    "\n",
    "Create a list of students: Alice, Dave, Carol, Bob.\n",
    "\n",
    "- Using the append function, add Frank to the list.\n",
    "- Using the extend function, add Grace and Bob to the list.\n",
    "- Sort the students alphabetically.\n",
    "\n",
    "Print on the screen:\n",
    "- the fourth student on the list\n",
    "- the first two students on the list\n",
    "- the last two students on the list\n",
    "\n",
    "Then:\n",
    "- Using the remove function, remove all occurrences of Bob.\n",
    "- Use the len function to check the number of students.\n",
    "- Create a tuple from the final list of students."
   ]
  },
  {
   "cell_type": "code",
   "execution_count": null,
   "metadata": {
    "id": "JRrngXqDuZT4"
   },
   "outputs": [],
   "source": []
  },
  {
   "cell_type": "markdown",
   "metadata": {
    "id": "AeHBwa-buyYG"
   },
   "source": [
    "## Task 7.\n",
    "\n",
    "Use the built-in `sum` function to calculate the average of the following list."
   ]
  },
  {
   "cell_type": "code",
   "execution_count": 12,
   "metadata": {
    "colab": {
     "base_uri": "https://localhost:8080/"
    },
    "executionInfo": {
     "elapsed": 535,
     "status": "ok",
     "timestamp": 1606397328290,
     "user": {
      "displayName": "Tomasz Różański",
      "photoUrl": "https://lh4.googleusercontent.com/-CdAQaQI9V1E/AAAAAAAAAAI/AAAAAAAAAvI/rnNPiSw4f80/s64/photo.jpg",
      "userId": "09904144145241711927"
     },
     "user_tz": -60
    },
    "id": "sOSHeySsuz3f",
    "outputId": "befd1367-c455-485b-c82e-b68f0bedaf96"
   },
   "outputs": [
    {
     "name": "stdout",
     "output_type": "stream",
     "text": [
      "[6, 9, 12, 15, 18]\n"
     ]
    }
   ],
   "source": [
    "lista= list(range(6,20,3)) # can you guess what function range is doing?\n",
    "print(lista)"
   ]
  },
  {
   "cell_type": "code",
   "execution_count": null,
   "metadata": {
    "id": "gDgVpLwWvUyu"
   },
   "outputs": [],
   "source": []
  },
  {
   "cell_type": "markdown",
   "metadata": {
    "id": "g6zeYNSrvhwJ"
   },
   "source": [
    "## Task 8.\n",
    "\n",
    "Fill a list with the squares of consecutive natural numbers up to 20 (inclusive).\n",
    "\n",
    "`[0,1,4,9,...,400]`"
   ]
  },
  {
   "cell_type": "code",
   "execution_count": null,
   "metadata": {
    "id": "UdhxbGYovi40"
   },
   "outputs": [],
   "source": []
  },
  {
   "cell_type": "markdown",
   "metadata": {
    "id": "BioOBBCMwDyS"
   },
   "source": [
    "## Task 9.\n",
    "\n",
    "Write a program that checks whether a given letter of the alphabet is a vowel or a consonant.\n",
    "\n",
    "Hint: Use letter in \"aeiouy\" to check if the letter is a vowel."
   ]
  },
  {
   "cell_type": "code",
   "execution_count": 13,
   "metadata": {
    "id": "cHP4sXApwlYt"
   },
   "outputs": [],
   "source": [
    "letter= \"a\""
   ]
  },
  {
   "cell_type": "markdown",
   "metadata": {
    "id": "22pbwYLzwjlf"
   },
   "source": [
    "## Task 10.\n",
    "\n",
    "Write code that checks whether a number is even or odd and displays the information.\n",
    "\n",
    "(Interesting fact: Try to do it without using an `if` statement as well)\n",
    "\n"
   ]
  },
  {
   "cell_type": "code",
   "execution_count": null,
   "metadata": {
    "colab": {
     "base_uri": "https://localhost:8080/"
    },
    "executionInfo": {
     "elapsed": 630,
     "status": "ok",
     "timestamp": 1606496312702,
     "user": {
      "displayName": "Tomasz Różański",
      "photoUrl": "https://lh4.googleusercontent.com/-CdAQaQI9V1E/AAAAAAAAAAI/AAAAAAAAAvI/rnNPiSw4f80/s64/photo.jpg",
      "userId": "09904144145241711927"
     },
     "user_tz": -60
    },
    "id": "zUgX5A8p4X67",
    "outputId": "62d20d00-845b-4bf5-a154-ca210b4655a7"
   },
   "outputs": [],
   "source": []
  },
  {
   "cell_type": "markdown",
   "metadata": {
    "id": "jz2k7nmWxXRW"
   },
   "source": [
    "## Task 11.\n",
    "\n",
    "Write code that displays N consecutive elements of the Fibonacci sequence: 1, 1, 2, 3, 5, 8, and so on."
   ]
  },
  {
   "cell_type": "code",
   "execution_count": null,
   "metadata": {
    "id": "yhAe87dgwFWz"
   },
   "outputs": [],
   "source": []
  },
  {
   "cell_type": "markdown",
   "metadata": {
    "id": "ZNdTJ5kTxodT"
   },
   "source": [
    "## Task 12.\n",
    "\n",
    "Write 2 functions:\n",
    "\n",
    "- One for calculating the sum of numbers in a given list.\n",
    "- Another for calculating the product of numbers in a given list."
   ]
  },
  {
   "cell_type": "code",
   "execution_count": 14,
   "metadata": {
    "id": "fSChBU4Wxp65"
   },
   "outputs": [],
   "source": [
    "list= [1,6,2,4,8,4,2,3,6]\n",
    "# sum : 36\n",
    "# product : 55296"
   ]
  },
  {
   "cell_type": "markdown",
   "metadata": {
    "id": "jbXGFqfAyzLc"
   },
   "source": [
    "## Task 13. (more challenging)\n",
    "\n",
    "Write a function that calculates the greatest common divisor (GCD) of two numbers using the Euclidean algorithm."
   ]
  },
  {
   "cell_type": "code",
   "execution_count": null,
   "metadata": {
    "id": "CMEeiaZeyJWi"
   },
   "outputs": [],
   "source": []
  },
  {
   "cell_type": "markdown",
   "metadata": {
    "id": "bcZKkxLKzb9U"
   },
   "source": [
    "## Task 14.\n",
    "Write code that displays the smallest number in a list."
   ]
  },
  {
   "cell_type": "code",
   "execution_count": 15,
   "metadata": {
    "id": "s_3gwvA-zhdB"
   },
   "outputs": [],
   "source": [
    "small_list = [1,5,3,7,4,2,3,67,7,2]"
   ]
  },
  {
   "cell_type": "markdown",
   "metadata": {
    "id": "trtD7ucf1zH6"
   },
   "source": [
    "## Task 15.\n",
    "\n",
    "Write a function that returns the first and last element of a given list, e.g., `a = [1, 2, 5, 1, 2, 6, 8, 4, 10]`."
   ]
  },
  {
   "cell_type": "code",
   "execution_count": 16,
   "metadata": {
    "id": "DI3Z-l-31xbm"
   },
   "outputs": [],
   "source": [
    "a=[1,2,5,1,2,6,8,4,10]"
   ]
  },
  {
   "cell_type": "markdown",
   "metadata": {
    "id": "XJ3VW6-X2ldy"
   },
   "source": [
    "## Task 17.\n",
    "\n",
    "Add the value \"+48 111 222 333\" to the dictionary under the key \"Bob\" and remove the entry for \"Ann\". Display all phone numbers along with names, one per line."
   ]
  },
  {
   "cell_type": "code",
   "execution_count": 17,
   "metadata": {
    "id": "3zGtpBB82myF"
   },
   "outputs": [],
   "source": [
    "tel= {\"Alice\":\"+42 023 123 222\",\n",
    "      \"Dave\": \"+23 232 221 454\",\n",
    "      \"John\": \"+12 222 782 553\",\n",
    "      \"Ann\": \"+77 123 232 212\"\n",
    "     }"
   ]
  },
  {
   "cell_type": "markdown",
   "metadata": {
    "id": "5y8BUVb45IOS"
   },
   "source": [
    "## Task 18.\n",
    "\n",
    "Modify the code to display the `cos()` function in the range from 10 to 30. Ensure correct labeling and title."
   ]
  },
  {
   "cell_type": "code",
   "execution_count": 24,
   "metadata": {
    "colab": {
     "base_uri": "https://localhost:8080/",
     "height": 404
    },
    "executionInfo": {
     "elapsed": 915,
     "status": "ok",
     "timestamp": 1606496184373,
     "user": {
      "displayName": "Tomasz Różański",
      "photoUrl": "https://lh4.googleusercontent.com/-CdAQaQI9V1E/AAAAAAAAAAI/AAAAAAAAAvI/rnNPiSw4f80/s64/photo.jpg",
      "userId": "09904144145241711927"
     },
     "user_tz": -60
    },
    "id": "DoOocXhW5Hv5",
    "outputId": "4766091f-75e9-42bc-cb80-e50915df4990"
   },
   "outputs": [
    {
     "data": {
      "image/png": "[encoded data removed]",
      "text/plain": [
       "<Figure size 800x600 with 1 Axes>"
      ]
     },
     "metadata": {},
     "output_type": "display_data"
    }
   ],
   "source": [
    "import matplotlib.pyplot as plt\n",
    "import numpy as np\n",
    "\n",
    "x= np.arange(0,10,0.01)\n",
    "y= np.sin(x)\n",
    "\n",
    "plt.figure(figsize=(8,6))\n",
    "plt.plot(x,y,label=\"y=sin(x)\")\n",
    "plt.xlabel(\"x\")\n",
    "plt.ylabel(\"y\")\n",
    "plt.title(\"Plot of function y=sin(x)\")\n",
    "\n",
    "plt.legend()\n",
    "plt.show()"
   ]
  },
  {
   "cell_type": "markdown",
   "metadata": {
    "id": "rQuo8M816GZa"
   },
   "source": [
    "## Task 19.\n",
    "\n",
    "Change one part of the code to sort the function in descending order instead of ascending:"
   ]
  },
  {
   "cell_type": "code",
   "execution_count": 21,
   "metadata": {
    "colab": {
     "base_uri": "https://localhost:8080/"
    },
    "executionInfo": {
     "elapsed": 622,
     "status": "ok",
     "timestamp": 1606495983859,
     "user": {
      "displayName": "Tomasz Różański",
      "photoUrl": "https://lh4.googleusercontent.com/-CdAQaQI9V1E/AAAAAAAAAAI/AAAAAAAAAvI/rnNPiSw4f80/s64/photo.jpg",
      "userId": "09904144145241711927"
     },
     "user_tz": -60
    },
    "id": "2IB8aK763_mP",
    "outputId": "26ed551f-91ba-4885-ffdf-9b39433ef8e8"
   },
   "outputs": [
    {
     "name": "stdout",
     "output_type": "stream",
     "text": [
      "[2, 6, 7, 12, 34, 52]\n"
     ]
    }
   ],
   "source": [
    "def insertionSort(arr): \n",
    "    # Insert sort simply explained:\n",
    "    # https://youtu.be/ROalU379l3U\n",
    "    for i in range(1, len(arr)): \n",
    "        key = arr[i] \n",
    "        j = i-1\n",
    "        while j >=0 and key < arr[j] : \n",
    "            arr[j+1] = arr[j] \n",
    "            j -= 1\n",
    "        arr[j+1] = key\n",
    "\n",
    "x= [12,52,7,6,34,2]\n",
    "insertionSort(x)\n",
    "print(x)"
   ]
  },
  {
   "cell_type": "code",
   "execution_count": null,
   "metadata": {
    "id": "hOixDs227LlN"
   },
   "outputs": [],
   "source": []
  }
 ],
 "metadata": {
  "colab": {
   "authorship_tag": "ABX9TyNYQF3k0rMBDKLCzxYeAuOm",
   "collapsed_sections": [],
   "name": "04_zadania_wprowadzajace.ipynb",
   "provenance": []
  },
  "kernelspec": {
   "display_name": "Python 3 (ipykernel)",
   "language": "python",
   "name": "python3"
  },
  "language_info": {
   "codemirror_mode": {
    "name": "ipython",
    "version": 3
   },
   "file_extension": ".py",
   "mimetype": "text/x-python",
   "name": "python",
   "nbconvert_exporter": "python",
   "pygments_lexer": "ipython3",
   "version": "3.8.3"
  }
 },
 "nbformat": 4,
 "nbformat_minor": 1
}
