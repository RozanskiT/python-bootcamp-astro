{
 "cells": [
  {
   "cell_type": "markdown",
   "metadata": {
    "id": "USiFatHQHvLa"
   },
   "source": [
    "# NumPy\n",
    "\n",
    "What is [numpy](https://numpy.org/)?\n",
    "\n",
    "From docs:\n",
    "\n",
    "It provides:\n",
    "\n",
    "* a powerful N-dimensional array object\n",
    "* sophisticated (broadcasting) functions\n",
    "* tools for integrating C/C++ and Fortran code\n",
    "* useful linear algebra, Fourier transform, and random number capabilities\n",
    "\n",
    "The most important data structure in NumPy is `ndarray`, which has a fixed length and stores elements of the same type. It is often said that Python is slow, but this is only true when it comes to iterating over small Python objects. NumPy leverages fast implementations in C and FORTRAN to work with `ndarray` arrays."
   ]
  },
  {
   "cell_type": "markdown",
   "metadata": {
    "id": "pi-gZzpPS3q5"
   },
   "source": [
    "[Based on the tutorial at UAB, Barcelona]"
   ]
  },
  {
   "cell_type": "code",
   "execution_count": 1,
   "metadata": {
    "executionInfo": {
     "elapsed": 738,
     "status": "ok",
     "timestamp": 1607013444773,
     "user": {
      "displayName": "Tomasz Różański",
      "photoUrl": "https://lh4.googleusercontent.com/-CdAQaQI9V1E/AAAAAAAAAAI/AAAAAAAAAvI/rnNPiSw4f80/s64/photo.jpg",
      "userId": "09904144145241711927"
     },
     "user_tz": -60
    },
    "id": "yBr3xx19Hlc1"
   },
   "outputs": [],
   "source": [
    "import numpy as np\n",
    "import matplotlib.pyplot as plt"
   ]
  },
  {
   "cell_type": "markdown",
   "metadata": {
    "id": "A8PMLBWnLuKs"
   },
   "source": [
    "### Implementation comparison"
   ]
  },
  {
   "cell_type": "code",
   "execution_count": 1,
   "metadata": {
    "colab": {
     "base_uri": "https://localhost:8080/"
    },
    "executionInfo": {
     "elapsed": 714,
     "status": "ok",
     "timestamp": 1607013468583,
     "user": {
      "displayName": "Tomasz Różański",
      "photoUrl": "https://lh4.googleusercontent.com/-CdAQaQI9V1E/AAAAAAAAAAI/AAAAAAAAAvI/rnNPiSw4f80/s64/photo.jpg",
      "userId": "09904144145241711927"
     },
     "user_tz": -60
    },
    "id": "2xzyLlc8LkrV",
    "outputId": "c162bd0a-497b-4b39-c673-aa25d2404a20"
   },
   "outputs": [
    {
     "data": {
      "text/plain": [
       "[12.12, 36.239999999999995, 49.4]"
      ]
     },
     "execution_count": 1,
     "metadata": {},
     "output_type": "execute_result"
    }
   ],
   "source": [
    "voltages = [10.1, 15.1, 9.5]\n",
    "resistances = [1.2, 2.4, 5.2]\n",
    "\n",
    "currents = [U * R for U, R in zip(voltages, resistances)]\n",
    "currents"
   ]
  },
  {
   "cell_type": "code",
   "execution_count": 2,
   "metadata": {
    "executionInfo": {
     "elapsed": 899,
     "status": "ok",
     "timestamp": 1607013518929,
     "user": {
      "displayName": "Tomasz Różański",
      "photoUrl": "https://lh4.googleusercontent.com/-CdAQaQI9V1E/AAAAAAAAAAI/AAAAAAAAAvI/rnNPiSw4f80/s64/photo.jpg",
      "userId": "09904144145241711927"
     },
     "user_tz": -60
    },
    "id": "pdhfk9ddd4_9"
   },
   "outputs": [],
   "source": [
    "# list(zip(voltages, resistances))"
   ]
  },
  {
   "cell_type": "code",
   "execution_count": 6,
   "metadata": {
    "colab": {
     "base_uri": "https://localhost:8080/"
    },
    "executionInfo": {
     "elapsed": 734,
     "status": "ok",
     "timestamp": 1607013544692,
     "user": {
      "displayName": "Tomasz Różański",
      "photoUrl": "https://lh4.googleusercontent.com/-CdAQaQI9V1E/AAAAAAAAAAI/AAAAAAAAAvI/rnNPiSw4f80/s64/photo.jpg",
      "userId": "09904144145241711927"
     },
     "user_tz": -60
    },
    "id": "5NYS5ghcL8e8",
    "outputId": "a87de62d-def1-458a-e973-c01f117c5006"
   },
   "outputs": [
    {
     "data": {
      "text/plain": [
       "array([12.12, 36.24, 49.4 ])"
      ]
     },
     "execution_count": 6,
     "metadata": {},
     "output_type": "execute_result"
    }
   ],
   "source": [
    "U = np.array([10.1, 15.1, 9.5])\n",
    "R = np.array([1.2, 2.4, 5.2])\n",
    "\n",
    "I = U * R\n",
    "I"
   ]
  },
  {
   "cell_type": "code",
   "execution_count": 7,
   "metadata": {
    "colab": {
     "base_uri": "https://localhost:8080/"
    },
    "executionInfo": {
     "elapsed": 411,
     "status": "ok",
     "timestamp": 1607013550840,
     "user": {
      "displayName": "Tomasz Różański",
      "photoUrl": "https://lh4.googleusercontent.com/-CdAQaQI9V1E/AAAAAAAAAAI/AAAAAAAAAvI/rnNPiSw4f80/s64/photo.jpg",
      "userId": "09904144145241711927"
     },
     "user_tz": -60
    },
    "id": "tPqGXE63eLfH",
    "outputId": "6b04a6d2-8126-45fe-ab16-fbf39b9c38a8"
   },
   "outputs": [
    {
     "data": {
      "text/plain": [
       "numpy.ndarray"
      ]
     },
     "execution_count": 7,
     "metadata": {},
     "output_type": "execute_result"
    }
   ],
   "source": [
    "type(U)"
   ]
  },
  {
   "cell_type": "code",
   "execution_count": 8,
   "metadata": {
    "colab": {
     "base_uri": "https://localhost:8080/"
    },
    "executionInfo": {
     "elapsed": 583,
     "status": "ok",
     "timestamp": 1607013573523,
     "user": {
      "displayName": "Tomasz Różański",
      "photoUrl": "https://lh4.googleusercontent.com/-CdAQaQI9V1E/AAAAAAAAAAI/AAAAAAAAAvI/rnNPiSw4f80/s64/photo.jpg",
      "userId": "09904144145241711927"
     },
     "user_tz": -60
    },
    "id": "RJHfJ-GmMG2s",
    "outputId": "edbca2ed-2b90-4a2e-a314-bf70088ba183"
   },
   "outputs": [
    {
     "data": {
      "text/plain": [
       "True"
      ]
     },
     "execution_count": 8,
     "metadata": {},
     "output_type": "execute_result"
    }
   ],
   "source": [
    "currents[1] == I[1]"
   ]
  },
  {
   "cell_type": "markdown",
   "metadata": {
    "id": "N1O1f5SfNQa2"
   },
   "source": [
    "### Finding closest point in array"
   ]
  },
  {
   "cell_type": "code",
   "execution_count": 9,
   "metadata": {
    "colab": {
     "base_uri": "https://localhost:8080/"
    },
    "executionInfo": {
     "elapsed": 713,
     "status": "ok",
     "timestamp": 1607013628069,
     "user": {
      "displayName": "Tomasz Różański",
      "photoUrl": "https://lh4.googleusercontent.com/-CdAQaQI9V1E/AAAAAAAAAAI/AAAAAAAAAvI/rnNPiSw4f80/s64/photo.jpg",
      "userId": "09904144145241711927"
     },
     "user_tz": -60
    },
    "id": "U4qe9PYCMJpF",
    "outputId": "9feebd5a-3057-43fa-e277-a638cfddcb02"
   },
   "outputs": [
    {
     "name": "stdout",
     "output_type": "stream",
     "text": [
      "2.0 (3, 2)\n"
     ]
    }
   ],
   "source": [
    "import math\n",
    "\n",
    "def euclidean_distance(p1, p2):\n",
    "    return math.sqrt((p1[0] - p2[0])**2 + (p1[1] - p2[1])**2)\n",
    "\n",
    "point = (1, 2)\n",
    "points = [(3, 2), (4, 2), (3, 0)]\n",
    "\n",
    "min_distance = float('inf')\n",
    "for other in points:\n",
    "    distance = euclidean_distance(point, other)\n",
    "    if distance < min_distance:\n",
    "        closest = other\n",
    "        min_distance = distance \n",
    "\n",
    "print(min_distance, closest)"
   ]
  },
  {
   "cell_type": "code",
   "execution_count": 10,
   "metadata": {
    "colab": {
     "base_uri": "https://localhost:8080/"
    },
    "executionInfo": {
     "elapsed": 1428,
     "status": "ok",
     "timestamp": 1607013741182,
     "user": {
      "displayName": "Tomasz Różański",
      "photoUrl": "https://lh4.googleusercontent.com/-CdAQaQI9V1E/AAAAAAAAAAI/AAAAAAAAAvI/rnNPiSw4f80/s64/photo.jpg",
      "userId": "09904144145241711927"
     },
     "user_tz": -60
    },
    "id": "nqav1NJjNbp1",
    "outputId": "55dc76fe-1376-45c7-edfc-9ab698dfde24"
   },
   "outputs": [
    {
     "name": "stdout",
     "output_type": "stream",
     "text": [
      "2.0 [3 2]\n"
     ]
    }
   ],
   "source": [
    "point = np.array([1, 2])\n",
    "points = np.array([(3, 2), (4, 2), (3, 0)])\n",
    "\n",
    "distance = np.linalg.norm(point - points, axis=1)\n",
    "idx = np.argmin(distance)\n",
    "\n",
    "print(distance[idx], points[idx])"
   ]
  },
  {
   "cell_type": "markdown",
   "metadata": {
    "id": "g9jFVgboNs50"
   },
   "source": [
    "### Time measurements"
   ]
  },
  {
   "cell_type": "code",
   "execution_count": 11,
   "metadata": {
    "executionInfo": {
     "elapsed": 1121,
     "status": "ok",
     "timestamp": 1607013769615,
     "user": {
      "displayName": "Tomasz Różański",
      "photoUrl": "https://lh4.googleusercontent.com/-CdAQaQI9V1E/AAAAAAAAAAI/AAAAAAAAAvI/rnNPiSw4f80/s64/photo.jpg",
      "userId": "09904144145241711927"
     },
     "user_tz": -60
    },
    "id": "Dni7xq-3NeUz"
   },
   "outputs": [],
   "source": [
    "def mean(data):   \n",
    "    n = 0\n",
    "    total = 0.0\n",
    "    \n",
    "    if len(data) < 2:\n",
    "        return float('nan')\n",
    "\n",
    "    for value in data:\n",
    "        n += 1\n",
    "        total += value\n",
    "\n",
    "    return total / n"
   ]
  },
  {
   "cell_type": "code",
   "execution_count": 12,
   "metadata": {
    "colab": {
     "base_uri": "https://localhost:8080/"
    },
    "executionInfo": {
     "elapsed": 657,
     "status": "ok",
     "timestamp": 1607013786856,
     "user": {
      "displayName": "Tomasz Różański",
      "photoUrl": "https://lh4.googleusercontent.com/-CdAQaQI9V1E/AAAAAAAAAAI/AAAAAAAAAvI/rnNPiSw4f80/s64/photo.jpg",
      "userId": "09904144145241711927"
     },
     "user_tz": -60
    },
    "id": "gqpOQG0vN6T7",
    "outputId": "f6c61479-ebb7-4c6b-a3a8-0323184dde44"
   },
   "outputs": [
    {
     "name": "stdout",
     "output_type": "stream",
     "text": [
      "201 µs ± 5.56 µs per loop (mean ± std. dev. of 7 runs, 100 loops each)\n"
     ]
    }
   ],
   "source": [
    "%%timeit -n100\n",
    "\n",
    "l = list(range(2000))  # list with elements with values from 0,...,1999\n",
    "mean(l)"
   ]
  },
  {
   "cell_type": "code",
   "execution_count": 13,
   "metadata": {
    "colab": {
     "base_uri": "https://localhost:8080/"
    },
    "executionInfo": {
     "elapsed": 685,
     "status": "ok",
     "timestamp": 1607013811465,
     "user": {
      "displayName": "Tomasz Różański",
      "photoUrl": "https://lh4.googleusercontent.com/-CdAQaQI9V1E/AAAAAAAAAAI/AAAAAAAAAvI/rnNPiSw4f80/s64/photo.jpg",
      "userId": "09904144145241711927"
     },
     "user_tz": -60
    },
    "id": "vUM_uCIbN9D7",
    "outputId": "e1d7f5cd-7ad9-4ca3-e3f9-b8b5e2588035"
   },
   "outputs": [
    {
     "name": "stdout",
     "output_type": "stream",
     "text": [
      "22.5 µs ± 8.6 µs per loop (mean ± std. dev. of 7 runs, 100 loops each)\n"
     ]
    }
   ],
   "source": [
    "%%timeit -n100\n",
    "\n",
    "a = np.arange(2000)  # array with numbers 0,...,1999\n",
    "\n",
    "np.mean(a)"
   ]
  },
  {
   "cell_type": "code",
   "execution_count": 14,
   "metadata": {
    "executionInfo": {
     "elapsed": 660,
     "status": "ok",
     "timestamp": 1607013886933,
     "user": {
      "displayName": "Tomasz Różański",
      "photoUrl": "https://lh4.googleusercontent.com/-CdAQaQI9V1E/AAAAAAAAAAI/AAAAAAAAAvI/rnNPiSw4f80/s64/photo.jpg",
      "userId": "09904144145241711927"
     },
     "user_tz": -60
    },
    "id": "vreBVa3pOhhL"
   },
   "outputs": [],
   "source": [
    "import math\n",
    "\n",
    "def var(data):\n",
    "    '''\n",
    "    Welford's algorithm for one-pass calculation of the variance\n",
    "    Avoids rounding errors of large numbers when doing the naive\n",
    "    approach of `sum(v**2 for v in data) - sum(v)**2`\n",
    "    '''\n",
    "    # https://en.wikipedia.org/wiki/Algorithms_for_calculating_variance#Welford's_online_algorithm\n",
    "    n = 0\n",
    "    mean = 0.0\n",
    "    m2 = 0.0\n",
    "    \n",
    "    if len(data) < 2:\n",
    "        return float('nan')\n",
    "\n",
    "    for value in data:\n",
    "        n += 1\n",
    "        delta = value - mean\n",
    "        mean += delta / n\n",
    "        delta2 = value - mean\n",
    "        m2 += delta * delta2\n",
    "\n",
    "    return m2 / n "
   ]
  },
  {
   "cell_type": "code",
   "execution_count": 15,
   "metadata": {
    "colab": {
     "base_uri": "https://localhost:8080/"
    },
    "executionInfo": {
     "elapsed": 651,
     "status": "ok",
     "timestamp": 1607013889333,
     "user": {
      "displayName": "Tomasz Różański",
      "photoUrl": "https://lh4.googleusercontent.com/-CdAQaQI9V1E/AAAAAAAAAAI/AAAAAAAAAvI/rnNPiSw4f80/s64/photo.jpg",
      "userId": "09904144145241711927"
     },
     "user_tz": -60
    },
    "id": "B_9wKvoCQxaV",
    "outputId": "108b6531-886a-4997-9e6e-13e8384aaf32"
   },
   "outputs": [
    {
     "name": "stdout",
     "output_type": "stream",
     "text": [
      "558 µs ± 37.1 µs per loop (mean ± std. dev. of 7 runs, 100 loops each)\n"
     ]
    }
   ],
   "source": [
    "%%timeit -n100\n",
    "\n",
    "l = list(range(2000))  # list with elements with values from 0,...,1999\n",
    "var(l)"
   ]
  },
  {
   "cell_type": "code",
   "execution_count": 16,
   "metadata": {
    "colab": {
     "base_uri": "https://localhost:8080/"
    },
    "executionInfo": {
     "elapsed": 639,
     "status": "ok",
     "timestamp": 1607013908288,
     "user": {
      "displayName": "Tomasz Różański",
      "photoUrl": "https://lh4.googleusercontent.com/-CdAQaQI9V1E/AAAAAAAAAAI/AAAAAAAAAvI/rnNPiSw4f80/s64/photo.jpg",
      "userId": "09904144145241711927"
     },
     "user_tz": -60
    },
    "id": "4qV5cU2ZQ5fV",
    "outputId": "81b01310-f7e1-4329-84d8-2e8fe5d384d4"
   },
   "outputs": [
    {
     "name": "stdout",
     "output_type": "stream",
     "text": [
      "41.8 µs ± 8.81 µs per loop (mean ± std. dev. of 7 runs, 100 loops each)\n"
     ]
    }
   ],
   "source": [
    "%%timeit -n100\n",
    "\n",
    "a = np.arange(2000)  # array with numbers 0,...,1999\n",
    "\n",
    "np.var(a)"
   ]
  },
  {
   "cell_type": "markdown",
   "metadata": {
    "id": "D_s9Xhn8Rv4a"
   },
   "source": [
    "### Vecorization of basic operations"
   ]
  },
  {
   "cell_type": "code",
   "execution_count": 17,
   "metadata": {
    "colab": {
     "base_uri": "https://localhost:8080/"
    },
    "executionInfo": {
     "elapsed": 655,
     "status": "ok",
     "timestamp": 1607013956914,
     "user": {
      "displayName": "Tomasz Różański",
      "photoUrl": "https://lh4.googleusercontent.com/-CdAQaQI9V1E/AAAAAAAAAAI/AAAAAAAAAvI/rnNPiSw4f80/s64/photo.jpg",
      "userId": "09904144145241711927"
     },
     "user_tz": -60
    },
    "id": "dytZDOe9Q_tv",
    "outputId": "8f41d886-c5a2-4849-c269-da01317bf8db"
   },
   "outputs": [
    {
     "data": {
      "text/plain": [
       "array([1. , 3.5, 7.1, 4. , 6. ])"
      ]
     },
     "execution_count": 17,
     "metadata": {},
     "output_type": "execute_result"
    }
   ],
   "source": [
    "# create a numpy array from a python list\n",
    "a = np.array([1.0, 3.5, 7.1, 4, 6])\n",
    "a"
   ]
  },
  {
   "cell_type": "code",
   "execution_count": 18,
   "metadata": {
    "colab": {
     "base_uri": "https://localhost:8080/"
    },
    "executionInfo": {
     "elapsed": 1335,
     "status": "ok",
     "timestamp": 1607013967121,
     "user": {
      "displayName": "Tomasz Różański",
      "photoUrl": "https://lh4.googleusercontent.com/-CdAQaQI9V1E/AAAAAAAAAAI/AAAAAAAAAvI/rnNPiSw4f80/s64/photo.jpg",
      "userId": "09904144145241711927"
     },
     "user_tz": -60
    },
    "id": "FvU_wYxvR2EN",
    "outputId": "1246b9ef-a1bb-4c1a-97e3-bd3aea37185c"
   },
   "outputs": [
    {
     "data": {
      "text/plain": [
       "array([ 1.  , 12.25, 50.41, 16.  , 36.  ])"
      ]
     },
     "execution_count": 18,
     "metadata": {},
     "output_type": "execute_result"
    }
   ],
   "source": [
    "a*a"
   ]
  },
  {
   "cell_type": "code",
   "execution_count": 19,
   "metadata": {
    "colab": {
     "base_uri": "https://localhost:8080/"
    },
    "executionInfo": {
     "elapsed": 785,
     "status": "ok",
     "timestamp": 1607013977180,
     "user": {
      "displayName": "Tomasz Różański",
      "photoUrl": "https://lh4.googleusercontent.com/-CdAQaQI9V1E/AAAAAAAAAAI/AAAAAAAAAvI/rnNPiSw4f80/s64/photo.jpg",
      "userId": "09904144145241711927"
     },
     "user_tz": -60
    },
    "id": "8WBTKxpvR2ju",
    "outputId": "3b0c1dea-15c8-4816-f3da-1d3a87676c58"
   },
   "outputs": [
    {
     "data": {
      "text/plain": [
       "array([ 1.  , 12.25, 50.41, 16.  , 36.  ])"
      ]
     },
     "execution_count": 19,
     "metadata": {},
     "output_type": "execute_result"
    }
   ],
   "source": [
    "a**2"
   ]
  },
  {
   "cell_type": "code",
   "execution_count": 20,
   "metadata": {
    "colab": {
     "base_uri": "https://localhost:8080/"
    },
    "executionInfo": {
     "elapsed": 765,
     "status": "ok",
     "timestamp": 1607013986100,
     "user": {
      "displayName": "Tomasz Różański",
      "photoUrl": "https://lh4.googleusercontent.com/-CdAQaQI9V1E/AAAAAAAAAAI/AAAAAAAAAvI/rnNPiSw4f80/s64/photo.jpg",
      "userId": "09904144145241711927"
     },
     "user_tz": -60
    },
    "id": "5NZdTqzVR5wW",
    "outputId": "b8f70e47-cf72-46ed-e0e3-59f3849c3f62"
   },
   "outputs": [
    {
     "data": {
      "text/plain": [
       "array([1.00000000e+00, 8.02117802e+01, 1.10645633e+06, 2.56000000e+02,\n",
       "       4.66560000e+04])"
      ]
     },
     "execution_count": 20,
     "metadata": {},
     "output_type": "execute_result"
    }
   ],
   "source": [
    "a**a"
   ]
  },
  {
   "cell_type": "code",
   "execution_count": 22,
   "metadata": {
    "colab": {
     "base_uri": "https://localhost:8080/",
     "height": 164
    },
    "executionInfo": {
     "elapsed": 1221,
     "status": "error",
     "timestamp": 1607013999589,
     "user": {
      "displayName": "Tomasz Różański",
      "photoUrl": "https://lh4.googleusercontent.com/-CdAQaQI9V1E/AAAAAAAAAAI/AAAAAAAAAvI/rnNPiSw4f80/s64/photo.jpg",
      "userId": "09904144145241711927"
     },
     "user_tz": -60
    },
    "id": "PMwlWPo7SDVm",
    "outputId": "c8a1ab48-5aaf-41a9-df44-d992103fbf17"
   },
   "outputs": [
    {
     "ename": "TypeError",
     "evalue": "only size-1 arrays can be converted to Python scalars",
     "output_type": "error",
     "traceback": [
      "\u001b[0;31m---------------------------------------------------------------------------\u001b[0m",
      "\u001b[0;31mTypeError\u001b[0m                                 Traceback (most recent call last)",
      "Cell \u001b[0;32mIn[22], line 1\u001b[0m\n\u001b[0;32m----> 1\u001b[0m \u001b[43mmath\u001b[49m\u001b[38;5;241;43m.\u001b[39;49m\u001b[43mcos\u001b[49m\u001b[43m(\u001b[49m\u001b[43ma\u001b[49m\u001b[43m)\u001b[49m\n",
      "\u001b[0;31mTypeError\u001b[0m: only size-1 arrays can be converted to Python scalars"
     ]
    }
   ],
   "source": [
    "math.cos(a) # Will not work"
   ]
  },
  {
   "cell_type": "code",
   "execution_count": 23,
   "metadata": {
    "colab": {
     "base_uri": "https://localhost:8080/"
    },
    "executionInfo": {
     "elapsed": 638,
     "status": "ok",
     "timestamp": 1607014017683,
     "user": {
      "displayName": "Tomasz Różański",
      "photoUrl": "https://lh4.googleusercontent.com/-CdAQaQI9V1E/AAAAAAAAAAI/AAAAAAAAAvI/rnNPiSw4f80/s64/photo.jpg",
      "userId": "09904144145241711927"
     },
     "user_tz": -60
    },
    "id": "qCUYIcKkf8qe",
    "outputId": "dec0450d-a516-4bc2-b0f3-e14674d78f15"
   },
   "outputs": [
    {
     "data": {
      "text/plain": [
       "array([ 0.54030231, -0.93645669,  0.68454667, -0.65364362,  0.96017029])"
      ]
     },
     "execution_count": 23,
     "metadata": {},
     "output_type": "execute_result"
    }
   ],
   "source": [
    "np.cos(a)"
   ]
  },
  {
   "cell_type": "markdown",
   "metadata": {
    "id": "YWAysXKFSRWU"
   },
   "source": [
    "Pozdtawowe funkcje zaimplementowanie w pythonie zadziałają dzięki przeciążeniu."
   ]
  },
  {
   "cell_type": "code",
   "execution_count": 24,
   "metadata": {
    "colab": {
     "base_uri": "https://localhost:8080/"
    },
    "executionInfo": {
     "elapsed": 654,
     "status": "ok",
     "timestamp": 1607014041352,
     "user": {
      "displayName": "Tomasz Różański",
      "photoUrl": "https://lh4.googleusercontent.com/-CdAQaQI9V1E/AAAAAAAAAAI/AAAAAAAAAvI/rnNPiSw4f80/s64/photo.jpg",
      "userId": "09904144145241711927"
     },
     "user_tz": -60
    },
    "id": "222tL-MvSLD2",
    "outputId": "a4a70510-d3c7-48ec-c343-507b65815d71"
   },
   "outputs": [
    {
     "data": {
      "text/plain": [
       "array([   2.   ,  -14.875, -249.991,  -28.   , -138.   ])"
      ]
     },
     "execution_count": 24,
     "metadata": {},
     "output_type": "execute_result"
    }
   ],
   "source": [
    "def poly(x):\n",
    "    return x + 2 * x**2 - x**3\n",
    "\n",
    "poly(a)"
   ]
  },
  {
   "cell_type": "code",
   "execution_count": 25,
   "metadata": {
    "colab": {
     "base_uri": "https://localhost:8080/"
    },
    "executionInfo": {
     "elapsed": 621,
     "status": "ok",
     "timestamp": 1607014066806,
     "user": {
      "displayName": "Tomasz Różański",
      "photoUrl": "https://lh4.googleusercontent.com/-CdAQaQI9V1E/AAAAAAAAAAI/AAAAAAAAAvI/rnNPiSw4f80/s64/photo.jpg",
      "userId": "09904144145241711927"
     },
     "user_tz": -60
    },
    "id": "CwAKh8v_SkO2",
    "outputId": "4654b50c-9778-4c1a-b6f1-3255794995e6"
   },
   "outputs": [
    {
     "data": {
      "text/plain": [
       "-8.125475224531307"
      ]
     },
     "execution_count": 25,
     "metadata": {},
     "output_type": "execute_result"
    }
   ],
   "source": [
    "poly(np.pi)"
   ]
  },
  {
   "cell_type": "markdown",
   "metadata": {
    "id": "izfU3lXPS0Vf"
   },
   "source": [
    "### Useful attributes"
   ]
  },
  {
   "cell_type": "code",
   "execution_count": 26,
   "metadata": {
    "colab": {
     "base_uri": "https://localhost:8080/"
    },
    "executionInfo": {
     "elapsed": 638,
     "status": "ok",
     "timestamp": 1607014106654,
     "user": {
      "displayName": "Tomasz Różański",
      "photoUrl": "https://lh4.googleusercontent.com/-CdAQaQI9V1E/AAAAAAAAAAI/AAAAAAAAAvI/rnNPiSw4f80/s64/photo.jpg",
      "userId": "09904144145241711927"
     },
     "user_tz": -60
    },
    "id": "drwIBn0iSvW2",
    "outputId": "53b84820-95e1-49ed-86ab-2a86e420df74"
   },
   "outputs": [
    {
     "data": {
      "text/plain": [
       "5"
      ]
     },
     "execution_count": 26,
     "metadata": {},
     "output_type": "execute_result"
    }
   ],
   "source": [
    "len(a)"
   ]
  },
  {
   "cell_type": "code",
   "execution_count": 27,
   "metadata": {
    "colab": {
     "base_uri": "https://localhost:8080/"
    },
    "executionInfo": {
     "elapsed": 1214,
     "status": "ok",
     "timestamp": 1607014113677,
     "user": {
      "displayName": "Tomasz Różański",
      "photoUrl": "https://lh4.googleusercontent.com/-CdAQaQI9V1E/AAAAAAAAAAI/AAAAAAAAAvI/rnNPiSw4f80/s64/photo.jpg",
      "userId": "09904144145241711927"
     },
     "user_tz": -60
    },
    "id": "xtDu5_isTR9Y",
    "outputId": "0405e217-6fa3-483c-c5b8-bb6a7d0fac4d"
   },
   "outputs": [
    {
     "data": {
      "text/plain": [
       "(5,)"
      ]
     },
     "execution_count": 27,
     "metadata": {},
     "output_type": "execute_result"
    }
   ],
   "source": [
    "a.shape"
   ]
  },
  {
   "cell_type": "code",
   "execution_count": 28,
   "metadata": {
    "colab": {
     "base_uri": "https://localhost:8080/"
    },
    "executionInfo": {
     "elapsed": 666,
     "status": "ok",
     "timestamp": 1607014120272,
     "user": {
      "displayName": "Tomasz Różański",
      "photoUrl": "https://lh4.googleusercontent.com/-CdAQaQI9V1E/AAAAAAAAAAI/AAAAAAAAAvI/rnNPiSw4f80/s64/photo.jpg",
      "userId": "09904144145241711927"
     },
     "user_tz": -60
    },
    "id": "liJDpp-eTUTp",
    "outputId": "f3975c07-a9b8-4252-a0fc-feadc95a42cf"
   },
   "outputs": [
    {
     "data": {
      "text/plain": [
       "dtype('float64')"
      ]
     },
     "execution_count": 28,
     "metadata": {},
     "output_type": "execute_result"
    }
   ],
   "source": [
    "a.dtype"
   ]
  },
  {
   "cell_type": "code",
   "execution_count": 29,
   "metadata": {
    "colab": {
     "base_uri": "https://localhost:8080/"
    },
    "executionInfo": {
     "elapsed": 747,
     "status": "ok",
     "timestamp": 1607014130875,
     "user": {
      "displayName": "Tomasz Różański",
      "photoUrl": "https://lh4.googleusercontent.com/-CdAQaQI9V1E/AAAAAAAAAAI/AAAAAAAAAvI/rnNPiSw4f80/s64/photo.jpg",
      "userId": "09904144145241711927"
     },
     "user_tz": -60
    },
    "id": "R6TNYJaaTUYK",
    "outputId": "d3eacd41-9bed-4916-fbdd-406f45bf77e6"
   },
   "outputs": [
    {
     "data": {
      "text/plain": [
       "1"
      ]
     },
     "execution_count": 29,
     "metadata": {},
     "output_type": "execute_result"
    }
   ],
   "source": [
    "a.ndim"
   ]
  },
  {
   "cell_type": "markdown",
   "metadata": {
    "id": "xmReFKxHTeYM"
   },
   "source": [
    "### 2D arrays"
   ]
  },
  {
   "cell_type": "code",
   "execution_count": 30,
   "metadata": {
    "colab": {
     "base_uri": "https://localhost:8080/"
    },
    "executionInfo": {
     "elapsed": 643,
     "status": "ok",
     "timestamp": 1607014157246,
     "user": {
      "displayName": "Tomasz Różański",
      "photoUrl": "https://lh4.googleusercontent.com/-CdAQaQI9V1E/AAAAAAAAAAI/AAAAAAAAAvI/rnNPiSw4f80/s64/photo.jpg",
      "userId": "09904144145241711927"
     },
     "user_tz": -60
    },
    "id": "raV0S3a9TtFn",
    "outputId": "26551e35-5e0b-4f1c-c039-d0d70f4e977a"
   },
   "outputs": [
    {
     "data": {
      "text/plain": [
       "array([[ 2,  4,  6],\n",
       "       [ 8, 10, 12],\n",
       "       [14, 16, 18]])"
      ]
     },
     "execution_count": 30,
     "metadata": {},
     "output_type": "execute_result"
    }
   ],
   "source": [
    "# two-dimensional array\n",
    "y = np.array([[1, 2, 3],\n",
    "              [4, 5, 6],\n",
    "              [7, 8, 9]])\n",
    "\n",
    "y + y"
   ]
  },
  {
   "cell_type": "code",
   "execution_count": 31,
   "metadata": {
    "colab": {
     "base_uri": "https://localhost:8080/"
    },
    "executionInfo": {
     "elapsed": 754,
     "status": "ok",
     "timestamp": 1607014180558,
     "user": {
      "displayName": "Tomasz Różański",
      "photoUrl": "https://lh4.googleusercontent.com/-CdAQaQI9V1E/AAAAAAAAAAI/AAAAAAAAAvI/rnNPiSw4f80/s64/photo.jpg",
      "userId": "09904144145241711927"
     },
     "user_tz": -60
    },
    "id": "Zf9xhVmRTyfX",
    "outputId": "751ccd8e-5fb2-4838-f79e-41a1fb4e90fa"
   },
   "outputs": [
    {
     "data": {
      "text/plain": [
       "array([[ 30,  36,  42],\n",
       "       [ 66,  81,  96],\n",
       "       [102, 126, 150]])"
      ]
     },
     "execution_count": 31,
     "metadata": {},
     "output_type": "execute_result"
    }
   ],
   "source": [
    "## since python 3.5 @ is matrix product\n",
    "y @ y"
   ]
  },
  {
   "cell_type": "code",
   "execution_count": 32,
   "metadata": {
    "colab": {
     "base_uri": "https://localhost:8080/"
    },
    "executionInfo": {
     "elapsed": 666,
     "status": "ok",
     "timestamp": 1607014243149,
     "user": {
      "displayName": "Tomasz Różański",
      "photoUrl": "https://lh4.googleusercontent.com/-CdAQaQI9V1E/AAAAAAAAAAI/AAAAAAAAAvI/rnNPiSw4f80/s64/photo.jpg",
      "userId": "09904144145241711927"
     },
     "user_tz": -60
    },
    "id": "DoLoSOlwT1Dg",
    "outputId": "fd85a3a1-1113-4504-f76a-8eb0b65b6879"
   },
   "outputs": [
    {
     "data": {
      "text/plain": [
       "array([[ 2,  4,  6],\n",
       "       [ 5,  7,  9],\n",
       "       [ 8, 10, 12]])"
      ]
     },
     "execution_count": 32,
     "metadata": {},
     "output_type": "execute_result"
    }
   ],
   "source": [
    "# Broadcasting, changing array dimensions to fit the larger one\n",
    "# Description of numpy broadcating rules:\n",
    "# https://numpy.org/doc/stable/user/basics.broadcasting.html\n",
    "y + np.array([1, 2, 3])"
   ]
  },
  {
   "cell_type": "code",
   "execution_count": 33,
   "metadata": {
    "colab": {
     "base_uri": "https://localhost:8080/"
    },
    "executionInfo": {
     "elapsed": 609,
     "status": "ok",
     "timestamp": 1607014306616,
     "user": {
      "displayName": "Tomasz Różański",
      "photoUrl": "https://lh4.googleusercontent.com/-CdAQaQI9V1E/AAAAAAAAAAI/AAAAAAAAAvI/rnNPiSw4f80/s64/photo.jpg",
      "userId": "09904144145241711927"
     },
     "user_tz": -60
    },
    "id": "OrJptYQahDNL",
    "outputId": "bcdd817c-b1e5-4f18-f63e-d231825a97db"
   },
   "outputs": [
    {
     "data": {
      "text/plain": [
       "array([[11., 12., 13.],\n",
       "       [14., 15., 16.],\n",
       "       [17., 18., 19.]])"
      ]
     },
     "execution_count": 33,
     "metadata": {},
     "output_type": "execute_result"
    }
   ],
   "source": [
    "10. + y "
   ]
  },
  {
   "cell_type": "markdown",
   "metadata": {
    "id": "AAedyEm_UYbY"
   },
   "source": [
    "### Various reduction operations"
   ]
  },
  {
   "cell_type": "code",
   "execution_count": 34,
   "metadata": {
    "executionInfo": {
     "elapsed": 619,
     "status": "ok",
     "timestamp": 1607014379390,
     "user": {
      "displayName": "Tomasz Różański",
      "photoUrl": "https://lh4.googleusercontent.com/-CdAQaQI9V1E/AAAAAAAAAAI/AAAAAAAAAvI/rnNPiSw4f80/s64/photo.jpg",
      "userId": "09904144145241711927"
     },
     "user_tz": -60
    },
    "id": "bhE7kS8mT6dv"
   },
   "outputs": [],
   "source": [
    "x = np.random.normal(0, 1, 10)"
   ]
  },
  {
   "cell_type": "code",
   "execution_count": 35,
   "metadata": {
    "colab": {
     "base_uri": "https://localhost:8080/"
    },
    "executionInfo": {
     "elapsed": 877,
     "status": "ok",
     "timestamp": 1607014381499,
     "user": {
      "displayName": "Tomasz Różański",
      "photoUrl": "https://lh4.googleusercontent.com/-CdAQaQI9V1E/AAAAAAAAAAI/AAAAAAAAAvI/rnNPiSw4f80/s64/photo.jpg",
      "userId": "09904144145241711927"
     },
     "user_tz": -60
    },
    "id": "-M2vLxMtUesK",
    "outputId": "658f70dd-f31c-4fb5-d3f1-0558956b6cb2"
   },
   "outputs": [
    {
     "data": {
      "text/plain": [
       "array([-0.65049621, -0.35863631, -0.02848224,  0.39944329,  1.38045479,\n",
       "       -1.24498624, -0.29496817, -1.50253467, -1.03080887, -0.90100858])"
      ]
     },
     "execution_count": 35,
     "metadata": {},
     "output_type": "execute_result"
    }
   ],
   "source": [
    "x"
   ]
  },
  {
   "cell_type": "code",
   "execution_count": 36,
   "metadata": {
    "colab": {
     "base_uri": "https://localhost:8080/"
    },
    "executionInfo": {
     "elapsed": 692,
     "status": "ok",
     "timestamp": 1607014394037,
     "user": {
      "displayName": "Tomasz Różański",
      "photoUrl": "https://lh4.googleusercontent.com/-CdAQaQI9V1E/AAAAAAAAAAI/AAAAAAAAAvI/rnNPiSw4f80/s64/photo.jpg",
      "userId": "09904144145241711927"
     },
     "user_tz": -60
    },
    "id": "NG1hGjq2UmbP",
    "outputId": "cbe4020b-bdbf-4ff5-8305-1d34c077d90e"
   },
   "outputs": [
    {
     "data": {
      "text/plain": [
       "-4.232023210814053"
      ]
     },
     "execution_count": 36,
     "metadata": {},
     "output_type": "execute_result"
    }
   ],
   "source": [
    "np.sum(x)"
   ]
  },
  {
   "cell_type": "code",
   "execution_count": 37,
   "metadata": {
    "colab": {
     "base_uri": "https://localhost:8080/"
    },
    "executionInfo": {
     "elapsed": 659,
     "status": "ok",
     "timestamp": 1607014396922,
     "user": {
      "displayName": "Tomasz Różański",
      "photoUrl": "https://lh4.googleusercontent.com/-CdAQaQI9V1E/AAAAAAAAAAI/AAAAAAAAAvI/rnNPiSw4f80/s64/photo.jpg",
      "userId": "09904144145241711927"
     },
     "user_tz": -60
    },
    "id": "edhQ5N2YUvHo",
    "outputId": "597cfee5-75e3-4e7b-ca41-d0c1975d9b46"
   },
   "outputs": [
    {
     "data": {
      "text/plain": [
       "0.001877680937386445"
      ]
     },
     "execution_count": 37,
     "metadata": {},
     "output_type": "execute_result"
    }
   ],
   "source": [
    "np.prod(x)"
   ]
  },
  {
   "cell_type": "code",
   "execution_count": 38,
   "metadata": {
    "colab": {
     "base_uri": "https://localhost:8080/"
    },
    "executionInfo": {
     "elapsed": 621,
     "status": "ok",
     "timestamp": 1607014400478,
     "user": {
      "displayName": "Tomasz Różański",
      "photoUrl": "https://lh4.googleusercontent.com/-CdAQaQI9V1E/AAAAAAAAAAI/AAAAAAAAAvI/rnNPiSw4f80/s64/photo.jpg",
      "userId": "09904144145241711927"
     },
     "user_tz": -60
    },
    "id": "3D9A31CbUv4f",
    "outputId": "f62a485e-9029-4734-d020-4fe8a5e3a04d"
   },
   "outputs": [
    {
     "data": {
      "text/plain": [
       "-0.4232023210814053"
      ]
     },
     "execution_count": 38,
     "metadata": {},
     "output_type": "execute_result"
    }
   ],
   "source": [
    "np.mean(x)"
   ]
  },
  {
   "cell_type": "markdown",
   "metadata": {
    "id": "JRsxPklkU2nC"
   },
   "source": [
    "Standard deviation of the population"
   ]
  },
  {
   "cell_type": "code",
   "execution_count": 39,
   "metadata": {
    "colab": {
     "base_uri": "https://localhost:8080/"
    },
    "executionInfo": {
     "elapsed": 638,
     "status": "ok",
     "timestamp": 1607014403414,
     "user": {
      "displayName": "Tomasz Różański",
      "photoUrl": "https://lh4.googleusercontent.com/-CdAQaQI9V1E/AAAAAAAAAAI/AAAAAAAAAvI/rnNPiSw4f80/s64/photo.jpg",
      "userId": "09904144145241711927"
     },
     "user_tz": -60
    },
    "id": "PJwijNVhUymo",
    "outputId": "9255f0a2-2c60-44a5-ddbe-bf1da9dcab88"
   },
   "outputs": [
    {
     "data": {
      "text/plain": [
       "0.8121438105338097"
      ]
     },
     "execution_count": 39,
     "metadata": {},
     "output_type": "execute_result"
    }
   ],
   "source": [
    "np.std(x)"
   ]
  },
  {
   "cell_type": "markdown",
   "metadata": {
    "id": "RhG4gT0aU-rp"
   },
   "source": [
    "Standard deviation of the mean"
   ]
  },
  {
   "cell_type": "code",
   "execution_count": null,
   "metadata": {
    "colab": {
     "base_uri": "https://localhost:8080/"
    },
    "executionInfo": {
     "elapsed": 1484,
     "status": "ok",
     "timestamp": 1607014410338,
     "user": {
      "displayName": "Tomasz Różański",
      "photoUrl": "https://lh4.googleusercontent.com/-CdAQaQI9V1E/AAAAAAAAAAI/AAAAAAAAAvI/rnNPiSw4f80/s64/photo.jpg",
      "userId": "09904144145241711927"
     },
     "user_tz": -60
    },
    "id": "ddAkvcqIU4nv",
    "outputId": "ddf72e31-40ce-41c1-8c69-836974d5e2eb"
   },
   "outputs": [],
   "source": [
    "np.std(x, ddof=1) / np.sqrt(len(x))"
   ]
  },
  {
   "cell_type": "markdown",
   "metadata": {
    "id": "36MltszzVEH-"
   },
   "source": [
    "Standard deviation of the sample"
   ]
  },
  {
   "cell_type": "code",
   "execution_count": null,
   "metadata": {
    "colab": {
     "base_uri": "https://localhost:8080/"
    },
    "executionInfo": {
     "elapsed": 638,
     "status": "ok",
     "timestamp": 1607014414230,
     "user": {
      "displayName": "Tomasz Różański",
      "photoUrl": "https://lh4.googleusercontent.com/-CdAQaQI9V1E/AAAAAAAAAAI/AAAAAAAAAvI/rnNPiSw4f80/s64/photo.jpg",
      "userId": "09904144145241711927"
     },
     "user_tz": -60
    },
    "id": "pghs2jGxVK0w",
    "outputId": "0cb74c89-bcb8-4b99-ff79-3c535c7d0ad7"
   },
   "outputs": [],
   "source": [
    "np.std(x, ddof=1)"
   ]
  },
  {
   "cell_type": "markdown",
   "metadata": {
    "id": "_f6U6IxiVOQo"
   },
   "source": [
    "Difference between adjacent elements"
   ]
  },
  {
   "cell_type": "code",
   "execution_count": 40,
   "metadata": {
    "colab": {
     "base_uri": "https://localhost:8080/"
    },
    "executionInfo": {
     "elapsed": 638,
     "status": "ok",
     "timestamp": 1607014443169,
     "user": {
      "displayName": "Tomasz Różański",
      "photoUrl": "https://lh4.googleusercontent.com/-CdAQaQI9V1E/AAAAAAAAAAI/AAAAAAAAAvI/rnNPiSw4f80/s64/photo.jpg",
      "userId": "09904144145241711927"
     },
     "user_tz": -60
    },
    "id": "oMh2luetVLVA",
    "outputId": "3ef14939-f910-4b8a-8504-0e9db1941eb5"
   },
   "outputs": [
    {
     "data": {
      "text/plain": [
       "array([ 0,  1,  4,  9, 16, 25, 36, 49, 64, 81])"
      ]
     },
     "execution_count": 40,
     "metadata": {},
     "output_type": "execute_result"
    }
   ],
   "source": [
    "z = np.arange(10)**2\n",
    "z"
   ]
  },
  {
   "cell_type": "code",
   "execution_count": 41,
   "metadata": {
    "colab": {
     "base_uri": "https://localhost:8080/"
    },
    "executionInfo": {
     "elapsed": 453,
     "status": "ok",
     "timestamp": 1606994437321,
     "user": {
      "displayName": "Tomasz Różański",
      "photoUrl": "https://lh4.googleusercontent.com/-CdAQaQI9V1E/AAAAAAAAAAI/AAAAAAAAAvI/rnNPiSw4f80/s64/photo.jpg",
      "userId": "09904144145241711927"
     },
     "user_tz": -60
    },
    "id": "GU-nnHwIVRJY",
    "outputId": "72e42cf8-300f-4f8c-fb4d-032f8d503ca6"
   },
   "outputs": [
    {
     "data": {
      "text/plain": [
       "array([ 1,  3,  5,  7,  9, 11, 13, 15, 17])"
      ]
     },
     "execution_count": 41,
     "metadata": {},
     "output_type": "execute_result"
    }
   ],
   "source": [
    "np.diff(z)"
   ]
  },
  {
   "cell_type": "markdown",
   "metadata": {
    "id": "cvkZBnGqVUjg"
   },
   "source": [
    "### Reduction operations on multidimensional arrays"
   ]
  },
  {
   "cell_type": "code",
   "execution_count": 42,
   "metadata": {
    "colab": {
     "base_uri": "https://localhost:8080/"
    },
    "executionInfo": {
     "elapsed": 618,
     "status": "ok",
     "timestamp": 1607014506202,
     "user": {
      "displayName": "Tomasz Różański",
      "photoUrl": "https://lh4.googleusercontent.com/-CdAQaQI9V1E/AAAAAAAAAAI/AAAAAAAAAvI/rnNPiSw4f80/s64/photo.jpg",
      "userId": "09904144145241711927"
     },
     "user_tz": -60
    },
    "id": "x1GUlOFPVSII",
    "outputId": "41f8040e-55f3-478a-a79a-7c0ca5e31109"
   },
   "outputs": [
    {
     "data": {
      "text/plain": [
       "array([[ 0,  1,  2,  3,  4],\n",
       "       [ 5,  6,  7,  8,  9],\n",
       "       [10, 11, 12, 13, 14],\n",
       "       [15, 16, 17, 18, 19]])"
      ]
     },
     "execution_count": 42,
     "metadata": {},
     "output_type": "execute_result"
    }
   ],
   "source": [
    "array2d = np.arange(20).reshape(4, 5)\n",
    "\n",
    "array2d"
   ]
  },
  {
   "cell_type": "code",
   "execution_count": 43,
   "metadata": {
    "colab": {
     "base_uri": "https://localhost:8080/"
    },
    "executionInfo": {
     "elapsed": 647,
     "status": "ok",
     "timestamp": 1607014535372,
     "user": {
      "displayName": "Tomasz Różański",
      "photoUrl": "https://lh4.googleusercontent.com/-CdAQaQI9V1E/AAAAAAAAAAI/AAAAAAAAAvI/rnNPiSw4f80/s64/photo.jpg",
      "userId": "09904144145241711927"
     },
     "user_tz": -60
    },
    "id": "9vz7g9W_Vd2J",
    "outputId": "7625696a-4ff8-4679-ceb1-f34ce904f1d6"
   },
   "outputs": [
    {
     "data": {
      "text/plain": [
       "array([30, 34, 38, 42, 46])"
      ]
     },
     "execution_count": 43,
     "metadata": {},
     "output_type": "execute_result"
    }
   ],
   "source": [
    "np.sum(array2d, axis=0)"
   ]
  },
  {
   "cell_type": "code",
   "execution_count": 44,
   "metadata": {
    "colab": {
     "base_uri": "https://localhost:8080/"
    },
    "executionInfo": {
     "elapsed": 1060,
     "status": "ok",
     "timestamp": 1607014553478,
     "user": {
      "displayName": "Tomasz Różański",
      "photoUrl": "https://lh4.googleusercontent.com/-CdAQaQI9V1E/AAAAAAAAAAI/AAAAAAAAAvI/rnNPiSw4f80/s64/photo.jpg",
      "userId": "09904144145241711927"
     },
     "user_tz": -60
    },
    "id": "Iw540Q4hVfvD",
    "outputId": "7bb9e035-e34d-4559-a1c4-7848758efe23"
   },
   "outputs": [
    {
     "data": {
      "text/plain": [
       "array([ 2.,  7., 12., 17.])"
      ]
     },
     "execution_count": 44,
     "metadata": {},
     "output_type": "execute_result"
    }
   ],
   "source": [
    "np.mean(array2d, axis=1)"
   ]
  },
  {
   "cell_type": "code",
   "execution_count": 45,
   "metadata": {
    "colab": {
     "base_uri": "https://localhost:8080/"
    },
    "executionInfo": {
     "elapsed": 679,
     "status": "ok",
     "timestamp": 1607014651435,
     "user": {
      "displayName": "Tomasz Różański",
      "photoUrl": "https://lh4.googleusercontent.com/-CdAQaQI9V1E/AAAAAAAAAAI/AAAAAAAAAvI/rnNPiSw4f80/s64/photo.jpg",
      "userId": "09904144145241711927"
     },
     "user_tz": -60
    },
    "id": "iqw2PDeWiKZ2",
    "outputId": "681ec671-3d41-4298-9074-ba947a992ada"
   },
   "outputs": [
    {
     "data": {
      "text/plain": [
       "9.5"
      ]
     },
     "execution_count": 45,
     "metadata": {},
     "output_type": "execute_result"
    }
   ],
   "source": [
    "np.mean(array2d)"
   ]
  },
  {
   "cell_type": "markdown",
   "metadata": {
    "id": "cnXQVnwMVo12"
   },
   "source": [
    "## Exercise 1\n",
    "\n",
    "Write a function that calculates linear regression given input vectors x and y.\n",
    "\n",
    "Reminder:\n",
    "\n",
    "$$ f(x) = a \\cdot x + b$$\n",
    "\n",
    "z \n",
    "\n",
    "$$\n",
    "\\hat{a} = \\frac{\\mathrm{Cov}(x, y)}{\\mathrm{Var}(x)} \\\\\n",
    "\\hat{b} = \\bar{y} - \\hat{a} \\cdot \\bar{x}\n",
    "$$"
   ]
  },
  {
   "cell_type": "code",
   "execution_count": 46,
   "metadata": {
    "executionInfo": {
     "elapsed": 1141,
     "status": "ok",
     "timestamp": 1607014851455,
     "user": {
      "displayName": "Tomasz Różański",
      "photoUrl": "https://lh4.googleusercontent.com/-CdAQaQI9V1E/AAAAAAAAAAI/AAAAAAAAAvI/rnNPiSw4f80/s64/photo.jpg",
      "userId": "09904144145241711927"
     },
     "user_tz": -60
    },
    "id": "vvsxlGxIV-qx"
   },
   "outputs": [],
   "source": [
    "def linear_regression(x,y):\n",
    "  ## TODO: implement\n",
    "  ## use np.cov and np.mea\n",
    "  cov_matrix = np.cov(x, y)\n",
    "  a = cov_matrix[0, 1] / cov_matrix[0, 0]\n",
    "  b = np.mean(y) - a * np.mean(x)\n",
    "  return a,b"
   ]
  },
  {
   "cell_type": "code",
   "execution_count": 47,
   "metadata": {
    "colab": {
     "base_uri": "https://localhost:8080/"
    },
    "executionInfo": {
     "elapsed": 522,
     "status": "ok",
     "timestamp": 1607015017816,
     "user": {
      "displayName": "Tomasz Różański",
      "photoUrl": "https://lh4.googleusercontent.com/-CdAQaQI9V1E/AAAAAAAAAAI/AAAAAAAAAvI/rnNPiSw4f80/s64/photo.jpg",
      "userId": "09904144145241711927"
     },
     "user_tz": -60
    },
    "id": "bHRPxXj1VhLA",
    "outputId": "db3afa32-e938-470a-b5bf-c85405690712"
   },
   "outputs": [
    {
     "name": "stdout",
     "output_type": "stream",
     "text": [
      "4.997876179077148 2.0396879733470388\n"
     ]
    }
   ],
   "source": [
    "x = np.linspace(0, 1, 50)\n",
    "y = 5 * np.random.normal(x, 0.2) + 2  # see section on random numbers later\n",
    "# y = 5 * x + 2\n",
    "a, b = linear_regression(x, y)\n",
    "print(a,b)"
   ]
  },
  {
   "cell_type": "code",
   "execution_count": 48,
   "metadata": {
    "colab": {
     "base_uri": "https://localhost:8080/",
     "height": 282
    },
    "executionInfo": {
     "elapsed": 1800,
     "status": "ok",
     "timestamp": 1607015019663,
     "user": {
      "displayName": "Tomasz Różański",
      "photoUrl": "https://lh4.googleusercontent.com/-CdAQaQI9V1E/AAAAAAAAAAI/AAAAAAAAAvI/rnNPiSw4f80/s64/photo.jpg",
      "userId": "09904144145241711927"
     },
     "user_tz": -60
    },
    "id": "FBq7hVWrWYVA",
    "outputId": "0ea250cf-c4d4-40da-8024-fafc70c5b381"
   },
   "outputs": [
    {
     "data": {
      "text/plain": [
       "[<matplotlib.lines.Line2D at 0x7f813e6e6c10>]"
      ]
     },
     "execution_count": 48,
     "metadata": {},
     "output_type": "execute_result"
    },
    {
     "data": {
      "image/png": "[encoded data removed]",
      "text/plain": [
       "<Figure size 640x480 with 1 Axes>"
      ]
     },
     "metadata": {},
     "output_type": "display_data"
    }
   ],
   "source": [
    "plt.scatter(x, y)\n",
    "plt.plot(x, (a * x) + b)"
   ]
  },
  {
   "cell_type": "markdown",
   "metadata": {
    "id": "rX8z5j6qYwcy"
   },
   "source": [
    "### Creating arrays"
   ]
  },
  {
   "cell_type": "code",
   "execution_count": 49,
   "metadata": {
    "colab": {
     "base_uri": "https://localhost:8080/"
    },
    "executionInfo": {
     "elapsed": 666,
     "status": "ok",
     "timestamp": 1607015081338,
     "user": {
      "displayName": "Tomasz Różański",
      "photoUrl": "https://lh4.googleusercontent.com/-CdAQaQI9V1E/AAAAAAAAAAI/AAAAAAAAAvI/rnNPiSw4f80/s64/photo.jpg",
      "userId": "09904144145241711927"
     },
     "user_tz": -60
    },
    "id": "TpOaTuQ3YQRE",
    "outputId": "107c9db5-0664-470d-b701-0dc17d4b58fe"
   },
   "outputs": [
    {
     "data": {
      "text/plain": [
       "array([0., 0., 0., 0., 0., 0., 0., 0., 0., 0.])"
      ]
     },
     "execution_count": 49,
     "metadata": {},
     "output_type": "execute_result"
    }
   ],
   "source": [
    "np.zeros(10)"
   ]
  },
  {
   "cell_type": "code",
   "execution_count": 50,
   "metadata": {
    "colab": {
     "base_uri": "https://localhost:8080/"
    },
    "executionInfo": {
     "elapsed": 621,
     "status": "ok",
     "timestamp": 1607015087439,
     "user": {
      "displayName": "Tomasz Różański",
      "photoUrl": "https://lh4.googleusercontent.com/-CdAQaQI9V1E/AAAAAAAAAAI/AAAAAAAAAvI/rnNPiSw4f80/s64/photo.jpg",
      "userId": "09904144145241711927"
     },
     "user_tz": -60
    },
    "id": "03s7g2gKYzlV",
    "outputId": "75e143dd-e532-4c46-fd3c-2b3fc5ae414f"
   },
   "outputs": [
    {
     "data": {
      "text/plain": [
       "array([[1., 1.],\n",
       "       [1., 1.],\n",
       "       [1., 1.],\n",
       "       [1., 1.],\n",
       "       [1., 1.]])"
      ]
     },
     "execution_count": 50,
     "metadata": {},
     "output_type": "execute_result"
    }
   ],
   "source": [
    "np.ones((5, 2))"
   ]
  },
  {
   "cell_type": "code",
   "execution_count": 51,
   "metadata": {
    "colab": {
     "base_uri": "https://localhost:8080/"
    },
    "executionInfo": {
     "elapsed": 1157,
     "status": "ok",
     "timestamp": 1607015117098,
     "user": {
      "displayName": "Tomasz Różański",
      "photoUrl": "https://lh4.googleusercontent.com/-CdAQaQI9V1E/AAAAAAAAAAI/AAAAAAAAAvI/rnNPiSw4f80/s64/photo.jpg",
      "userId": "09904144145241711927"
     },
     "user_tz": -60
    },
    "id": "fF5fMR-LYzoI",
    "outputId": "cb3306a6-b11e-4b9d-fe85-78a67a1f35b7"
   },
   "outputs": [
    {
     "data": {
      "text/plain": [
       "array([[nan, nan, nan, nan, nan],\n",
       "       [nan, nan, nan, nan, nan],\n",
       "       [nan, nan, nan, nan, nan],\n",
       "       [nan, nan, nan, nan, nan],\n",
       "       [nan, nan, nan, nan, nan]])"
      ]
     },
     "execution_count": 51,
     "metadata": {},
     "output_type": "execute_result"
    }
   ],
   "source": [
    "np.full((5,5), np.nan)"
   ]
  },
  {
   "cell_type": "code",
   "execution_count": 55,
   "metadata": {
    "colab": {
     "base_uri": "https://localhost:8080/"
    },
    "executionInfo": {
     "elapsed": 640,
     "status": "ok",
     "timestamp": 1607015120882,
     "user": {
      "displayName": "Tomasz Różański",
      "photoUrl": "https://lh4.googleusercontent.com/-CdAQaQI9V1E/AAAAAAAAAAI/AAAAAAAAAvI/rnNPiSw4f80/s64/photo.jpg",
      "userId": "09904144145241711927"
     },
     "user_tz": -60
    },
    "id": "ppbDGiFZYzq4",
    "outputId": "a17ea93f-62de-4688-eb21-a61466f2e52d"
   },
   "outputs": [
    {
     "data": {
      "text/plain": [
       "array([ 93.29661395, 174.0339533 , 254.77129266, 335.50863201,\n",
       "       403.32222222])"
      ]
     },
     "execution_count": 55,
     "metadata": {},
     "output_type": "execute_result"
    }
   ],
   "source": [
    "np.empty(5)  # Warning: Uninitialized memory space"
   ]
  },
  {
   "cell_type": "code",
   "execution_count": 56,
   "metadata": {
    "colab": {
     "base_uri": "https://localhost:8080/"
    },
    "executionInfo": {
     "elapsed": 1265,
     "status": "ok",
     "timestamp": 1607015136617,
     "user": {
      "displayName": "Tomasz Różański",
      "photoUrl": "https://lh4.googleusercontent.com/-CdAQaQI9V1E/AAAAAAAAAAI/AAAAAAAAAvI/rnNPiSw4f80/s64/photo.jpg",
      "userId": "09904144145241711927"
     },
     "user_tz": -60
    },
    "id": "XOxk5gjeYzu8",
    "outputId": "78b6367e-c01e-4e37-f8c7-3e6049eb39fc"
   },
   "outputs": [
    {
     "data": {
      "text/plain": [
       "array([0. , 0.1, 0.2, 0.3, 0.4, 0.5, 0.6, 0.7, 0.8, 0.9, 1. ])"
      ]
     },
     "execution_count": 56,
     "metadata": {},
     "output_type": "execute_result"
    }
   ],
   "source": [
    "np.linspace(0, 1, 11)"
   ]
  },
  {
   "cell_type": "code",
   "execution_count": 57,
   "metadata": {
    "colab": {
     "base_uri": "https://localhost:8080/"
    },
    "executionInfo": {
     "elapsed": 667,
     "status": "ok",
     "timestamp": 1607015163504,
     "user": {
      "displayName": "Tomasz Różański",
      "photoUrl": "https://lh4.googleusercontent.com/-CdAQaQI9V1E/AAAAAAAAAAI/AAAAAAAAAvI/rnNPiSw4f80/s64/photo.jpg",
      "userId": "09904144145241711927"
     },
     "user_tz": -60
    },
    "id": "WmnfmMqtY-qG",
    "outputId": "db833666-8d2c-4f92-ff61-d4f4e74303ea"
   },
   "outputs": [
    {
     "data": {
      "text/plain": [
       "array([0, 1, 2, 3, 4, 5, 6, 7, 8, 9])"
      ]
     },
     "execution_count": 57,
     "metadata": {},
     "output_type": "execute_result"
    }
   ],
   "source": [
    "np.arange(0, 10)"
   ]
  },
  {
   "cell_type": "code",
   "execution_count": 58,
   "metadata": {
    "colab": {
     "base_uri": "https://localhost:8080/"
    },
    "executionInfo": {
     "elapsed": 600,
     "status": "ok",
     "timestamp": 1607015171250,
     "user": {
      "displayName": "Tomasz Różański",
      "photoUrl": "https://lh4.googleusercontent.com/-CdAQaQI9V1E/AAAAAAAAAAI/AAAAAAAAAvI/rnNPiSw4f80/s64/photo.jpg",
      "userId": "09904144145241711927"
     },
     "user_tz": -60
    },
    "id": "wmuVN00fY-sk",
    "outputId": "b690a430-a4f8-4172-d3e3-8462d28b9086"
   },
   "outputs": [
    {
     "data": {
      "text/plain": [
       "array([1.e-04, 1.e-03, 1.e-02, 1.e-01, 1.e+00, 1.e+01, 1.e+02, 1.e+03,\n",
       "       1.e+04, 1.e+05])"
      ]
     },
     "execution_count": 58,
     "metadata": {},
     "output_type": "execute_result"
    }
   ],
   "source": [
    "np.logspace(-4, 5, 10)"
   ]
  },
  {
   "cell_type": "markdown",
   "metadata": {
    "id": "5TQRuxOyZCtj"
   },
   "source": [
    "### Array indexing\n",
    "* access to elements\n",
    "* 'slicing'"
   ]
  },
  {
   "cell_type": "code",
   "execution_count": 59,
   "metadata": {
    "colab": {
     "base_uri": "https://localhost:8080/"
    },
    "executionInfo": {
     "elapsed": 660,
     "status": "ok",
     "timestamp": 1607015212837,
     "user": {
      "displayName": "Tomasz Różański",
      "photoUrl": "https://lh4.googleusercontent.com/-CdAQaQI9V1E/AAAAAAAAAAI/AAAAAAAAAvI/rnNPiSw4f80/s64/photo.jpg",
      "userId": "09904144145241711927"
     },
     "user_tz": -60
    },
    "id": "jSnu2iZOZCIn",
    "outputId": "0f0a4ca9-91c5-4657-a35a-e6581a0ec2ec"
   },
   "outputs": [
    {
     "data": {
      "text/plain": [
       "4"
      ]
     },
     "execution_count": 59,
     "metadata": {},
     "output_type": "execute_result"
    }
   ],
   "source": [
    "x = np.arange(0, 10)\n",
    "\n",
    "# like lists:\n",
    "x[4]"
   ]
  },
  {
   "cell_type": "code",
   "execution_count": 60,
   "metadata": {
    "colab": {
     "base_uri": "https://localhost:8080/"
    },
    "executionInfo": {
     "elapsed": 652,
     "status": "ok",
     "timestamp": 1607015228634,
     "user": {
      "displayName": "Tomasz Różański",
      "photoUrl": "https://lh4.googleusercontent.com/-CdAQaQI9V1E/AAAAAAAAAAI/AAAAAAAAAvI/rnNPiSw4f80/s64/photo.jpg",
      "userId": "09904144145241711927"
     },
     "user_tz": -60
    },
    "id": "IGkDj_sAZMPx",
    "outputId": "35ef1517-957c-4f5b-a635-08dad4ec1651"
   },
   "outputs": [
    {
     "data": {
      "text/plain": [
       "array([1, 2, 3])"
      ]
     },
     "execution_count": 60,
     "metadata": {},
     "output_type": "execute_result"
    }
   ],
   "source": [
    "# all elements with indices ≥1 and <4:\n",
    "x[1:4]"
   ]
  },
  {
   "cell_type": "code",
   "execution_count": 61,
   "metadata": {
    "colab": {
     "base_uri": "https://localhost:8080/"
    },
    "executionInfo": {
     "elapsed": 662,
     "status": "ok",
     "timestamp": 1607015236130,
     "user": {
      "displayName": "Tomasz Różański",
      "photoUrl": "https://lh4.googleusercontent.com/-CdAQaQI9V1E/AAAAAAAAAAI/AAAAAAAAAvI/rnNPiSw4f80/s64/photo.jpg",
      "userId": "09904144145241711927"
     },
     "user_tz": -60
    },
    "id": "7MVZdGGyZOT4",
    "outputId": "480b5def-54f8-4c84-c72b-d46251c62f7c"
   },
   "outputs": [
    {
     "data": {
      "text/plain": [
       "(9, 8)"
      ]
     },
     "execution_count": 61,
     "metadata": {},
     "output_type": "execute_result"
    }
   ],
   "source": [
    "# negative indices count from the end\n",
    "x[-1], x[-2]"
   ]
  },
  {
   "cell_type": "code",
   "execution_count": 62,
   "metadata": {
    "colab": {
     "base_uri": "https://localhost:8080/"
    },
    "executionInfo": {
     "elapsed": 702,
     "status": "ok",
     "timestamp": 1607015241922,
     "user": {
      "displayName": "Tomasz Różański",
      "photoUrl": "https://lh4.googleusercontent.com/-CdAQaQI9V1E/AAAAAAAAAAI/AAAAAAAAAvI/rnNPiSw4f80/s64/photo.jpg",
      "userId": "09904144145241711927"
     },
     "user_tz": -60
    },
    "id": "EU-r6l_pZOWR",
    "outputId": "6dd8056a-c2d7-4537-95c0-1cb599dc66b5"
   },
   "outputs": [
    {
     "data": {
      "text/plain": [
       "array([3, 4, 5, 6, 7])"
      ]
     },
     "execution_count": 62,
     "metadata": {},
     "output_type": "execute_result"
    }
   ],
   "source": [
    "# combination:\n",
    "x[3:-2]"
   ]
  },
  {
   "cell_type": "code",
   "execution_count": 63,
   "metadata": {
    "colab": {
     "base_uri": "https://localhost:8080/"
    },
    "executionInfo": {
     "elapsed": 760,
     "status": "ok",
     "timestamp": 1607015255274,
     "user": {
      "displayName": "Tomasz Różański",
      "photoUrl": "https://lh4.googleusercontent.com/-CdAQaQI9V1E/AAAAAAAAAAI/AAAAAAAAAvI/rnNPiSw4f80/s64/photo.jpg",
      "userId": "09904144145241711927"
     },
     "user_tz": -60
    },
    "id": "jUzo66FJZOYY",
    "outputId": "bce811ca-1d46-4282-a2ed-ca141bdc6602"
   },
   "outputs": [
    {
     "data": {
      "text/plain": [
       "array([0, 2, 4, 6, 8])"
      ]
     },
     "execution_count": 63,
     "metadata": {},
     "output_type": "execute_result"
    }
   ],
   "source": [
    "# step size\n",
    "x[::2]"
   ]
  },
  {
   "cell_type": "code",
   "execution_count": 64,
   "metadata": {
    "colab": {
     "base_uri": "https://localhost:8080/"
    },
    "executionInfo": {
     "elapsed": 673,
     "status": "ok",
     "timestamp": 1607015264236,
     "user": {
      "displayName": "Tomasz Różański",
      "photoUrl": "https://lh4.googleusercontent.com/-CdAQaQI9V1E/AAAAAAAAAAI/AAAAAAAAAvI/rnNPiSw4f80/s64/photo.jpg",
      "userId": "09904144145241711927"
     },
     "user_tz": -60
    },
    "id": "IS-KA26CZObC",
    "outputId": "115fa310-09c6-46f1-81cd-7739aa0c659d"
   },
   "outputs": [
    {
     "data": {
      "text/plain": [
       "array([9, 8, 7, 6, 5, 4, 3, 2, 1, 0])"
      ]
     },
     "execution_count": 64,
     "metadata": {},
     "output_type": "execute_result"
    }
   ],
   "source": [
    "# trick for reversal: negative step\n",
    "x[::-1]"
   ]
  },
  {
   "cell_type": "code",
   "execution_count": 65,
   "metadata": {
    "colab": {
     "base_uri": "https://localhost:8080/"
    },
    "executionInfo": {
     "elapsed": 821,
     "status": "ok",
     "timestamp": 1607015293822,
     "user": {
      "displayName": "Tomasz Różański",
      "photoUrl": "https://lh4.googleusercontent.com/-CdAQaQI9V1E/AAAAAAAAAAI/AAAAAAAAAvI/rnNPiSw4f80/s64/photo.jpg",
      "userId": "09904144145241711927"
     },
     "user_tz": -60
    },
    "id": "f94RuIUfZOdb",
    "outputId": "007f4ff3-2b25-41d0-a74a-b71763435db4"
   },
   "outputs": [
    {
     "data": {
      "text/plain": [
       "array([[ 0,  1,  2,  3,  4,  5,  6,  7,  8,  9],\n",
       "       [10, 11, 12, 13, 14, 15, 16, 17, 18, 19],\n",
       "       [20, 21, 22, 23, 24, 25, 26, 27, 28, 29],\n",
       "       [30, 31, 32, 33, 34, 35, 36, 37, 38, 39]])"
      ]
     },
     "execution_count": 65,
     "metadata": {},
     "output_type": "execute_result"
    }
   ],
   "source": [
    "y = np.array([x, x + 10, x + 20, x + 30])\n",
    "y"
   ]
  },
  {
   "cell_type": "code",
   "execution_count": 66,
   "metadata": {
    "colab": {
     "base_uri": "https://localhost:8080/"
    },
    "executionInfo": {
     "elapsed": 621,
     "status": "ok",
     "timestamp": 1607015340107,
     "user": {
      "displayName": "Tomasz Różański",
      "photoUrl": "https://lh4.googleusercontent.com/-CdAQaQI9V1E/AAAAAAAAAAI/AAAAAAAAAvI/rnNPiSw4f80/s64/photo.jpg",
      "userId": "09904144145241711927"
     },
     "user_tz": -60
    },
    "id": "EIqcWPWwk8K_",
    "outputId": "fd6f1e7b-897a-4fd9-bff2-d1b8b1174688"
   },
   "outputs": [
    {
     "data": {
      "text/plain": [
       "25"
      ]
     },
     "execution_count": 66,
     "metadata": {},
     "output_type": "execute_result"
    }
   ],
   "source": [
    "y[2,5]"
   ]
  },
  {
   "cell_type": "code",
   "execution_count": 67,
   "metadata": {
    "colab": {
     "base_uri": "https://localhost:8080/"
    },
    "executionInfo": {
     "elapsed": 692,
     "status": "ok",
     "timestamp": 1607015354027,
     "user": {
      "displayName": "Tomasz Różański",
      "photoUrl": "https://lh4.googleusercontent.com/-CdAQaQI9V1E/AAAAAAAAAAI/AAAAAAAAAvI/rnNPiSw4f80/s64/photo.jpg",
      "userId": "09904144145241711927"
     },
     "user_tz": -60
    },
    "id": "IuKy-fphZOgC",
    "outputId": "6c9dda82-d3fb-47e0-be18-7fd34417cf37"
   },
   "outputs": [
    {
     "data": {
      "text/plain": [
       "array([32, 33, 34, 35, 36, 37, 38])"
      ]
     },
     "execution_count": 67,
     "metadata": {},
     "output_type": "execute_result"
    }
   ],
   "source": [
    "# comma between indices\n",
    "y[3, 2:-1]"
   ]
  },
  {
   "cell_type": "code",
   "execution_count": 68,
   "metadata": {
    "colab": {
     "base_uri": "https://localhost:8080/"
    },
    "executionInfo": {
     "elapsed": 950,
     "status": "ok",
     "timestamp": 1607015360919,
     "user": {
      "displayName": "Tomasz Różański",
      "photoUrl": "https://lh4.googleusercontent.com/-CdAQaQI9V1E/AAAAAAAAAAI/AAAAAAAAAvI/rnNPiSw4f80/s64/photo.jpg",
      "userId": "09904144145241711927"
     },
     "user_tz": -60
    },
    "id": "YDVa2IgtZX4Z",
    "outputId": "840b327a-1ec9-43ae-8c0a-26432a7eafd3"
   },
   "outputs": [
    {
     "data": {
      "text/plain": [
       "array([20, 21, 22, 23, 24, 25, 26, 27, 28, 29])"
      ]
     },
     "execution_count": 68,
     "metadata": {},
     "output_type": "execute_result"
    }
   ],
   "source": [
    "# only one index ⇒ one-dimensional array\n",
    "y[2]"
   ]
  },
  {
   "cell_type": "code",
   "execution_count": 69,
   "metadata": {
    "colab": {
     "base_uri": "https://localhost:8080/"
    },
    "executionInfo": {
     "elapsed": 638,
     "status": "ok",
     "timestamp": 1607015427862,
     "user": {
      "displayName": "Tomasz Różański",
      "photoUrl": "https://lh4.googleusercontent.com/-CdAQaQI9V1E/AAAAAAAAAAI/AAAAAAAAAvI/rnNPiSw4f80/s64/photo.jpg",
      "userId": "09904144145241711927"
     },
     "user_tz": -60
    },
    "id": "ZGnq1EeZZX65",
    "outputId": "d6511b12-e0fd-49ed-8ffc-eb4d5eba16ea"
   },
   "outputs": [
    {
     "data": {
      "text/plain": [
       "array([ 3, 13, 23, 33])"
      ]
     },
     "execution_count": 69,
     "metadata": {},
     "output_type": "execute_result"
    }
   ],
   "source": [
    "# other axis: (: alone means the whole axis)\n",
    "y[:, 3]"
   ]
  },
  {
   "cell_type": "code",
   "execution_count": 70,
   "metadata": {
    "colab": {
     "base_uri": "https://localhost:8080/"
    },
    "executionInfo": {
     "elapsed": 810,
     "status": "ok",
     "timestamp": 1607015385794,
     "user": {
      "displayName": "Tomasz Różański",
      "photoUrl": "https://lh4.googleusercontent.com/-CdAQaQI9V1E/AAAAAAAAAAI/AAAAAAAAAvI/rnNPiSw4f80/s64/photo.jpg",
      "userId": "09904144145241711927"
     },
     "user_tz": -60
    },
    "id": "nsv-PRpqZX9V",
    "outputId": "07f89b64-845a-4db3-f769-a445d1a05a76"
   },
   "outputs": [
    {
     "data": {
      "text/plain": [
       "(4, 10)"
      ]
     },
     "execution_count": 70,
     "metadata": {},
     "output_type": "execute_result"
    }
   ],
   "source": [
    "# inspecting the number of elements per axis:\n",
    "y.shape"
   ]
  },
  {
   "cell_type": "markdown",
   "metadata": {
    "id": "IT96fT6zZkwt"
   },
   "source": [
    "### Overwriting array elements"
   ]
  },
  {
   "cell_type": "code",
   "execution_count": 71,
   "metadata": {
    "colab": {
     "base_uri": "https://localhost:8080/"
    },
    "executionInfo": {
     "elapsed": 683,
     "status": "ok",
     "timestamp": 1607015439576,
     "user": {
      "displayName": "Tomasz Różański",
      "photoUrl": "https://lh4.googleusercontent.com/-CdAQaQI9V1E/AAAAAAAAAAI/AAAAAAAAAvI/rnNPiSw4f80/s64/photo.jpg",
      "userId": "09904144145241711927"
     },
     "user_tz": -60
    },
    "id": "YWshCbudZX_k",
    "outputId": "0fdaff3e-4573-4fe1-cd6c-9535f97d19d5"
   },
   "outputs": [
    {
     "data": {
      "text/plain": [
       "array([[ 0,  1,  2,  3,  4,  5,  6,  7,  8,  9],\n",
       "       [10, 11, 12, 13, 14, 15, 16, 17, 18, 19],\n",
       "       [20, 21, 22, 23, 24, 25, 26, 27, 28, 29],\n",
       "       [30, 31, 32, 33, 34, 35, 36, 37, 38, 39]])"
      ]
     },
     "execution_count": 71,
     "metadata": {},
     "output_type": "execute_result"
    }
   ],
   "source": [
    "y"
   ]
  },
  {
   "cell_type": "code",
   "execution_count": 72,
   "metadata": {
    "colab": {
     "base_uri": "https://localhost:8080/"
    },
    "executionInfo": {
     "elapsed": 644,
     "status": "ok",
     "timestamp": 1607015495779,
     "user": {
      "displayName": "Tomasz Różański",
      "photoUrl": "https://lh4.googleusercontent.com/-CdAQaQI9V1E/AAAAAAAAAAI/AAAAAAAAAvI/rnNPiSw4f80/s64/photo.jpg",
      "userId": "09904144145241711927"
     },
     "user_tz": -60
    },
    "id": "XAgF-YtqZp0y",
    "outputId": "61ca671a-06a1-430a-901a-34a18d351686"
   },
   "outputs": [
    {
     "data": {
      "text/plain": [
       "array([[ 0,  1,  2,  0,  4,  5,  6,  7,  8,  9],\n",
       "       [10, 11, 12,  0, 14, 15, 16, 17, 18, 19],\n",
       "       [20, 21, 22,  0, 24, 25, 26, 27, 28, 29],\n",
       "       [30, 31, 32,  0, 34, 35, 36, 37, 38, 39]])"
      ]
     },
     "execution_count": 72,
     "metadata": {},
     "output_type": "execute_result"
    }
   ],
   "source": [
    "y[:, 3] = 0\n",
    "y"
   ]
  },
  {
   "cell_type": "markdown",
   "metadata": {
    "id": "V6ShbTJNZtTu"
   },
   "source": [
    "'Slicing' from both sides"
   ]
  },
  {
   "cell_type": "code",
   "execution_count": 74,
   "metadata": {
    "colab": {
     "base_uri": "https://localhost:8080/"
    },
    "executionInfo": {
     "elapsed": 650,
     "status": "ok",
     "timestamp": 1607015611942,
     "user": {
      "displayName": "Tomasz Różański",
      "photoUrl": "https://lh4.googleusercontent.com/-CdAQaQI9V1E/AAAAAAAAAAI/AAAAAAAAAvI/rnNPiSw4f80/s64/photo.jpg",
      "userId": "09904144145241711927"
     },
     "user_tz": -60
    },
    "id": "duZpx3-1Zp3b",
    "outputId": "8e0d4ea6-8dd7-4182-d4cb-6189a7ed015d"
   },
   "outputs": [
    {
     "data": {
      "text/plain": [
       "array([[ 3,  1,  2,  0,  4,  5,  6,  7,  8,  9],\n",
       "       [ 4, 11, 12,  0, 14, 15, 16, 17, 18, 19],\n",
       "       [ 5, 21, 22,  0, 24, 25, 26, 27, 28, 29],\n",
       "       [ 6, 31, 32,  0, 34, 35, 36, 37, 38, 39]])"
      ]
     },
     "execution_count": 74,
     "metadata": {},
     "output_type": "execute_result"
    }
   ],
   "source": [
    "y[:,0] = x[3:7]\n",
    "y"
   ]
  },
  {
   "cell_type": "markdown",
   "metadata": {
    "id": "xwqtzjhTZyTv"
   },
   "source": [
    "Transposition"
   ]
  },
  {
   "cell_type": "code",
   "execution_count": 75,
   "metadata": {
    "colab": {
     "base_uri": "https://localhost:8080/"
    },
    "executionInfo": {
     "elapsed": 681,
     "status": "ok",
     "timestamp": 1607015654540,
     "user": {
      "displayName": "Tomasz Różański",
      "photoUrl": "https://lh4.googleusercontent.com/-CdAQaQI9V1E/AAAAAAAAAAI/AAAAAAAAAvI/rnNPiSw4f80/s64/photo.jpg",
      "userId": "09904144145241711927"
     },
     "user_tz": -60
    },
    "id": "QlFBhZeoZyap",
    "outputId": "c1b4d7de-be4a-4b50-fa93-115f70d504ca"
   },
   "outputs": [
    {
     "data": {
      "text/plain": [
       "array([[ 3,  1,  2,  0,  4,  5,  6,  7,  8,  9],\n",
       "       [ 4, 11, 12,  0, 14, 15, 16, 17, 18, 19],\n",
       "       [ 5, 21, 22,  0, 24, 25, 26, 27, 28, 29],\n",
       "       [ 6, 31, 32,  0, 34, 35, 36, 37, 38, 39]])"
      ]
     },
     "execution_count": 75,
     "metadata": {},
     "output_type": "execute_result"
    }
   ],
   "source": [
    "y"
   ]
  },
  {
   "cell_type": "code",
   "execution_count": 76,
   "metadata": {
    "colab": {
     "base_uri": "https://localhost:8080/"
    },
    "executionInfo": {
     "elapsed": 893,
     "status": "ok",
     "timestamp": 1607015656786,
     "user": {
      "displayName": "Tomasz Różański",
      "photoUrl": "https://lh4.googleusercontent.com/-CdAQaQI9V1E/AAAAAAAAAAI/AAAAAAAAAvI/rnNPiSw4f80/s64/photo.jpg",
      "userId": "09904144145241711927"
     },
     "user_tz": -60
    },
    "id": "ZtPByfhFZ6-u",
    "outputId": "82ae318f-c482-4733-c172-6218a49528fb"
   },
   "outputs": [
    {
     "data": {
      "text/plain": [
       "(4, 10)"
      ]
     },
     "execution_count": 76,
     "metadata": {},
     "output_type": "execute_result"
    }
   ],
   "source": [
    "y.shape"
   ]
  },
  {
   "cell_type": "code",
   "execution_count": 77,
   "metadata": {
    "colab": {
     "base_uri": "https://localhost:8080/"
    },
    "executionInfo": {
     "elapsed": 685,
     "status": "ok",
     "timestamp": 1607015659766,
     "user": {
      "displayName": "Tomasz Różański",
      "photoUrl": "https://lh4.googleusercontent.com/-CdAQaQI9V1E/AAAAAAAAAAI/AAAAAAAAAvI/rnNPiSw4f80/s64/photo.jpg",
      "userId": "09904144145241711927"
     },
     "user_tz": -60
    },
    "id": "AdArHb0dZ7BU",
    "outputId": "a968a370-69f3-4258-b7ca-7195794132a6"
   },
   "outputs": [
    {
     "data": {
      "text/plain": [
       "array([[ 3,  4,  5,  6],\n",
       "       [ 1, 11, 21, 31],\n",
       "       [ 2, 12, 22, 32],\n",
       "       [ 0,  0,  0,  0],\n",
       "       [ 4, 14, 24, 34],\n",
       "       [ 5, 15, 25, 35],\n",
       "       [ 6, 16, 26, 36],\n",
       "       [ 7, 17, 27, 37],\n",
       "       [ 8, 18, 28, 38],\n",
       "       [ 9, 19, 29, 39]])"
      ]
     },
     "execution_count": 77,
     "metadata": {},
     "output_type": "execute_result"
    }
   ],
   "source": [
    "y.T"
   ]
  },
  {
   "cell_type": "code",
   "execution_count": 78,
   "metadata": {
    "colab": {
     "base_uri": "https://localhost:8080/"
    },
    "executionInfo": {
     "elapsed": 1112,
     "status": "ok",
     "timestamp": 1607015665208,
     "user": {
      "displayName": "Tomasz Różański",
      "photoUrl": "https://lh4.googleusercontent.com/-CdAQaQI9V1E/AAAAAAAAAAI/AAAAAAAAAvI/rnNPiSw4f80/s64/photo.jpg",
      "userId": "09904144145241711927"
     },
     "user_tz": -60
    },
    "id": "QGcNN16EZ7Eu",
    "outputId": "1ad039bc-dc66-4167-a819-21df76eb9c38"
   },
   "outputs": [
    {
     "data": {
      "text/plain": [
       "(10, 4)"
      ]
     },
     "execution_count": 78,
     "metadata": {},
     "output_type": "execute_result"
    }
   ],
   "source": [
    "y.T.shape"
   ]
  },
  {
   "cell_type": "markdown",
   "metadata": {
    "id": "59cLMRmkaHit"
   },
   "source": [
    "### Usage of masks\n",
    "\n",
    "An array filled with Boolean values can be used for accessing selected values in another array."
   ]
  },
  {
   "cell_type": "code",
   "execution_count": 79,
   "metadata": {
    "colab": {
     "base_uri": "https://localhost:8080/"
    },
    "executionInfo": {
     "elapsed": 639,
     "status": "ok",
     "timestamp": 1607015753510,
     "user": {
      "displayName": "Tomasz Różański",
      "photoUrl": "https://lh4.googleusercontent.com/-CdAQaQI9V1E/AAAAAAAAAAI/AAAAAAAAAvI/rnNPiSw4f80/s64/photo.jpg",
      "userId": "09904144145241711927"
     },
     "user_tz": -60
    },
    "id": "Zd_VkSKMaJGO",
    "outputId": "9e5383ee-079d-4265-c2b8-adc3c44e4d17"
   },
   "outputs": [
    {
     "name": "stdout",
     "output_type": "stream",
     "text": [
      "[0.  0.2 0.4 0.6 0.8 1.  1.2 1.4 1.6 1.8 2. ]\n",
      "[-0.52549589  1.15581127  0.01266297  0.69350996  2.41330969 -1.07804334\n",
      " -0.53804999 -0.96645263 -2.30176679  0.05253382  1.24868897]\n",
      "[False  True  True  True  True False False False False  True  True]\n",
      "[0.2 0.4 0.6 0.8 1.8 2. ]\n"
     ]
    }
   ],
   "source": [
    "a = np.linspace(0, 2, 11)\n",
    "b = np.random.normal(0, 1, 11)\n",
    "print(a)\n",
    "print(b)\n",
    "print(b >= 0)\n",
    "print(a[b >= 0])"
   ]
  },
  {
   "cell_type": "code",
   "execution_count": 80,
   "metadata": {
    "colab": {
     "base_uri": "https://localhost:8080/"
    },
    "executionInfo": {
     "elapsed": 1006,
     "status": "ok",
     "timestamp": 1607015880111,
     "user": {
      "displayName": "Tomasz Różański",
      "photoUrl": "https://lh4.googleusercontent.com/-CdAQaQI9V1E/AAAAAAAAAAI/AAAAAAAAAvI/rnNPiSw4f80/s64/photo.jpg",
      "userId": "09904144145241711927"
     },
     "user_tz": -60
    },
    "id": "LDO0M2c_aWu-",
    "outputId": "83007fb0-e1a4-4f2b-cc86-f94924e4ee21"
   },
   "outputs": [
    {
     "data": {
      "text/plain": [
       "array([0. , 0.2, 0.4, 0.6, 0.8, 0. , 0. , 0. , 0. , 1.8, 2. ])"
      ]
     },
     "execution_count": 80,
     "metadata": {},
     "output_type": "execute_result"
    }
   ],
   "source": [
    "a[b < 0] = 0\n",
    "a"
   ]
  },
  {
   "cell_type": "code",
   "execution_count": 81,
   "metadata": {
    "colab": {
     "base_uri": "https://localhost:8080/",
     "height": 282
    },
    "executionInfo": {
     "elapsed": 1037,
     "status": "ok",
     "timestamp": 1607016025838,
     "user": {
      "displayName": "Tomasz Różański",
      "photoUrl": "https://lh4.googleusercontent.com/-CdAQaQI9V1E/AAAAAAAAAAI/AAAAAAAAAvI/rnNPiSw4f80/s64/photo.jpg",
      "userId": "09904144145241711927"
     },
     "user_tz": -60
    },
    "id": "li7KZyGRnUS9",
    "outputId": "5ec3d90c-63a6-48a1-d50b-5eb5be24a244"
   },
   "outputs": [
    {
     "data": {
      "text/plain": [
       "[<matplotlib.lines.Line2D at 0x7f813f2deee0>]"
      ]
     },
     "execution_count": 81,
     "metadata": {},
     "output_type": "execute_result"
    },
    {
     "data": {
      "image/png": "[encoded data removed]",
      "text/plain": [
       "<Figure size 640x480 with 1 Axes>"
      ]
     },
     "metadata": {},
     "output_type": "display_data"
    }
   ],
   "source": [
    "x = np.arange(3000,7000,0.01)\n",
    "period = 100\n",
    "y = np.sin(2*np.pi/period * x)\n",
    "\n",
    "plt.plot(x,y)"
   ]
  },
  {
   "cell_type": "code",
   "execution_count": 82,
   "metadata": {
    "colab": {
     "base_uri": "https://localhost:8080/",
     "height": 282
    },
    "executionInfo": {
     "elapsed": 708,
     "status": "ok",
     "timestamp": 1607016072596,
     "user": {
      "displayName": "Tomasz Różański",
      "photoUrl": "https://lh4.googleusercontent.com/-CdAQaQI9V1E/AAAAAAAAAAI/AAAAAAAAAvI/rnNPiSw4f80/s64/photo.jpg",
      "userId": "09904144145241711927"
     },
     "user_tz": -60
    },
    "id": "19iVvaRLnp_7",
    "outputId": "a7f4d669-df3a-483f-ef6b-e4a2015e4c3a"
   },
   "outputs": [
    {
     "data": {
      "text/plain": [
       "[<matplotlib.lines.Line2D at 0x7f81410a2d60>]"
      ]
     },
     "execution_count": 82,
     "metadata": {},
     "output_type": "execute_result"
    },
    {
     "data": {
      "image/png": "[encoded data removed]",
      "text/plain": [
       "<Figure size 640x480 with 1 Axes>"
      ]
     },
     "metadata": {},
     "output_type": "display_data"
    }
   ],
   "source": [
    "mask= (x > 5000) & (x < 6000)\n",
    "x_part = x[mask]\n",
    "y_part = y[mask]\n",
    "plt.plot(x_part, y_part)"
   ]
  },
  {
   "cell_type": "markdown",
   "metadata": {
    "id": "yt-Lb0iwab5j"
   },
   "source": [
    "### Random numbers\n",
    "* many built-in distributions"
   ]
  },
  {
   "cell_type": "code",
   "execution_count": 83,
   "metadata": {
    "colab": {
     "base_uri": "https://localhost:8080/"
    },
    "executionInfo": {
     "elapsed": 680,
     "status": "ok",
     "timestamp": 1607016168512,
     "user": {
      "displayName": "Tomasz Różański",
      "photoUrl": "https://lh4.googleusercontent.com/-CdAQaQI9V1E/AAAAAAAAAAI/AAAAAAAAAvI/rnNPiSw4f80/s64/photo.jpg",
      "userId": "09904144145241711927"
     },
     "user_tz": -60
    },
    "id": "Ns1jTZz0aYSc",
    "outputId": "c5418e00-421d-43c4-d9ad-ddf16959b78d"
   },
   "outputs": [
    {
     "data": {
      "text/plain": [
       "array([0.87109481, 0.98015584, 0.06155038, 0.00306428, 0.55369033])"
      ]
     },
     "execution_count": 83,
     "metadata": {},
     "output_type": "execute_result"
    }
   ],
   "source": [
    "np.random.uniform(0, 1, 5)"
   ]
  },
  {
   "cell_type": "code",
   "execution_count": 84,
   "metadata": {
    "colab": {
     "base_uri": "https://localhost:8080/"
    },
    "executionInfo": {
     "elapsed": 1024,
     "status": "ok",
     "timestamp": 1607016337815,
     "user": {
      "displayName": "Tomasz Różański",
      "photoUrl": "https://lh4.googleusercontent.com/-CdAQaQI9V1E/AAAAAAAAAAI/AAAAAAAAAvI/rnNPiSw4f80/s64/photo.jpg",
      "userId": "09904144145241711927"
     },
     "user_tz": -60
    },
    "id": "9MNC9cbVakyb",
    "outputId": "33bdcfce-e554-438f-ded4-6c8392ce2340"
   },
   "outputs": [
    {
     "data": {
      "text/plain": [
       "array([20.96844529, 16.56699357,  4.29564126,  3.52690037,  9.95441849])"
      ]
     },
     "execution_count": 84,
     "metadata": {},
     "output_type": "execute_result"
    }
   ],
   "source": [
    "np.random.normal(5, 10, 5)"
   ]
  },
  {
   "cell_type": "code",
   "execution_count": 85,
   "metadata": {
    "colab": {
     "base_uri": "https://localhost:8080/"
    },
    "executionInfo": {
     "elapsed": 664,
     "status": "ok",
     "timestamp": 1607016396739,
     "user": {
      "displayName": "Tomasz Różański",
      "photoUrl": "https://lh4.googleusercontent.com/-CdAQaQI9V1E/AAAAAAAAAAI/AAAAAAAAAvI/rnNPiSw4f80/s64/photo.jpg",
      "userId": "09904144145241711927"
     },
     "user_tz": -60
    },
    "id": "SpgwTPofpCDd",
    "outputId": "81177951-aa80-4dc8-d0a0-2cd691bbf36c"
   },
   "outputs": [
    {
     "data": {
      "text/plain": [
       "0.08457885201306553"
      ]
     },
     "execution_count": 85,
     "metadata": {},
     "output_type": "execute_result"
    }
   ],
   "source": [
    "np.random.normal()"
   ]
  },
  {
   "cell_type": "markdown",
   "metadata": {
    "id": "fB6vOeyrapcH"
   },
   "source": [
    "### Calculating the value of $\\pi$ using Monte Carlo simulation\n",
    "\n",
    "* We randomly sample numbers from a uniform distribution within a square (-1,1)\n",
    "* We count the points that fall within a circle of radius 1\n",
    "\n",
    "The area of the square is:\n",
    "\n",
    "$$\n",
    "A_\\mathrm{square} = a^2 = 4\n",
    "$$\n",
    "\n",
    "The area of the circle is:\n",
    "$$\n",
    "A_\\mathrm{circle} = \\pi r^2 = \\pi\n",
    "$$\n",
    "\n",
    "So,\n",
    "$$\n",
    "\\frac{n_\\mathrm{circle}}{n_\\mathrm{square}} = \\frac{A_\\mathrm{circle}}{A_\\mathrm{square}}\n",
    "$$\n",
    "We can estimate the value of $\\pi$ as:\n",
    "\n",
    "$$\n",
    "\\pi = 4 \\frac{n_\\mathrm{circle}}{n_\\mathrm{square}}\n",
    "$$"
   ]
  },
  {
   "cell_type": "code",
   "execution_count": 2,
   "metadata": {
    "colab": {
     "base_uri": "https://localhost:8080/",
     "height": 282
    },
    "executionInfo": {
     "elapsed": 1350,
     "status": "ok",
     "timestamp": 1607016799269,
     "user": {
      "displayName": "Tomasz Różański",
      "photoUrl": "https://lh4.googleusercontent.com/-CdAQaQI9V1E/AAAAAAAAAAI/AAAAAAAAAvI/rnNPiSw4f80/s64/photo.jpg",
      "userId": "09904144145241711927"
     },
     "user_tz": -60
    },
    "id": "TSa9pKnkqgj1",
    "outputId": "6337c1b6-3eb4-4939-eda2-d9e7a6fc5217"
   },
   "outputs": [
    {
     "data": {
      "text/plain": [
       "<matplotlib.collections.PathCollection at 0x7ff0c2a80640>"
      ]
     },
     "execution_count": 2,
     "metadata": {},
     "output_type": "execute_result"
    },
    {
     "data": {
      "image/png": "[encoded data removed]",
      "text/plain": [
       "<Figure size 640x480 with 1 Axes>"
      ]
     },
     "metadata": {},
     "output_type": "display_data"
    }
   ],
   "source": [
    "n_square = 10000 # From 1000 to 100000000\n",
    "\n",
    "x = np.random.uniform(-1, 1, n_square)\n",
    "y = np.random.uniform(-1, 1, n_square)\n",
    "plt.scatter(x,y)"
   ]
  },
  {
   "cell_type": "code",
   "execution_count": 3,
   "metadata": {
    "colab": {
     "base_uri": "https://localhost:8080/"
    },
    "executionInfo": {
     "elapsed": 615,
     "status": "ok",
     "timestamp": 1607016820520,
     "user": {
      "displayName": "Tomasz Różański",
      "photoUrl": "https://lh4.googleusercontent.com/-CdAQaQI9V1E/AAAAAAAAAAI/AAAAAAAAAvI/rnNPiSw4f80/s64/photo.jpg",
      "userId": "09904144145241711927"
     },
     "user_tz": -60
    },
    "id": "j8i-cPSKqoeD",
    "outputId": "51c3a423-085c-4bff-b23d-b3c1ffb65ac2"
   },
   "outputs": [
    {
     "data": {
      "text/plain": [
       "array([1.04295672, 1.00852294, 1.20378053, 1.07774678, 0.78241433,\n",
       "       0.92496582, 0.43030516, 0.2906266 , 0.38891409, 0.81060185])"
      ]
     },
     "execution_count": 3,
     "metadata": {},
     "output_type": "execute_result"
    }
   ],
   "source": [
    "radius = np.sqrt(x**2 + y**2)\n",
    "radius[:10]"
   ]
  },
  {
   "cell_type": "code",
   "execution_count": 4,
   "metadata": {
    "colab": {
     "base_uri": "https://localhost:8080/"
    },
    "executionInfo": {
     "elapsed": 674,
     "status": "ok",
     "timestamp": 1607016873289,
     "user": {
      "displayName": "Tomasz Różański",
      "photoUrl": "https://lh4.googleusercontent.com/-CdAQaQI9V1E/AAAAAAAAAAI/AAAAAAAAAvI/rnNPiSw4f80/s64/photo.jpg",
      "userId": "09904144145241711927"
     },
     "user_tz": -60
    },
    "id": "oU5QBbBMqvDc",
    "outputId": "26131127-ef9e-4239-ec16-e6a5e98930ff"
   },
   "outputs": [
    {
     "data": {
      "text/plain": [
       "7814"
      ]
     },
     "execution_count": 4,
     "metadata": {},
     "output_type": "execute_result"
    }
   ],
   "source": [
    "np.sum(radius <= 1.0)"
   ]
  },
  {
   "cell_type": "code",
   "execution_count": 5,
   "metadata": {
    "colab": {
     "base_uri": "https://localhost:8080/"
    },
    "executionInfo": {
     "elapsed": 4975,
     "status": "ok",
     "timestamp": 1607016922865,
     "user": {
      "displayName": "Tomasz Różański",
      "photoUrl": "https://lh4.googleusercontent.com/-CdAQaQI9V1E/AAAAAAAAAAI/AAAAAAAAAvI/rnNPiSw4f80/s64/photo.jpg",
      "userId": "09904144145241711927"
     },
     "user_tz": -60
    },
    "id": "teUENIaoam3N",
    "outputId": "c07cad76-ad72-4c7f-c957-f762dfc88003"
   },
   "outputs": [
    {
     "name": "stdout",
     "output_type": "stream",
     "text": [
      "3.1256\n"
     ]
    }
   ],
   "source": [
    "n_circle = np.sum(radius <= 1.0)\n",
    "\n",
    "print(4 * n_circle / n_square)"
   ]
  },
  {
   "cell_type": "markdown",
   "metadata": {
    "id": "R_w2JQyUb-xK"
   },
   "source": [
    "## Exercise 2.\n",
    "\n",
    "1. Generate 100000 samples from a Gaussian distribution with mean $\\mu = 2$ and standard deviation $\\sigma = 3$.\n",
    "2. Calculate the mean and standard deviation of the generated sample.\n",
    "3. What percentage of the samples fall outside the interval $[\\mu - \\sigma, \\mu + \\sigma]$?\n",
    "4. How many samples are greater than zero $> 0$?\n",
    "5. Determine the standard deviation and mean for the samples ${} > 0$."
   ]
  },
  {
   "cell_type": "code",
   "execution_count": 6,
   "metadata": {
    "executionInfo": {
     "elapsed": 672,
     "status": "ok",
     "timestamp": 1607017183187,
     "user": {
      "displayName": "Tomasz Różański",
      "photoUrl": "https://lh4.googleusercontent.com/-CdAQaQI9V1E/AAAAAAAAAAI/AAAAAAAAAvI/rnNPiSw4f80/s64/photo.jpg",
      "userId": "09904144145241711927"
     },
     "user_tz": -60
    },
    "id": "Msc8TzhBbtND"
   },
   "outputs": [],
   "source": [
    "y = np.random.normal(2, 3, 10000)"
   ]
  },
  {
   "cell_type": "markdown",
   "metadata": {
    "id": "fmSrpyQoc7is"
   },
   "source": [
    "Wizualne sprawdzenie"
   ]
  },
  {
   "cell_type": "code",
   "execution_count": 7,
   "metadata": {
    "executionInfo": {
     "elapsed": 717,
     "status": "ok",
     "timestamp": 1607017185972,
     "user": {
      "displayName": "Tomasz Różański",
      "photoUrl": "https://lh4.googleusercontent.com/-CdAQaQI9V1E/AAAAAAAAAAI/AAAAAAAAAvI/rnNPiSw4f80/s64/photo.jpg",
      "userId": "09904144145241711927"
     },
     "user_tz": -60
    },
    "id": "25Yi2zNUc6rU"
   },
   "outputs": [],
   "source": [
    "x = np.linspace(-20,20, 1000)"
   ]
  },
  {
   "cell_type": "code",
   "execution_count": 8,
   "metadata": {
    "executionInfo": {
     "elapsed": 1381,
     "status": "ok",
     "timestamp": 1607017186974,
     "user": {
      "displayName": "Tomasz Różański",
      "photoUrl": "https://lh4.googleusercontent.com/-CdAQaQI9V1E/AAAAAAAAAAI/AAAAAAAAAvI/rnNPiSw4f80/s64/photo.jpg",
      "userId": "09904144145241711927"
     },
     "user_tz": -60
    },
    "id": "zca90RLMc9ZG"
   },
   "outputs": [],
   "source": [
    "def gaussian(x, mu, sigma):\n",
    "    return((1./(sigma*np.sqrt(2*math.pi)))*np.exp(-(x-mu)**2/(2*sigma**2)))"
   ]
  },
  {
   "cell_type": "code",
   "execution_count": 9,
   "metadata": {
    "colab": {
     "base_uri": "https://localhost:8080/",
     "height": 265
    },
    "executionInfo": {
     "elapsed": 1037,
     "status": "ok",
     "timestamp": 1607017338595,
     "user": {
      "displayName": "Tomasz Różański",
      "photoUrl": "https://lh4.googleusercontent.com/-CdAQaQI9V1E/AAAAAAAAAAI/AAAAAAAAAvI/rnNPiSw4f80/s64/photo.jpg",
      "userId": "09904144145241711927"
     },
     "user_tz": -60
    },
    "id": "OiM9GSy2c_ZX",
    "outputId": "99b3e5e0-99ea-4fe0-bc6e-6c7bb93ad37a"
   },
   "outputs": [
    {
     "ename": "NameError",
     "evalue": "name 'math' is not defined",
     "output_type": "error",
     "traceback": [
      "\u001b[0;31m---------------------------------------------------------------------------\u001b[0m",
      "\u001b[0;31mNameError\u001b[0m                                 Traceback (most recent call last)",
      "Cell \u001b[0;32mIn[9], line 2\u001b[0m\n\u001b[1;32m      1\u001b[0m plt\u001b[38;5;241m.\u001b[39mhist(y, bins\u001b[38;5;241m=\u001b[39m\u001b[38;5;241m100\u001b[39m, density\u001b[38;5;241m=\u001b[39m\u001b[38;5;28;01mTrue\u001b[39;00m)\n\u001b[0;32m----> 2\u001b[0m plt\u001b[38;5;241m.\u001b[39mplot(x, \u001b[43mgaussian\u001b[49m\u001b[43m(\u001b[49m\u001b[43mx\u001b[49m\u001b[43m,\u001b[49m\u001b[38;5;241;43m2\u001b[39;49m\u001b[43m,\u001b[49m\u001b[38;5;241;43m3\u001b[39;49m\u001b[43m)\u001b[49m)\n\u001b[1;32m      3\u001b[0m plt\u001b[38;5;241m.\u001b[39maxvline(x\u001b[38;5;241m=\u001b[39m\u001b[38;5;241m2\u001b[39m,color\u001b[38;5;241m=\u001b[39m\u001b[38;5;124m'\u001b[39m\u001b[38;5;124mr\u001b[39m\u001b[38;5;124m'\u001b[39m)\n",
      "Cell \u001b[0;32mIn[8], line 2\u001b[0m, in \u001b[0;36mgaussian\u001b[0;34m(x, mu, sigma)\u001b[0m\n\u001b[1;32m      1\u001b[0m \u001b[38;5;28;01mdef\u001b[39;00m \u001b[38;5;21mgaussian\u001b[39m(x, mu, sigma):\n\u001b[0;32m----> 2\u001b[0m     \u001b[38;5;28;01mreturn\u001b[39;00m((\u001b[38;5;241m1.\u001b[39m\u001b[38;5;241m/\u001b[39m(sigma\u001b[38;5;241m*\u001b[39mnp\u001b[38;5;241m.\u001b[39msqrt(\u001b[38;5;241m2\u001b[39m\u001b[38;5;241m*\u001b[39m\u001b[43mmath\u001b[49m\u001b[38;5;241m.\u001b[39mpi)))\u001b[38;5;241m*\u001b[39mnp\u001b[38;5;241m.\u001b[39mexp(\u001b[38;5;241m-\u001b[39m(x\u001b[38;5;241m-\u001b[39mmu)\u001b[38;5;241m*\u001b[39m\u001b[38;5;241m*\u001b[39m\u001b[38;5;241m2\u001b[39m\u001b[38;5;241m/\u001b[39m(\u001b[38;5;241m2\u001b[39m\u001b[38;5;241m*\u001b[39msigma\u001b[38;5;241m*\u001b[39m\u001b[38;5;241m*\u001b[39m\u001b[38;5;241m2\u001b[39m)))\n",
      "\u001b[0;31mNameError\u001b[0m: name 'math' is not defined"
     ]
    },
    {
     "data": {
      "image/png": "[encoded data removed]",
      "text/plain": [
       "<Figure size 640x480 with 1 Axes>"
      ]
     },
     "metadata": {},
     "output_type": "display_data"
    }
   ],
   "source": [
    "plt.hist(y, bins=100, density=True)\n",
    "plt.plot(x, gaussian(x,2,3))\n",
    "plt.axvline(x=2,color='r');\n",
    "# plt.axvline(x=np.mean(y),color='r');\n",
    "# print(np.mean(y))"
   ]
  },
  {
   "cell_type": "markdown",
   "metadata": {
    "id": "zle1pt_odG9j"
   },
   "source": [
    "## Task 3.\n",
    "\n",
    "Error propagation using the Monte Carlo method.\n",
    "\n",
    "* The Hubble constant measured by PLANCK is given as\n",
    "$$\n",
    "H_0 = (67.74 \\pm 0.47)\\,\\frac{\\mathrm{km}}{\\mathrm{s}\\cdot\\mathrm{Mpc}}\n",
    "$$\n",
    "\n",
    "* Determine the mean and uncertainty of the galaxy velocity estimation, where the measured distance is $(500 \\pm 100)\\,\\mathrm{Mpc}$, using the Monte Carlo method."
   ]
  },
  {
   "cell_type": "markdown",
   "metadata": {
    "id": "h6C1K_WqtCku"
   },
   "source": [
    "$$\n",
    "v = H_0 * d\n",
    "$$"
   ]
  },
  {
   "cell_type": "code",
   "execution_count": 10,
   "metadata": {
    "executionInfo": {
     "elapsed": 632,
     "status": "ok",
     "timestamp": 1607017611183,
     "user": {
      "displayName": "Tomasz Różański",
      "photoUrl": "https://lh4.googleusercontent.com/-CdAQaQI9V1E/AAAAAAAAAAI/AAAAAAAAAvI/rnNPiSw4f80/s64/photo.jpg",
      "userId": "09904144145241711927"
     },
     "user_tz": -60
    },
    "id": "U_TbdNLas0ox"
   },
   "outputs": [],
   "source": [
    "no_samples = 10000\n",
    "H_0s = np.random.normal(67.74,0.47,no_samples)\n",
    "ds= np.random.normal(500, 100, no_samples)\n",
    "ds[ds<0.] = 0.\n",
    "\n",
    "vs = H_0s*ds"
   ]
  },
  {
   "cell_type": "code",
   "execution_count": 11,
   "metadata": {
    "colab": {
     "base_uri": "https://localhost:8080/",
     "height": 282
    },
    "executionInfo": {
     "elapsed": 1157,
     "status": "ok",
     "timestamp": 1607017671368,
     "user": {
      "displayName": "Tomasz Różański",
      "photoUrl": "https://lh4.googleusercontent.com/-CdAQaQI9V1E/AAAAAAAAAAI/AAAAAAAAAvI/rnNPiSw4f80/s64/photo.jpg",
      "userId": "09904144145241711927"
     },
     "user_tz": -60
    },
    "id": "_G9BSFgktrXR",
    "outputId": "e3280219-efcb-4371-980f-08ccb8f06414"
   },
   "outputs": [
    {
     "name": "stdout",
     "output_type": "stream",
     "text": [
      "v_0 =  33826.88308579564  std(v_0) =  6796.279156143305\n"
     ]
    },
    {
     "data": {
      "image/png": "[encoded data removed]",
      "text/plain": [
       "<Figure size 640x480 with 1 Axes>"
      ]
     },
     "metadata": {},
     "output_type": "display_data"
    }
   ],
   "source": [
    "plt.hist(vs, bins=50);\n",
    "print(\"v_0 = \", np.mean(vs), \" std(v_0) = \", np.std(vs))"
   ]
  },
  {
   "cell_type": "markdown",
   "metadata": {
    "id": "gg6dstLce-dA"
   },
   "source": [
    "### Simple IO"
   ]
  },
  {
   "cell_type": "code",
   "execution_count": 12,
   "metadata": {
    "executionInfo": {
     "elapsed": 650,
     "status": "ok",
     "timestamp": 1607017819682,
     "user": {
      "displayName": "Tomasz Różański",
      "photoUrl": "https://lh4.googleusercontent.com/-CdAQaQI9V1E/AAAAAAAAAAI/AAAAAAAAAvI/rnNPiSw4f80/s64/photo.jpg",
      "userId": "09904144145241711927"
     },
     "user_tz": -60
    },
    "id": "ePr-MQSZfFVv"
   },
   "outputs": [],
   "source": [
    "idx = np.arange(100)\n",
    "x = np.random.normal(0, 1, 100)\n",
    "y = np.random.normal(0, 1, 100)\n",
    "n = np.random.poisson(20, 100)"
   ]
  },
  {
   "cell_type": "code",
   "execution_count": 13,
   "metadata": {
    "colab": {
     "base_uri": "https://localhost:8080/"
    },
    "executionInfo": {
     "elapsed": 567,
     "status": "ok",
     "timestamp": 1607017820010,
     "user": {
      "displayName": "Tomasz Różański",
      "photoUrl": "https://lh4.googleusercontent.com/-CdAQaQI9V1E/AAAAAAAAAAI/AAAAAAAAAvI/rnNPiSw4f80/s64/photo.jpg",
      "userId": "09904144145241711927"
     },
     "user_tz": -60
    },
    "id": "a4dTeIwefFYh",
    "outputId": "24fb945d-118e-480c-aba4-48b5ac645b65"
   },
   "outputs": [
    {
     "data": {
      "text/plain": [
       "((100,), (100,), (100,), (100,))"
      ]
     },
     "execution_count": 13,
     "metadata": {},
     "output_type": "execute_result"
    }
   ],
   "source": [
    "idx.shape, x.shape, y.shape, n.shape"
   ]
  },
  {
   "cell_type": "code",
   "execution_count": 14,
   "metadata": {
    "executionInfo": {
     "elapsed": 388,
     "status": "ok",
     "timestamp": 1607017828364,
     "user": {
      "displayName": "Tomasz Różański",
      "photoUrl": "https://lh4.googleusercontent.com/-CdAQaQI9V1E/AAAAAAAAAAI/AAAAAAAAAvI/rnNPiSw4f80/s64/photo.jpg",
      "userId": "09904144145241711927"
     },
     "user_tz": -60
    },
    "id": "loQwKKI1fFbt"
   },
   "outputs": [],
   "source": [
    "np.savetxt(\n",
    "    'data.csv',\n",
    "    np.column_stack([idx, x, y, n]),\n",
    ")"
   ]
  },
  {
   "cell_type": "code",
   "execution_count": 15,
   "metadata": {
    "colab": {
     "base_uri": "https://localhost:8080/"
    },
    "executionInfo": {
     "elapsed": 687,
     "status": "ok",
     "timestamp": 1607017846390,
     "user": {
      "displayName": "Tomasz Różański",
      "photoUrl": "https://lh4.googleusercontent.com/-CdAQaQI9V1E/AAAAAAAAAAI/AAAAAAAAAvI/rnNPiSw4f80/s64/photo.jpg",
      "userId": "09904144145241711927"
     },
     "user_tz": -60
    },
    "id": "sY-oVRRVfOGK",
    "outputId": "f462f6d5-9667-4742-d544-8da33e53542a"
   },
   "outputs": [
    {
     "ename": "FileNotFoundError",
     "evalue": "The command was not found or was not executable: /usr/local/bin/bash/.",
     "output_type": "error",
     "traceback": [
      "\u001b[0;31m---------------------------------------------------------------------------\u001b[0m",
      "\u001b[0;31mFileNotFoundError\u001b[0m                         Traceback (most recent call last)",
      "Cell \u001b[0;32mIn[15], line 1\u001b[0m\n\u001b[0;32m----> 1\u001b[0m \u001b[43mget_ipython\u001b[49m\u001b[43m(\u001b[49m\u001b[43m)\u001b[49m\u001b[38;5;241;43m.\u001b[39;49m\u001b[43msystem\u001b[49m\u001b[43m(\u001b[49m\u001b[38;5;124;43m'\u001b[39;49m\u001b[38;5;124;43mhead data.csv\u001b[39;49m\u001b[38;5;124;43m'\u001b[39;49m\u001b[43m)\u001b[49m\n",
      "File \u001b[0;32m~/opt/anaconda3/lib/python3.8/site-packages/ipykernel/zmqshell.py:636\u001b[0m, in \u001b[0;36mZMQInteractiveShell.system_piped\u001b[0;34m(self, cmd)\u001b[0m\n\u001b[1;32m    634\u001b[0m         \u001b[38;5;28mself\u001b[39m\u001b[38;5;241m.\u001b[39muser_ns[\u001b[38;5;124m\"\u001b[39m\u001b[38;5;124m_exit_code\u001b[39m\u001b[38;5;124m\"\u001b[39m] \u001b[38;5;241m=\u001b[39m system(cmd)\n\u001b[1;32m    635\u001b[0m \u001b[38;5;28;01melse\u001b[39;00m:\n\u001b[0;32m--> 636\u001b[0m     \u001b[38;5;28mself\u001b[39m\u001b[38;5;241m.\u001b[39muser_ns[\u001b[38;5;124m\"\u001b[39m\u001b[38;5;124m_exit_code\u001b[39m\u001b[38;5;124m\"\u001b[39m] \u001b[38;5;241m=\u001b[39m \u001b[43msystem\u001b[49m\u001b[43m(\u001b[49m\u001b[38;5;28;43mself\u001b[39;49m\u001b[38;5;241;43m.\u001b[39;49m\u001b[43mvar_expand\u001b[49m\u001b[43m(\u001b[49m\u001b[43mcmd\u001b[49m\u001b[43m,\u001b[49m\u001b[43m \u001b[49m\u001b[43mdepth\u001b[49m\u001b[38;5;241;43m=\u001b[39;49m\u001b[38;5;241;43m1\u001b[39;49m\u001b[43m)\u001b[49m\u001b[43m)\u001b[49m\n",
      "File \u001b[0;32m~/opt/anaconda3/lib/python3.8/site-packages/IPython/utils/_process_posix.py:148\u001b[0m, in \u001b[0;36mProcessHandler.system\u001b[0;34m(self, cmd)\u001b[0m\n\u001b[1;32m    146\u001b[0m     child \u001b[38;5;241m=\u001b[39m pexpect\u001b[38;5;241m.\u001b[39mspawnb(\u001b[38;5;28mself\u001b[39m\u001b[38;5;241m.\u001b[39msh, args\u001b[38;5;241m=\u001b[39m[\u001b[38;5;124m'\u001b[39m\u001b[38;5;124m-c\u001b[39m\u001b[38;5;124m'\u001b[39m, cmd]) \u001b[38;5;66;03m# Pexpect-U\u001b[39;00m\n\u001b[1;32m    147\u001b[0m \u001b[38;5;28;01melse\u001b[39;00m:\n\u001b[0;32m--> 148\u001b[0m     child \u001b[38;5;241m=\u001b[39m \u001b[43mpexpect\u001b[49m\u001b[38;5;241;43m.\u001b[39;49m\u001b[43mspawn\u001b[49m\u001b[43m(\u001b[49m\u001b[38;5;28;43mself\u001b[39;49m\u001b[38;5;241;43m.\u001b[39;49m\u001b[43msh\u001b[49m\u001b[43m,\u001b[49m\u001b[43m \u001b[49m\u001b[43margs\u001b[49m\u001b[38;5;241;43m=\u001b[39;49m\u001b[43m[\u001b[49m\u001b[38;5;124;43m'\u001b[39;49m\u001b[38;5;124;43m-c\u001b[39;49m\u001b[38;5;124;43m'\u001b[39;49m\u001b[43m,\u001b[49m\u001b[43m \u001b[49m\u001b[43mcmd\u001b[49m\u001b[43m]\u001b[49m\u001b[43m)\u001b[49m  \u001b[38;5;66;03m# Vanilla Pexpect\u001b[39;00m\n\u001b[1;32m    149\u001b[0m flush \u001b[38;5;241m=\u001b[39m sys\u001b[38;5;241m.\u001b[39mstdout\u001b[38;5;241m.\u001b[39mflush\n\u001b[1;32m    150\u001b[0m \u001b[38;5;28;01mwhile\u001b[39;00m \u001b[38;5;28;01mTrue\u001b[39;00m:\n\u001b[1;32m    151\u001b[0m     \u001b[38;5;66;03m# res is the index of the pattern that caused the match, so we\u001b[39;00m\n\u001b[1;32m    152\u001b[0m     \u001b[38;5;66;03m# know whether we've finished (if we matched EOF) or not\u001b[39;00m\n",
      "File \u001b[0;32m~/opt/anaconda3/lib/python3.8/site-packages/pexpect/pty_spawn.py:205\u001b[0m, in \u001b[0;36mspawn.__init__\u001b[0;34m(self, command, args, timeout, maxread, searchwindowsize, logfile, cwd, env, ignore_sighup, echo, preexec_fn, encoding, codec_errors, dimensions, use_poll)\u001b[0m\n\u001b[1;32m    203\u001b[0m     \u001b[38;5;28mself\u001b[39m\u001b[38;5;241m.\u001b[39mname \u001b[38;5;241m=\u001b[39m \u001b[38;5;124m'\u001b[39m\u001b[38;5;124m<pexpect factory incomplete>\u001b[39m\u001b[38;5;124m'\u001b[39m\n\u001b[1;32m    204\u001b[0m \u001b[38;5;28;01melse\u001b[39;00m:\n\u001b[0;32m--> 205\u001b[0m     \u001b[38;5;28;43mself\u001b[39;49m\u001b[38;5;241;43m.\u001b[39;49m\u001b[43m_spawn\u001b[49m\u001b[43m(\u001b[49m\u001b[43mcommand\u001b[49m\u001b[43m,\u001b[49m\u001b[43m \u001b[49m\u001b[43margs\u001b[49m\u001b[43m,\u001b[49m\u001b[43m \u001b[49m\u001b[43mpreexec_fn\u001b[49m\u001b[43m,\u001b[49m\u001b[43m \u001b[49m\u001b[43mdimensions\u001b[49m\u001b[43m)\u001b[49m\n\u001b[1;32m    206\u001b[0m \u001b[38;5;28mself\u001b[39m\u001b[38;5;241m.\u001b[39muse_poll \u001b[38;5;241m=\u001b[39m use_poll\n",
      "File \u001b[0;32m~/opt/anaconda3/lib/python3.8/site-packages/pexpect/pty_spawn.py:303\u001b[0m, in \u001b[0;36mspawn._spawn\u001b[0;34m(self, command, args, preexec_fn, dimensions)\u001b[0m\n\u001b[1;32m    298\u001b[0m \u001b[38;5;28;01mif\u001b[39;00m \u001b[38;5;28mself\u001b[39m\u001b[38;5;241m.\u001b[39mencoding \u001b[38;5;129;01mis\u001b[39;00m \u001b[38;5;129;01mnot\u001b[39;00m \u001b[38;5;28;01mNone\u001b[39;00m:\n\u001b[1;32m    299\u001b[0m     \u001b[38;5;66;03m# Encode command line using the specified encoding\u001b[39;00m\n\u001b[1;32m    300\u001b[0m     \u001b[38;5;28mself\u001b[39m\u001b[38;5;241m.\u001b[39margs \u001b[38;5;241m=\u001b[39m [a \u001b[38;5;28;01mif\u001b[39;00m \u001b[38;5;28misinstance\u001b[39m(a, \u001b[38;5;28mbytes\u001b[39m) \u001b[38;5;28;01melse\u001b[39;00m a\u001b[38;5;241m.\u001b[39mencode(\u001b[38;5;28mself\u001b[39m\u001b[38;5;241m.\u001b[39mencoding)\n\u001b[1;32m    301\u001b[0m                  \u001b[38;5;28;01mfor\u001b[39;00m a \u001b[38;5;129;01min\u001b[39;00m \u001b[38;5;28mself\u001b[39m\u001b[38;5;241m.\u001b[39margs]\n\u001b[0;32m--> 303\u001b[0m \u001b[38;5;28mself\u001b[39m\u001b[38;5;241m.\u001b[39mptyproc \u001b[38;5;241m=\u001b[39m \u001b[38;5;28;43mself\u001b[39;49m\u001b[38;5;241;43m.\u001b[39;49m\u001b[43m_spawnpty\u001b[49m\u001b[43m(\u001b[49m\u001b[38;5;28;43mself\u001b[39;49m\u001b[38;5;241;43m.\u001b[39;49m\u001b[43margs\u001b[49m\u001b[43m,\u001b[49m\u001b[43m \u001b[49m\u001b[43menv\u001b[49m\u001b[38;5;241;43m=\u001b[39;49m\u001b[38;5;28;43mself\u001b[39;49m\u001b[38;5;241;43m.\u001b[39;49m\u001b[43menv\u001b[49m\u001b[43m,\u001b[49m\n\u001b[1;32m    304\u001b[0m \u001b[43m                             \u001b[49m\u001b[43mcwd\u001b[49m\u001b[38;5;241;43m=\u001b[39;49m\u001b[38;5;28;43mself\u001b[39;49m\u001b[38;5;241;43m.\u001b[39;49m\u001b[43mcwd\u001b[49m\u001b[43m,\u001b[49m\u001b[43m \u001b[49m\u001b[38;5;241;43m*\u001b[39;49m\u001b[38;5;241;43m*\u001b[39;49m\u001b[43mkwargs\u001b[49m\u001b[43m)\u001b[49m\n\u001b[1;32m    306\u001b[0m \u001b[38;5;28mself\u001b[39m\u001b[38;5;241m.\u001b[39mpid \u001b[38;5;241m=\u001b[39m \u001b[38;5;28mself\u001b[39m\u001b[38;5;241m.\u001b[39mptyproc\u001b[38;5;241m.\u001b[39mpid\n\u001b[1;32m    307\u001b[0m \u001b[38;5;28mself\u001b[39m\u001b[38;5;241m.\u001b[39mchild_fd \u001b[38;5;241m=\u001b[39m \u001b[38;5;28mself\u001b[39m\u001b[38;5;241m.\u001b[39mptyproc\u001b[38;5;241m.\u001b[39mfd\n",
      "File \u001b[0;32m~/opt/anaconda3/lib/python3.8/site-packages/pexpect/pty_spawn.py:315\u001b[0m, in \u001b[0;36mspawn._spawnpty\u001b[0;34m(self, args, **kwargs)\u001b[0m\n\u001b[1;32m    313\u001b[0m \u001b[38;5;28;01mdef\u001b[39;00m \u001b[38;5;21m_spawnpty\u001b[39m(\u001b[38;5;28mself\u001b[39m, args, \u001b[38;5;241m*\u001b[39m\u001b[38;5;241m*\u001b[39mkwargs):\n\u001b[1;32m    314\u001b[0m \u001b[38;5;250m    \u001b[39m\u001b[38;5;124;03m'''Spawn a pty and return an instance of PtyProcess.'''\u001b[39;00m\n\u001b[0;32m--> 315\u001b[0m     \u001b[38;5;28;01mreturn\u001b[39;00m \u001b[43mptyprocess\u001b[49m\u001b[38;5;241;43m.\u001b[39;49m\u001b[43mPtyProcess\u001b[49m\u001b[38;5;241;43m.\u001b[39;49m\u001b[43mspawn\u001b[49m\u001b[43m(\u001b[49m\u001b[43margs\u001b[49m\u001b[43m,\u001b[49m\u001b[43m \u001b[49m\u001b[38;5;241;43m*\u001b[39;49m\u001b[38;5;241;43m*\u001b[39;49m\u001b[43mkwargs\u001b[49m\u001b[43m)\u001b[49m\n",
      "File \u001b[0;32m~/opt/anaconda3/lib/python3.8/site-packages/ptyprocess/ptyprocess.py:215\u001b[0m, in \u001b[0;36mPtyProcess.spawn\u001b[0;34m(cls, argv, cwd, env, echo, preexec_fn, dimensions, pass_fds)\u001b[0m\n\u001b[1;32m    213\u001b[0m command_with_path \u001b[38;5;241m=\u001b[39m which(command)\n\u001b[1;32m    214\u001b[0m \u001b[38;5;28;01mif\u001b[39;00m command_with_path \u001b[38;5;129;01mis\u001b[39;00m \u001b[38;5;28;01mNone\u001b[39;00m:\n\u001b[0;32m--> 215\u001b[0m     \u001b[38;5;28;01mraise\u001b[39;00m \u001b[38;5;167;01mFileNotFoundError\u001b[39;00m(\u001b[38;5;124m'\u001b[39m\u001b[38;5;124mThe command was not found or was not \u001b[39m\u001b[38;5;124m'\u001b[39m \u001b[38;5;241m+\u001b[39m\n\u001b[1;32m    216\u001b[0m                             \u001b[38;5;124m'\u001b[39m\u001b[38;5;124mexecutable: \u001b[39m\u001b[38;5;132;01m%s\u001b[39;00m\u001b[38;5;124m.\u001b[39m\u001b[38;5;124m'\u001b[39m \u001b[38;5;241m%\u001b[39m command)\n\u001b[1;32m    217\u001b[0m command \u001b[38;5;241m=\u001b[39m command_with_path\n\u001b[1;32m    218\u001b[0m argv[\u001b[38;5;241m0\u001b[39m] \u001b[38;5;241m=\u001b[39m command\n",
      "\u001b[0;31mFileNotFoundError\u001b[0m: The command was not found or was not executable: /usr/local/bin/bash/."
     ]
    }
   ],
   "source": [
    "!head data.csv"
   ]
  },
  {
   "cell_type": "code",
   "execution_count": 16,
   "metadata": {
    "colab": {
     "base_uri": "https://localhost:8080/"
    },
    "executionInfo": {
     "elapsed": 741,
     "status": "ok",
     "timestamp": 1607017852460,
     "user": {
      "displayName": "Tomasz Różański",
      "photoUrl": "https://lh4.googleusercontent.com/-CdAQaQI9V1E/AAAAAAAAAAI/AAAAAAAAAvI/rnNPiSw4f80/s64/photo.jpg",
      "userId": "09904144145241711927"
     },
     "user_tz": -60
    },
    "id": "z9rMcHxwfORg",
    "outputId": "53415d35-74a4-4b94-999a-256e35e63a98"
   },
   "outputs": [
    {
     "data": {
      "text/plain": [
       "(dtype('float64'), dtype('float64'))"
      ]
     },
     "execution_count": 16,
     "metadata": {},
     "output_type": "execute_result"
    }
   ],
   "source": [
    "# Load back the data, unpack=True is needed to read the data columnwise and not row-wise\n",
    "idx, x, y, n = np.genfromtxt('data.csv', unpack=True)\n",
    "\n",
    "idx.dtype, x.dtype"
   ]
  },
  {
   "cell_type": "markdown",
   "metadata": {
    "id": "Y5W0wZwje2s5"
   },
   "source": [
    "### Issues\n",
    "\n",
    "* Everything is stored as a float\n",
    "* Larger size than necessary because everything is stored as a float\n",
    "* Lack of column names"
   ]
  },
  {
   "cell_type": "markdown",
   "metadata": {
    "id": "62i6BrzPfvG1"
   },
   "source": [
    "## Numpy recarrays\n",
    "\n",
    "* Numpy recarrays can have columns of different types\n",
    "* Access to rows is obtained by index\n",
    "* Access to columns is obtained by headers\n",
    "\n",
    "Solution to the problem → Column names, different types"
   ]
  },
  {
   "cell_type": "code",
   "execution_count": 17,
   "metadata": {
    "executionInfo": {
     "elapsed": 1003,
     "status": "ok",
     "timestamp": 1607017880593,
     "user": {
      "displayName": "Tomasz Różański",
      "photoUrl": "https://lh4.googleusercontent.com/-CdAQaQI9V1E/AAAAAAAAAAI/AAAAAAAAAvI/rnNPiSw4f80/s64/photo.jpg",
      "userId": "09904144145241711927"
     },
     "user_tz": -60
    },
    "id": "g-yBdvmKgXRD"
   },
   "outputs": [],
   "source": [
    "data = np.savetxt(\n",
    "    'data.csv',\n",
    "    np.column_stack([idx, x, y, n]),\n",
    "    delimiter=',', # true csv file\n",
    "    header=','.join(['idx', 'x', 'y', 'n']),\n",
    "    fmt=['%d', '%.4g', '%.4g', '%d'],\n",
    ")"
   ]
  },
  {
   "cell_type": "code",
   "execution_count": null,
   "metadata": {
    "colab": {
     "base_uri": "https://localhost:8080/"
    },
    "executionInfo": {
     "elapsed": 656,
     "status": "ok",
     "timestamp": 1607017939876,
     "user": {
      "displayName": "Tomasz Różański",
      "photoUrl": "https://lh4.googleusercontent.com/-CdAQaQI9V1E/AAAAAAAAAAI/AAAAAAAAAvI/rnNPiSw4f80/s64/photo.jpg",
      "userId": "09904144145241711927"
     },
     "user_tz": -60
    },
    "id": "sDmTUffigaHp",
    "outputId": "638069cc-fc21-4959-e172-369ded7c0c2d"
   },
   "outputs": [],
   "source": [
    "!head data.csv"
   ]
  },
  {
   "cell_type": "code",
   "execution_count": 18,
   "metadata": {
    "executionInfo": {
     "elapsed": 1324,
     "status": "ok",
     "timestamp": 1607017947818,
     "user": {
      "displayName": "Tomasz Różański",
      "photoUrl": "https://lh4.googleusercontent.com/-CdAQaQI9V1E/AAAAAAAAAAI/AAAAAAAAAvI/rnNPiSw4f80/s64/photo.jpg",
      "userId": "09904144145241711927"
     },
     "user_tz": -60
    },
    "id": "liqgX72PgaKh"
   },
   "outputs": [],
   "source": [
    "data = np.genfromtxt(\n",
    "    'data.csv',\n",
    "    names=True, # load column names from first row\n",
    "    dtype=None, # Automagically determince best data type for each column\n",
    "    delimiter=',',\n",
    ")"
   ]
  },
  {
   "cell_type": "code",
   "execution_count": 19,
   "metadata": {
    "colab": {
     "base_uri": "https://localhost:8080/"
    },
    "executionInfo": {
     "elapsed": 611,
     "status": "ok",
     "timestamp": 1607017951249,
     "user": {
      "displayName": "Tomasz Różański",
      "photoUrl": "https://lh4.googleusercontent.com/-CdAQaQI9V1E/AAAAAAAAAAI/AAAAAAAAAvI/rnNPiSw4f80/s64/photo.jpg",
      "userId": "09904144145241711927"
     },
     "user_tz": -60
    },
    "id": "dQee9K4PgaNP",
    "outputId": "edee4c53-5e7c-4ebb-d451-18dbbe9e3c43"
   },
   "outputs": [
    {
     "data": {
      "text/plain": [
       "(0, 0.01117, -0.3862, 19)"
      ]
     },
     "execution_count": 19,
     "metadata": {},
     "output_type": "execute_result"
    }
   ],
   "source": [
    "data[0]"
   ]
  },
  {
   "cell_type": "code",
   "execution_count": 20,
   "metadata": {
    "colab": {
     "base_uri": "https://localhost:8080/"
    },
    "executionInfo": {
     "elapsed": 638,
     "status": "ok",
     "timestamp": 1607017956916,
     "user": {
      "displayName": "Tomasz Różański",
      "photoUrl": "https://lh4.googleusercontent.com/-CdAQaQI9V1E/AAAAAAAAAAI/AAAAAAAAAvI/rnNPiSw4f80/s64/photo.jpg",
      "userId": "09904144145241711927"
     },
     "user_tz": -60
    },
    "id": "KcUXbynvgfte",
    "outputId": "a3122319-8e9d-43b0-cb14-be3b1f871648"
   },
   "outputs": [
    {
     "data": {
      "text/plain": [
       "array([ 0.01117,  0.6248 ,  0.212  ,  1.905  , -2.235  , -1.75   ,\n",
       "       -0.1107 ,  0.8088 ,  0.8545 ,  0.7195 ,  0.1246 ,  0.2636 ,\n",
       "       -0.4984 , -0.1255 ,  0.5032 ,  0.3657 , -1.007  ,  0.9363 ,\n",
       "       -1.488  , -1.288  ,  2.037  ,  1.269  ,  1.415  , -0.7044 ,\n",
       "        0.8814 ,  0.2908 , -1.319  ,  0.1671 , -0.5968 ,  0.1626 ,\n",
       "       -1.011  , -0.1376 ,  0.2195 ,  1.838  , -0.353  ,  0.488  ,\n",
       "       -0.7027 , -0.9397 , -1.417  , -0.09444, -2.171  , -0.7107 ,\n",
       "        0.3828 , -0.01197,  0.6925 , -0.1802 ,  0.3596 , -0.5573 ,\n",
       "       -0.4213 ,  0.4057 ,  0.413  ,  1.623  , -0.7712 ,  0.5543 ,\n",
       "       -2.105  , -0.9826 , -0.5847 , -0.1468 ,  0.5053 , -0.6074 ,\n",
       "        0.159  ,  1.75   , -0.4017 ,  0.3244 , -0.3802 ,  1.025  ,\n",
       "        0.5119 ,  0.4263 ,  1.037  , -0.7288 , -0.2362 ,  1.856  ,\n",
       "        0.2632 ,  1.94   , -0.8671 ,  1.199  ,  1.083  , -0.7455 ,\n",
       "        1.263  ,  0.3335 ,  0.3296 , -1.889  ,  0.9264 ,  0.1129 ,\n",
       "       -0.4899 ,  2.003  ,  0.05414,  1.233  ,  1.066  ,  0.9483 ,\n",
       "        1.441  ,  0.6374 ,  1.094  , -0.5131 ,  0.1919 ,  0.5486 ,\n",
       "        0.4724 ,  1.422  ,  0.9787 ,  0.743  ])"
      ]
     },
     "execution_count": 20,
     "metadata": {},
     "output_type": "execute_result"
    }
   ],
   "source": [
    "data['x']"
   ]
  },
  {
   "cell_type": "code",
   "execution_count": 21,
   "metadata": {
    "colab": {
     "base_uri": "https://localhost:8080/"
    },
    "executionInfo": {
     "elapsed": 664,
     "status": "ok",
     "timestamp": 1607017964320,
     "user": {
      "displayName": "Tomasz Różański",
      "photoUrl": "https://lh4.googleusercontent.com/-CdAQaQI9V1E/AAAAAAAAAAI/AAAAAAAAAvI/rnNPiSw4f80/s64/photo.jpg",
      "userId": "09904144145241711927"
     },
     "user_tz": -60
    },
    "id": "LqJq3Yfngfye",
    "outputId": "861018b6-1569-49f6-f909-b652802a855e"
   },
   "outputs": [
    {
     "data": {
      "text/plain": [
       "dtype([('idx', '<i8'), ('x', '<f8'), ('y', '<f8'), ('n', '<i8')])"
      ]
     },
     "execution_count": 21,
     "metadata": {},
     "output_type": "execute_result"
    }
   ],
   "source": [
    "data.dtype"
   ]
  },
  {
   "cell_type": "markdown",
   "metadata": {
    "id": "MQyJmsLtgoVd"
   },
   "source": [
    "## Linear algebra\n",
    "\n",
    "Numpy provides access to many linear algebra operations, mainly as a wrapper  [LAPACK](http://www.netlib.org/lapack/)"
   ]
  },
  {
   "cell_type": "code",
   "execution_count": 22,
   "metadata": {
    "colab": {
     "base_uri": "https://localhost:8080/"
    },
    "executionInfo": {
     "elapsed": 673,
     "status": "ok",
     "timestamp": 1607018001986,
     "user": {
      "displayName": "Tomasz Różański",
      "photoUrl": "https://lh4.googleusercontent.com/-CdAQaQI9V1E/AAAAAAAAAAI/AAAAAAAAAvI/rnNPiSw4f80/s64/photo.jpg",
      "userId": "09904144145241711927"
     },
     "user_tz": -60
    },
    "id": "S_6O00BpgpQN",
    "outputId": "51ff504e-dd68-4ca8-902f-0a45968a7ad4"
   },
   "outputs": [
    {
     "data": {
      "text/plain": [
       "(array([-1.40512484,  4.        ,  6.40512484]),\n",
       " array([[ 3.07818468e-01,  8.32050294e-01, -4.61454330e-01],\n",
       "        [-8.31898624e-01, -1.93659252e-16, -5.54927635e-01],\n",
       "        [-4.61727702e-01,  5.54700196e-01,  6.92181495e-01]]))"
      ]
     },
     "execution_count": 22,
     "metadata": {},
     "output_type": "execute_result"
    }
   ],
   "source": [
    "# symmetrix matrix, use eigh\n",
    "mat = np.array([\n",
    "    [4, 2, 0],\n",
    "    [2, 1, -3],\n",
    "    [0, -3, 4]\n",
    "])\n",
    "\n",
    "eig_vals, eig_vecs = np.linalg.eig(mat)\n",
    "\n",
    "eig_vals, eig_vecs"
   ]
  },
  {
   "cell_type": "code",
   "execution_count": 23,
   "metadata": {
    "colab": {
     "base_uri": "https://localhost:8080/"
    },
    "executionInfo": {
     "elapsed": 648,
     "status": "ok",
     "timestamp": 1607018017880,
     "user": {
      "displayName": "Tomasz Różański",
      "photoUrl": "https://lh4.googleusercontent.com/-CdAQaQI9V1E/AAAAAAAAAAI/AAAAAAAAAvI/rnNPiSw4f80/s64/photo.jpg",
      "userId": "09904144145241711927"
     },
     "user_tz": -60
    },
    "id": "777GbIbCg_TO",
    "outputId": "528fd5f5-14d1-4fb7-8bf8-e06bc09dd7f9"
   },
   "outputs": [
    {
     "data": {
      "text/plain": [
       "array([[ 0.13888889,  0.22222222,  0.16666667],\n",
       "       [ 0.22222222, -0.44444444, -0.33333333],\n",
       "       [ 0.16666667, -0.33333333, -0.        ]])"
      ]
     },
     "execution_count": 23,
     "metadata": {},
     "output_type": "execute_result"
    }
   ],
   "source": [
    "np.linalg.inv(mat)"
   ]
  },
  {
   "cell_type": "markdown",
   "metadata": {
    "id": "oI_17YGwhEvf"
   },
   "source": [
    "## Data type - Matrix"
   ]
  },
  {
   "cell_type": "code",
   "execution_count": 24,
   "metadata": {
    "executionInfo": {
     "elapsed": 1789,
     "status": "ok",
     "timestamp": 1607018032789,
     "user": {
      "displayName": "Tomasz Różański",
      "photoUrl": "https://lh4.googleusercontent.com/-CdAQaQI9V1E/AAAAAAAAAAI/AAAAAAAAAvI/rnNPiSw4f80/s64/photo.jpg",
      "userId": "09904144145241711927"
     },
     "user_tz": -60
    },
    "id": "NU0ClEdQhBrf"
   },
   "outputs": [],
   "source": [
    "mat = np.matrix(mat)"
   ]
  },
  {
   "cell_type": "code",
   "execution_count": 25,
   "metadata": {
    "colab": {
     "base_uri": "https://localhost:8080/"
    },
    "executionInfo": {
     "elapsed": 856,
     "status": "ok",
     "timestamp": 1607018034367,
     "user": {
      "displayName": "Tomasz Różański",
      "photoUrl": "https://lh4.googleusercontent.com/-CdAQaQI9V1E/AAAAAAAAAAI/AAAAAAAAAvI/rnNPiSw4f80/s64/photo.jpg",
      "userId": "09904144145241711927"
     },
     "user_tz": -60
    },
    "id": "mVhn5xM4hROA",
    "outputId": "6430cbf9-9b81-4c65-8da1-33b832b9a2d2"
   },
   "outputs": [
    {
     "data": {
      "text/plain": [
       "matrix([[ 4,  2,  0],\n",
       "        [ 2,  1, -3],\n",
       "        [ 0, -3,  4]])"
      ]
     },
     "execution_count": 25,
     "metadata": {},
     "output_type": "execute_result"
    }
   ],
   "source": [
    "mat.T"
   ]
  },
  {
   "cell_type": "code",
   "execution_count": 26,
   "metadata": {
    "colab": {
     "base_uri": "https://localhost:8080/"
    },
    "executionInfo": {
     "elapsed": 628,
     "status": "ok",
     "timestamp": 1607018036240,
     "user": {
      "displayName": "Tomasz Różański",
      "photoUrl": "https://lh4.googleusercontent.com/-CdAQaQI9V1E/AAAAAAAAAAI/AAAAAAAAAvI/rnNPiSw4f80/s64/photo.jpg",
      "userId": "09904144145241711927"
     },
     "user_tz": -60
    },
    "id": "4WLMsRWUhRSr",
    "outputId": "da9f71bb-48d0-4cd2-9c26-d3c8604415b6"
   },
   "outputs": [
    {
     "data": {
      "text/plain": [
       "matrix([[ 20,  10,  -6],\n",
       "        [ 10,  14, -15],\n",
       "        [ -6, -15,  25]])"
      ]
     },
     "execution_count": 26,
     "metadata": {},
     "output_type": "execute_result"
    }
   ],
   "source": [
    "mat * mat"
   ]
  },
  {
   "cell_type": "code",
   "execution_count": 27,
   "metadata": {
    "colab": {
     "base_uri": "https://localhost:8080/"
    },
    "executionInfo": {
     "elapsed": 638,
     "status": "ok",
     "timestamp": 1607018043554,
     "user": {
      "displayName": "Tomasz Różański",
      "photoUrl": "https://lh4.googleusercontent.com/-CdAQaQI9V1E/AAAAAAAAAAI/AAAAAAAAAvI/rnNPiSw4f80/s64/photo.jpg",
      "userId": "09904144145241711927"
     },
     "user_tz": -60
    },
    "id": "jxKIuyANhRVk",
    "outputId": "cb81052b-a76d-4878-832b-b8a8ce58f950"
   },
   "outputs": [
    {
     "data": {
      "text/plain": [
       "matrix([[ 20,  10,   0],\n",
       "        [ 10,   5, -15],\n",
       "        [  0, -15,  20]])"
      ]
     },
     "execution_count": 27,
     "metadata": {},
     "output_type": "execute_result"
    }
   ],
   "source": [
    "mat * 5"
   ]
  },
  {
   "cell_type": "code",
   "execution_count": 28,
   "metadata": {
    "colab": {
     "base_uri": "https://localhost:8080/"
    },
    "executionInfo": {
     "elapsed": 634,
     "status": "ok",
     "timestamp": 1607018047125,
     "user": {
      "displayName": "Tomasz Różański",
      "photoUrl": "https://lh4.googleusercontent.com/-CdAQaQI9V1E/AAAAAAAAAAI/AAAAAAAAAvI/rnNPiSw4f80/s64/photo.jpg",
      "userId": "09904144145241711927"
     },
     "user_tz": -60
    },
    "id": "CRk2lOZthRYT",
    "outputId": "fc69299c-4b5e-4ad7-9f18-bcbe538c3df9"
   },
   "outputs": [
    {
     "data": {
      "text/plain": [
       "matrix([[ 0.13888889,  0.22222222,  0.16666667],\n",
       "        [ 0.22222222, -0.44444444, -0.33333333],\n",
       "        [ 0.16666667, -0.33333333, -0.        ]])"
      ]
     },
     "execution_count": 28,
     "metadata": {},
     "output_type": "execute_result"
    }
   ],
   "source": [
    "mat.I"
   ]
  },
  {
   "cell_type": "code",
   "execution_count": 29,
   "metadata": {
    "colab": {
     "base_uri": "https://localhost:8080/"
    },
    "executionInfo": {
     "elapsed": 623,
     "status": "ok",
     "timestamp": 1607018059300,
     "user": {
      "displayName": "Tomasz Różański",
      "photoUrl": "https://lh4.googleusercontent.com/-CdAQaQI9V1E/AAAAAAAAAAI/AAAAAAAAAvI/rnNPiSw4f80/s64/photo.jpg",
      "userId": "09904144145241711927"
     },
     "user_tz": -60
    },
    "id": "FGFmi7-8hXQM",
    "outputId": "89efdeaf-0a57-4ae2-8ab5-fcb7145a6909"
   },
   "outputs": [
    {
     "data": {
      "text/plain": [
       "matrix([[ 8],\n",
       "        [-5],\n",
       "        [ 6]])"
      ]
     },
     "execution_count": 29,
     "metadata": {},
     "output_type": "execute_result"
    }
   ],
   "source": [
    "mat * np.matrix([1, 2, 3]).T"
   ]
  },
  {
   "cell_type": "markdown",
   "metadata": {
    "id": "Y0TJl0SadpV4"
   },
   "source": [
    "<details>\n",
    "    <summary><b>Solution of Exercise 1 (click me)</b></summary>\n",
    "\n",
    "    def linear_regression(x, y):\n",
    "\n",
    "        cov_matrix = np.cov(x, y)\n",
    "        a = cov_matrix[0, 1] / cov_matrix[0, 0]\n",
    "        b = np.mean(y) - a * np.mean(x)\n",
    "\n",
    "        return a, b\n",
    "</details>"
   ]
  },
  {
   "cell_type": "markdown",
   "metadata": {
    "id": "06gahWuqdZb6"
   },
   "source": [
    "<details>\n",
    "    <summary><b>Solution of Exercise 2 (click me)</b></summary>\n",
    "    \n",
    "    import numpy as np\n",
    "\n",
    "    numbers = np.random.normal(2, 3, 10000)\n",
    "\n",
    "    print('mean:', np.mean(numbers))\n",
    "    print('std:', np.std(numbers))\n",
    "\n",
    "    mask = np.logical_or(numbers <= -1, numbers >= 5)\n",
    "\n",
    "    print('Outside 1 sigma:', len(numbers[mask]) / len(numbers))\n",
    "\n",
    "    mask = numbers >= 0\n",
    "\n",
    "    print('n>0:', len(numbers[mask]))\n",
    "    print('mean, where x > 0:', np.mean(numbers[mask]))\n",
    "    print('std, where x > 0:', np.std(numbers[mask]))\n",
    "</details>"
   ]
  },
  {
   "cell_type": "markdown",
   "metadata": {
    "id": "7gGtJvVGd4j_"
   },
   "source": [
    "<details>\n",
    "    <summary><b>Solution of Exercise 3 (click me)</b></summary>\n",
    "    \n",
    "    import numpy as np\n",
    "\n",
    "    n = 100000\n",
    "    h0 = np.random.normal(67.74, 0.47, n)\n",
    "    distance = np.random.normal(500, 100, n)\n",
    "\n",
    "    velocity = np.mean(h0 * distance)\n",
    "    velocity_unc = np.std(h0 * distance)\n",
    "\n",
    "    print('({:.0f} ± {:.0f}) km/s'.format(velocity, velocity_unc))\n",
    "</details>"
   ]
  }
 ],
 "metadata": {
  "colab": {
   "authorship_tag": "ABX9TyPNVfh9lkvagcOKVUYbS77+",
   "collapsed_sections": [],
   "name": "numpy.ipynb",
   "provenance": [],
   "toc_visible": true
  },
  "kernelspec": {
   "display_name": "Python 3 (ipykernel)",
   "language": "python",
   "name": "python3"
  },
  "language_info": {
   "codemirror_mode": {
    "name": "ipython",
    "version": 3
   },
   "file_extension": ".py",
   "mimetype": "text/x-python",
   "name": "python",
   "nbconvert_exporter": "python",
   "pygments_lexer": "ipython3",
   "version": "3.8.16"
  }
 },
 "nbformat": 4,
 "nbformat_minor": 1
}
