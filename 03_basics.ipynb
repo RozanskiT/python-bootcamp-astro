{
 "cells": [
  {
   "cell_type": "markdown",
   "metadata": {
    "id": "O5DrLoQsrc2O"
   },
   "source": [
    "# Basics of the Python language\n",
    "\n",
    "In this notebook, we will take a look at the syntax of the language and the fragments that every piece of Python code is built from. This overview is far from complete, but it is intended to give an idea of what we might encounter in the code we are working with."
   ]
  },
  {
   "cell_type": "markdown",
   "metadata": {
    "id": "izmgKHJkr5GJ"
   },
   "source": [
    "---\n",
    "## Blocks\n",
    "Let's try to read the following code as if it were English."
   ]
  },
  {
   "cell_type": "code",
   "execution_count": 1,
   "metadata": {
    "id": "tenRPZPksczj"
   },
   "outputs": [
    {
     "name": "stdout",
     "output_type": "stream",
     "text": [
      "25\n"
     ]
    }
   ],
   "source": [
    "a= 10\n",
    "b= 15\n",
    "print(a+b)"
   ]
  },
  {
   "cell_type": "code",
   "execution_count": 2,
   "metadata": {
    "id": "8WLwc8WssLM3"
   },
   "outputs": [
    {
     "name": "stdout",
     "output_type": "stream",
     "text": [
      "It's true that 5 is greater than 2.\n"
     ]
    }
   ],
   "source": [
    "if 5>2:\n",
    "    print(\"It's true that 5 is greater than 2.\")\n",
    "else:\n",
    "    print(\"It's false that 5 is greater than 2.\")"
   ]
  },
  {
   "cell_type": "code",
   "execution_count": null,
   "metadata": {
    "id": "ebo2ceLnsb9T"
   },
   "outputs": [],
   "source": [
    "i= 0\n",
    "sum= 0.\n",
    "while i<10:\n",
    "    print(\"Now i = \",i)\n",
    "    sum= sum + i\n",
    "    i = i+1 \n",
    "print(sum)"
   ]
  },
  {
   "cell_type": "code",
   "execution_count": 3,
   "metadata": {
    "id": "v3yRO2Lfs9Y-"
   },
   "outputs": [
    {
     "name": "stdout",
     "output_type": "stream",
     "text": [
      "[1, 2, 3, 4, 5, 6, 7, 8, 9, 10]\n",
      "[2, 4, 6, 8, 10, 12, 14, 16, 18, 20]\n",
      "[3, 6, 9, 12, 15, 18, 21, 24, 27, 30]\n",
      "[4, 8, 12, 16, 20, 24, 28, 32, 36, 40]\n",
      "[5, 10, 15, 20, 25, 30, 35, 40, 45, 50]\n",
      "[6, 12, 18, 24, 30, 36, 42, 48, 54, 60]\n",
      "[7, 14, 21, 28, 35, 42, 49, 56, 63, 70]\n",
      "[8, 16, 24, 32, 40, 48, 56, 64, 72, 80]\n",
      "[9, 18, 27, 36, 45, 54, 63, 72, 81, 90]\n",
      "[10, 20, 30, 40, 50, 60, 70, 80, 90, 100]\n"
     ]
    }
   ],
   "source": [
    "N= 10\n",
    "M= 10\n",
    "i,j= 1,1\n",
    "multiplication_table= []\n",
    "while i <= N:\n",
    "    next_row_of_multiplicable_table= []\n",
    "    while j <= M:\n",
    "        next_row_of_multiplicable_table.append(i*j)\n",
    "        j= j+1\n",
    "    i= i+1\n",
    "    j= 1\n",
    "    print(next_row_of_multiplicable_table)\n",
    "    multiplication_table.append(next_row_of_multiplicable_table)"
   ]
  },
  {
   "cell_type": "code",
   "execution_count": 4,
   "metadata": {
    "id": "Vwi1iyck9qVf"
   },
   "outputs": [
    {
     "name": "stdout",
     "output_type": "stream",
     "text": [
      "[[1, 2, 3, 4, 5, 6, 7, 8, 9, 10], [2, 4, 6, 8, 10, 12, 14, 16, 18, 20], [3, 6, 9, 12, 15, 18, 21, 24, 27, 30], [4, 8, 12, 16, 20, 24, 28, 32, 36, 40], [5, 10, 15, 20, 25, 30, 35, 40, 45, 50], [6, 12, 18, 24, 30, 36, 42, 48, 54, 60], [7, 14, 21, 28, 35, 42, 49, 56, 63, 70], [8, 16, 24, 32, 40, 48, 56, 64, 72, 80], [9, 18, 27, 36, 45, 54, 63, 72, 81, 90], [10, 20, 30, 40, 50, 60, 70, 80, 90, 100]]\n"
     ]
    }
   ],
   "source": [
    "print(multiplication_table)"
   ]
  },
  {
   "cell_type": "markdown",
   "metadata": {
    "id": "Qrw_UFxbG6-T"
   },
   "source": [
    "- **Indentations are important: 1, 2, 3 spaces - it doesn't matter how many, only that it's the same number everywhere!!!**\n",
    "- **Not Tab** - fortunately, in practice, most editors replace Tab with spaces."
   ]
  },
  {
   "cell_type": "markdown",
   "metadata": {
    "id": "YED5BnRtrp51"
   },
   "source": [
    "---\n",
    "## Variables\n",
    "\n",
    "- Variables are assigned a value.\n",
    "- Values have a type.\n",
    "- Variables \"live\" throughout the entire Jupyter notebook, if they have already been created. Unless they have a scope limited to a certain block of code, such as a function.\n",
    "- Variables store in the code all the information needed to perform calculations."
   ]
  },
  {
   "cell_type": "code",
   "execution_count": 5,
   "metadata": {
    "id": "1w8sFis7rVnW"
   },
   "outputs": [
    {
     "name": "stdout",
     "output_type": "stream",
     "text": [
      "10\n"
     ]
    }
   ],
   "source": [
    "a= 10\n",
    "print(a)"
   ]
  },
  {
   "cell_type": "code",
   "execution_count": 6,
   "metadata": {
    "id": "25E8YuiQrk1q"
   },
   "outputs": [
    {
     "data": {
      "text/plain": [
       "int"
      ]
     },
     "execution_count": 6,
     "metadata": {},
     "output_type": "execute_result"
    }
   ],
   "source": [
    "type(a)"
   ]
  },
  {
   "cell_type": "code",
   "execution_count": 7,
   "metadata": {
    "id": "U-BOOTWZreiS"
   },
   "outputs": [
    {
     "name": "stdout",
     "output_type": "stream",
     "text": [
      "10\n"
     ]
    }
   ],
   "source": [
    "print(a)"
   ]
  },
  {
   "cell_type": "markdown",
   "metadata": {
    "id": "EYVaS-Uwumrs"
   },
   "source": [
    "The values and types(!) of variables can be changed."
   ]
  },
  {
   "cell_type": "code",
   "execution_count": 8,
   "metadata": {
    "id": "-k8dSlloulP6"
   },
   "outputs": [],
   "source": [
    "a = 15.0996"
   ]
  },
  {
   "cell_type": "code",
   "execution_count": 9,
   "metadata": {
    "id": "563t8TQ_uzkD"
   },
   "outputs": [
    {
     "data": {
      "text/plain": [
       "float"
      ]
     },
     "execution_count": 9,
     "metadata": {},
     "output_type": "execute_result"
    }
   ],
   "source": [
    "type(a)"
   ]
  },
  {
   "cell_type": "code",
   "execution_count": 10,
   "metadata": {
    "id": "BSjWwmXOu25r"
   },
   "outputs": [
    {
     "name": "stdout",
     "output_type": "stream",
     "text": [
      "15.0996\n"
     ]
    }
   ],
   "source": [
    "print(a)"
   ]
  },
  {
   "cell_type": "markdown",
   "metadata": {
    "id": "cF8maUM_wlJu"
   },
   "source": [
    "Variables of type `string`:"
   ]
  },
  {
   "cell_type": "code",
   "execution_count": 43,
   "metadata": {
    "id": "zFCqVYVEu3e7"
   },
   "outputs": [
    {
     "name": "stdout",
     "output_type": "stream",
     "text": [
      "Alice has a cat\n"
     ]
    }
   ],
   "source": [
    "a= \"Alice has a cat\" # The stereotypical first sentence taught in Polish schools.\n",
    "print(a)"
   ]
  },
  {
   "cell_type": "code",
   "execution_count": 18,
   "metadata": {
    "id": "DELta72IwkjK"
   },
   "outputs": [
    {
     "name": "stdout",
     "output_type": "stream",
     "text": [
      "A\n"
     ]
    }
   ],
   "source": [
    "print(a[0])"
   ]
  },
  {
   "cell_type": "code",
   "execution_count": 19,
   "metadata": {
    "id": "KQzCmrzCwvTo"
   },
   "outputs": [
    {
     "name": "stdout",
     "output_type": "stream",
     "text": [
      "Alice\n"
     ]
    }
   ],
   "source": [
    "print(a[0:5])"
   ]
  },
  {
   "cell_type": "code",
   "execution_count": 44,
   "metadata": {
    "id": "ecwTdrNzzelx"
   },
   "outputs": [
    {
     "name": "stdout",
     "output_type": "stream",
     "text": [
      "Bob has a cat\n"
     ]
    }
   ],
   "source": [
    "print(a.replace(\"Alice\",'Bob'))"
   ]
  },
  {
   "cell_type": "code",
   "execution_count": 22,
   "metadata": {
    "id": "j2T67iB92N4p"
   },
   "outputs": [
    {
     "name": "stdout",
     "output_type": "stream",
     "text": [
      "First row,\n",
      " Second row\n",
      "Third\n"
     ]
    }
   ],
   "source": [
    "print(\"First row,\\n Second row\\nThird\")"
   ]
  },
  {
   "cell_type": "code",
   "execution_count": 23,
   "metadata": {
    "id": "kT9PgZDP15Qn"
   },
   "outputs": [
    {
     "name": "stdout",
     "output_type": "stream",
     "text": [
      "3.32 <class 'float'>\n"
     ]
    }
   ],
   "source": [
    "x= float(\"3.32\")\n",
    "print(x, type(x))"
   ]
  },
  {
   "cell_type": "code",
   "execution_count": 25,
   "metadata": {
    "id": "s1oxcuDi2XdU"
   },
   "outputs": [
    {
     "name": "stdout",
     "output_type": "stream",
     "text": [
      "Alice has a cat\n"
     ]
    }
   ],
   "source": [
    "name= \"Alice\"\n",
    "x= name+\" has a cat\"\n",
    "print(x)"
   ]
  },
  {
   "cell_type": "markdown",
   "metadata": {
    "id": "k3CjMhCeyZmj"
   },
   "source": [
    "Boolean variables (bool)"
   ]
  },
  {
   "cell_type": "code",
   "execution_count": 26,
   "metadata": {
    "id": "6hOqF-4jyZ1C"
   },
   "outputs": [
    {
     "name": "stdout",
     "output_type": "stream",
     "text": [
      "True\n"
     ]
    }
   ],
   "source": [
    "a= True # False\n",
    "print(a)"
   ]
  },
  {
   "cell_type": "code",
   "execution_count": 27,
   "metadata": {
    "id": "II9MRvHwio2U"
   },
   "outputs": [
    {
     "data": {
      "text/plain": [
       "True"
      ]
     },
     "execution_count": 27,
     "metadata": {},
     "output_type": "execute_result"
    }
   ],
   "source": [
    "5 == 5"
   ]
  },
  {
   "cell_type": "code",
   "execution_count": 28,
   "metadata": {
    "id": "HGCSahGKzJ5s"
   },
   "outputs": [
    {
     "name": "stdout",
     "output_type": "stream",
     "text": [
      "True\n"
     ]
    }
   ],
   "source": [
    "a =  (5 == 5)\n",
    "print(a)"
   ]
  },
  {
   "cell_type": "code",
   "execution_count": 29,
   "metadata": {
    "id": "tVSI7nW_iywk"
   },
   "outputs": [
    {
     "ename": "SyntaxError",
     "evalue": "invalid syntax (1238107172.py, line 2)",
     "output_type": "error",
     "traceback": [
      "\u001b[0;36m  Cell \u001b[0;32mIn[29], line 2\u001b[0;36m\u001b[0m\n\u001b[0;31m    if x = 5: # Should be ==\u001b[0m\n\u001b[0m         ^\u001b[0m\n\u001b[0;31mSyntaxError\u001b[0m\u001b[0;31m:\u001b[0m invalid syntax\n"
     ]
    }
   ],
   "source": [
    "x = 5\n",
    "if x = 5: # Should be ==\n",
    "    print(x)"
   ]
  },
  {
   "cell_type": "markdown",
   "metadata": {
    "id": "jdB4Po9gzsSp"
   },
   "source": [
    "Complex"
   ]
  },
  {
   "cell_type": "code",
   "execution_count": 45,
   "metadata": {
    "id": "Bq8lcYS8zsaB"
   },
   "outputs": [],
   "source": [
    "a= 1j + 8"
   ]
  },
  {
   "cell_type": "code",
   "execution_count": 46,
   "metadata": {
    "id": "ypyhg57PzwJT"
   },
   "outputs": [
    {
     "data": {
      "text/plain": [
       "(8+1j)"
      ]
     },
     "execution_count": 46,
     "metadata": {},
     "output_type": "execute_result"
    }
   ],
   "source": [
    "a"
   ]
  },
  {
   "cell_type": "code",
   "execution_count": 47,
   "metadata": {
    "id": "ny31HHJSzxIK"
   },
   "outputs": [
    {
     "data": {
      "text/plain": [
       "(16+2j)"
      ]
     },
     "execution_count": 47,
     "metadata": {},
     "output_type": "execute_result"
    }
   ],
   "source": [
    "a+a"
   ]
  },
  {
   "cell_type": "code",
   "execution_count": 48,
   "metadata": {
    "id": "6HD5MiVVjRgQ"
   },
   "outputs": [],
   "source": [
    "a = 10 + j"
   ]
  },
  {
   "cell_type": "code",
   "execution_count": 34,
   "metadata": {
    "id": "2aWYYIaEjWu0"
   },
   "outputs": [],
   "source": [
    "a = 10 + 1.0j"
   ]
  },
  {
   "cell_type": "markdown",
   "metadata": {
    "id": "dsPOm7hswTv3"
   },
   "source": [
    "### Questions and answers"
   ]
  },
  {
   "cell_type": "code",
   "execution_count": 35,
   "metadata": {
    "id": "Vtgi9XSPwW8g"
   },
   "outputs": [],
   "source": [
    "# Create a variable storing a string, \n",
    "\n",
    "# a float type number, \n",
    "\n",
    "# and an integer type number.\n"
   ]
  },
  {
   "cell_type": "code",
   "execution_count": 36,
   "metadata": {
    "id": "2R4qLxHEw-yi"
   },
   "outputs": [],
   "source": [
    "# type(\"Alice has a cat.\")"
   ]
  },
  {
   "cell_type": "code",
   "execution_count": 37,
   "metadata": {
    "id": "kwV8L1SXxNYX"
   },
   "outputs": [],
   "source": [
    "# type(1.0)"
   ]
  },
  {
   "cell_type": "code",
   "execution_count": 38,
   "metadata": {
    "id": "EwjWF_kVxvjm"
   },
   "outputs": [],
   "source": [
    "# a= 10\n",
    "# type(a)"
   ]
  },
  {
   "cell_type": "code",
   "execution_count": 39,
   "metadata": {
    "id": "5giroh2sxzls"
   },
   "outputs": [],
   "source": [
    "# a= 10\n",
    "# b= 10.\n",
    "# type(a+b)"
   ]
  },
  {
   "cell_type": "code",
   "execution_count": 40,
   "metadata": {
    "id": "hOmvevV4ynqL"
   },
   "outputs": [],
   "source": [
    "# print(bool(\"a\"))"
   ]
  },
  {
   "cell_type": "code",
   "execution_count": 41,
   "metadata": {
    "id": "57r1v3Ceyuug"
   },
   "outputs": [],
   "source": [
    "# print(bool(\"\"))\n",
    "# print(bool(0))\n",
    "# print(bool(0.))\n",
    "# print(bool(None))"
   ]
  },
  {
   "cell_type": "code",
   "execution_count": 42,
   "metadata": {
    "id": "7WL5hSB6HeNX"
   },
   "outputs": [],
   "source": [
    "# if True:\n",
    "# print(\"Alice has a cat\")"
   ]
  },
  {
   "cell_type": "markdown",
   "metadata": {
    "id": "pAhg6PdOxDZ2"
   },
   "source": [
    "### Operations on variables - operators: +, -, *, /, //, %, =, =="
   ]
  },
  {
   "cell_type": "code",
   "execution_count": 49,
   "metadata": {
    "id": "CYfdQItxzq_I"
   },
   "outputs": [
    {
     "name": "stdout",
     "output_type": "stream",
     "text": [
      "20\n"
     ]
    }
   ],
   "source": [
    "a= 10\n",
    "print(2*a)"
   ]
  },
  {
   "cell_type": "code",
   "execution_count": 50,
   "metadata": {
    "id": "rdLSuL9Tz-Zd"
   },
   "outputs": [
    {
     "data": {
      "text/plain": [
       "5.0"
      ]
     },
     "execution_count": 50,
     "metadata": {},
     "output_type": "execute_result"
    }
   ],
   "source": [
    "a/2"
   ]
  },
  {
   "cell_type": "code",
   "execution_count": 51,
   "metadata": {
    "id": "IUZSi9WVz_wM"
   },
   "outputs": [
    {
     "data": {
      "text/plain": [
       "3.3333333333333335"
      ]
     },
     "execution_count": 51,
     "metadata": {},
     "output_type": "execute_result"
    }
   ],
   "source": [
    "a/3"
   ]
  },
  {
   "cell_type": "code",
   "execution_count": 52,
   "metadata": {
    "id": "IznBXh350BG7"
   },
   "outputs": [
    {
     "data": {
      "text/plain": [
       "3"
      ]
     },
     "execution_count": 52,
     "metadata": {},
     "output_type": "execute_result"
    }
   ],
   "source": [
    "a//3"
   ]
  },
  {
   "cell_type": "code",
   "execution_count": 53,
   "metadata": {
    "id": "6JqE9IbI0DCC"
   },
   "outputs": [
    {
     "data": {
      "text/plain": [
       "1"
      ]
     },
     "execution_count": 53,
     "metadata": {},
     "output_type": "execute_result"
    }
   ],
   "source": [
    "a%3"
   ]
  },
  {
   "cell_type": "code",
   "execution_count": 54,
   "metadata": {
    "id": "VpUXFLZ10ENy"
   },
   "outputs": [
    {
     "data": {
      "text/plain": [
       "20"
      ]
     },
     "execution_count": 54,
     "metadata": {},
     "output_type": "execute_result"
    }
   ],
   "source": [
    "a + a"
   ]
  },
  {
   "cell_type": "code",
   "execution_count": 55,
   "metadata": {
    "id": "yLJFojNq0HZA"
   },
   "outputs": [
    {
     "name": "stdout",
     "output_type": "stream",
     "text": [
      "5\n"
     ]
    }
   ],
   "source": [
    "a -= 5 # This is a shorthand for the expression a = a + 5\n",
    "print(a)"
   ]
  },
  {
   "cell_type": "markdown",
   "metadata": {},
   "source": [
    "Operators perform different functions for variables of different types."
   ]
  },
  {
   "cell_type": "code",
   "execution_count": 56,
   "metadata": {},
   "outputs": [
    {
     "name": "stdout",
     "output_type": "stream",
     "text": [
      "Alice has a catAlice has a cat\n"
     ]
    }
   ],
   "source": [
    "a=\"Alice has a cat\"\n",
    "print(2*a)"
   ]
  },
  {
   "cell_type": "code",
   "execution_count": 57,
   "metadata": {},
   "outputs": [
    {
     "ename": "TypeError",
     "evalue": "unsupported operand type(s) for /: 'str' and 'int'",
     "output_type": "error",
     "traceback": [
      "\u001b[0;31m---------------------------------------------------------------------------\u001b[0m",
      "\u001b[0;31mTypeError\u001b[0m                                 Traceback (most recent call last)",
      "Cell \u001b[0;32mIn[57], line 1\u001b[0m\n\u001b[0;32m----> 1\u001b[0m \u001b[43ma\u001b[49m\u001b[38;5;241;43m/\u001b[39;49m\u001b[38;5;241;43m2\u001b[39;49m\n",
      "\u001b[0;31mTypeError\u001b[0m: unsupported operand type(s) for /: 'str' and 'int'"
     ]
    }
   ],
   "source": [
    "a/2 # a//2"
   ]
  },
  {
   "cell_type": "code",
   "execution_count": null,
   "metadata": {},
   "outputs": [],
   "source": [
    "\"%.2f\" % 2"
   ]
  },
  {
   "cell_type": "code",
   "execution_count": 58,
   "metadata": {},
   "outputs": [
    {
     "data": {
      "text/plain": [
       "'Alice has a catAlice has a cat'"
      ]
     },
     "execution_count": 58,
     "metadata": {},
     "output_type": "execute_result"
    }
   ],
   "source": [
    "a+a"
   ]
  },
  {
   "cell_type": "markdown",
   "metadata": {
    "id": "RZYJSHWz0w2U"
   },
   "source": [
    "Boolean functions"
   ]
  },
  {
   "cell_type": "code",
   "execution_count": 59,
   "metadata": {
    "id": "F8Hy-u_20LDW"
   },
   "outputs": [
    {
     "data": {
      "text/plain": [
       "True"
      ]
     },
     "execution_count": 59,
     "metadata": {},
     "output_type": "execute_result"
    }
   ],
   "source": [
    "(True and True)"
   ]
  },
  {
   "cell_type": "code",
   "execution_count": 60,
   "metadata": {
    "id": "KhfO0XFL03dW"
   },
   "outputs": [
    {
     "data": {
      "text/plain": [
       "False"
      ]
     },
     "execution_count": 60,
     "metadata": {},
     "output_type": "execute_result"
    }
   ],
   "source": [
    "False and True"
   ]
  },
  {
   "cell_type": "code",
   "execution_count": 61,
   "metadata": {
    "id": "-ZrDW5Os04oc"
   },
   "outputs": [
    {
     "data": {
      "text/plain": [
       "True"
      ]
     },
     "execution_count": 61,
     "metadata": {},
     "output_type": "execute_result"
    }
   ],
   "source": [
    "False or True"
   ]
  },
  {
   "cell_type": "code",
   "execution_count": 62,
   "metadata": {
    "id": "rC4s-_lx06HL"
   },
   "outputs": [
    {
     "data": {
      "text/plain": [
       "True"
      ]
     },
     "execution_count": 62,
     "metadata": {},
     "output_type": "execute_result"
    }
   ],
   "source": [
    "(False or True) and True"
   ]
  },
  {
   "cell_type": "code",
   "execution_count": 63,
   "metadata": {
    "id": "QncwVcqj08qX"
   },
   "outputs": [
    {
     "data": {
      "text/plain": [
       "True"
      ]
     },
     "execution_count": 63,
     "metadata": {},
     "output_type": "execute_result"
    }
   ],
   "source": [
    "(3>5) or True"
   ]
  },
  {
   "cell_type": "code",
   "execution_count": 64,
   "metadata": {
    "id": "t4exJni01GtD"
   },
   "outputs": [
    {
     "data": {
      "text/plain": [
       "False"
      ]
     },
     "execution_count": 64,
     "metadata": {},
     "output_type": "execute_result"
    }
   ],
   "source": [
    "not True"
   ]
  },
  {
   "cell_type": "code",
   "execution_count": 65,
   "metadata": {
    "id": "qasR8-OG1IpK"
   },
   "outputs": [
    {
     "data": {
      "text/plain": [
       "True"
      ]
     },
     "execution_count": 65,
     "metadata": {},
     "output_type": "execute_result"
    }
   ],
   "source": [
    "1+1+1 == 3"
   ]
  },
  {
   "cell_type": "code",
   "execution_count": 66,
   "metadata": {
    "id": "AlFzeRBs1QhG"
   },
   "outputs": [
    {
     "data": {
      "text/plain": [
       "False"
      ]
     },
     "execution_count": 66,
     "metadata": {},
     "output_type": "execute_result"
    }
   ],
   "source": [
    "0.1 + 0.1 + 0.1 == 0.3"
   ]
  },
  {
   "cell_type": "markdown",
   "metadata": {},
   "source": [
    "<details>\n",
    "<summary>Comment (click me)</summary>\n",
    "Never compare floats using a simple `==` operator! Use some version of isclose() function\n",
    "</details>"
   ]
  },
  {
   "cell_type": "markdown",
   "metadata": {},
   "source": [
    "### Operator `in`"
   ]
  },
  {
   "cell_type": "code",
   "execution_count": 67,
   "metadata": {},
   "outputs": [
    {
     "data": {
      "text/plain": [
       "True"
      ]
     },
     "execution_count": 67,
     "metadata": {},
     "output_type": "execute_result"
    }
   ],
   "source": [
    "'a' in \"Alice has a cat\""
   ]
  },
  {
   "cell_type": "code",
   "execution_count": 68,
   "metadata": {},
   "outputs": [
    {
     "data": {
      "text/plain": [
       "False"
      ]
     },
     "execution_count": 68,
     "metadata": {},
     "output_type": "execute_result"
    }
   ],
   "source": [
    "'C' in \"Alice has a cat\""
   ]
  },
  {
   "cell_type": "code",
   "execution_count": 69,
   "metadata": {},
   "outputs": [
    {
     "data": {
      "text/plain": [
       "True"
      ]
     },
     "execution_count": 69,
     "metadata": {},
     "output_type": "execute_result"
    }
   ],
   "source": [
    "3 in [3, 4, 2, 1] # check if 3 can be found in a container (list container)"
   ]
  },
  {
   "cell_type": "markdown",
   "metadata": {
    "id": "XHBvxz7m3HnR"
   },
   "source": [
    "### Questions and answers\n",
    "\n",
    "Replace `?` to see a correct statement"
   ]
  },
  {
   "cell_type": "code",
   "execution_count": 70,
   "metadata": {
    "id": "Hv0wp5QL1SmW"
   },
   "outputs": [],
   "source": [
    "# if 3 == 7 ? 0 == 0:\n",
    "  # print(\"At least one statement is true\")"
   ]
  },
  {
   "cell_type": "code",
   "execution_count": 71,
   "metadata": {
    "id": "hfOWnmzL3VbK"
   },
   "outputs": [],
   "source": [
    "# if 3 ? 5:\n",
    "#   print(\"If 3 not equal 5\")"
   ]
  },
  {
   "cell_type": "markdown",
   "metadata": {
    "id": "PbugomNU3zVq"
   },
   "source": [
    "### Containers\n",
    "\n",
    "#### List:\n",
    "* What is the concept?"
   ]
  },
  {
   "cell_type": "code",
   "execution_count": 72,
   "metadata": {
    "id": "ybwYx8Ei3sr_"
   },
   "outputs": [
    {
     "name": "stdout",
     "output_type": "stream",
     "text": [
      "<class 'list'>\n"
     ]
    }
   ],
   "source": [
    "a= [1,2,3,4]\n",
    "print(type(a))"
   ]
  },
  {
   "cell_type": "code",
   "execution_count": 73,
   "metadata": {
    "id": "5xuB8l193_Rj"
   },
   "outputs": [
    {
     "name": "stdout",
     "output_type": "stream",
     "text": [
      "[10, 2, 3, 4]\n"
     ]
    }
   ],
   "source": [
    "a[0] = 10\n",
    "print(a)"
   ]
  },
  {
   "cell_type": "code",
   "execution_count": 74,
   "metadata": {
    "id": "-83zVWUoDGgB"
   },
   "outputs": [
    {
     "data": {
      "text/plain": [
       "4"
      ]
     },
     "execution_count": 74,
     "metadata": {},
     "output_type": "execute_result"
    }
   ],
   "source": [
    "len(a)"
   ]
  },
  {
   "cell_type": "code",
   "execution_count": 75,
   "metadata": {
    "id": "q7B_eyD94DGl"
   },
   "outputs": [
    {
     "name": "stdout",
     "output_type": "stream",
     "text": [
      "[10, 3, 4]\n"
     ]
    }
   ],
   "source": [
    "del a[1]\n",
    "print(a)"
   ]
  },
  {
   "cell_type": "code",
   "execution_count": 76,
   "metadata": {
    "id": "N0z2dUgH4Fsd"
   },
   "outputs": [
    {
     "name": "stdout",
     "output_type": "stream",
     "text": [
      "[10, 3, 4, 8]\n"
     ]
    }
   ],
   "source": [
    "a.append(8)\n",
    "print(a)"
   ]
  },
  {
   "cell_type": "code",
   "execution_count": 77,
   "metadata": {
    "id": "YJHf9A1JEz-v"
   },
   "outputs": [
    {
     "name": "stdout",
     "output_type": "stream",
     "text": [
      "[-12, 10, 3, 4, 8]\n"
     ]
    }
   ],
   "source": [
    "a.insert(0,-12)\n",
    "print(a)"
   ]
  },
  {
   "cell_type": "code",
   "execution_count": 78,
   "metadata": {
    "id": "E8F9TEkT4ek5"
   },
   "outputs": [
    {
     "name": "stdout",
     "output_type": "stream",
     "text": [
      "[-12, 10, 3, 4, 8, 1, 2, 3, 4]\n"
     ]
    }
   ],
   "source": [
    "a = a + [1,2,3,4]\n",
    "print(a)"
   ]
  },
  {
   "cell_type": "code",
   "execution_count": 80,
   "metadata": {
    "id": "K5pOId-wCE90"
   },
   "outputs": [
    {
     "name": "stdout",
     "output_type": "stream",
     "text": [
      "['Alice', [1, 2, 3], 6.9, {1, 2, 3}, (1, 2)]\n"
     ]
    }
   ],
   "source": [
    "x= [\"Alice\", [1,2,3], 6.9, {1,2,3},(1,2)]\n",
    "print(x)"
   ]
  },
  {
   "cell_type": "code",
   "execution_count": 82,
   "metadata": {},
   "outputs": [],
   "source": [
    "# print(x[1])"
   ]
  },
  {
   "cell_type": "code",
   "execution_count": 81,
   "metadata": {
    "id": "0_lo_sFMAbKb"
   },
   "outputs": [],
   "source": [
    "# 11 in a"
   ]
  },
  {
   "cell_type": "markdown",
   "metadata": {
    "id": "UekAoWLV4Vg9"
   },
   "source": [
    "#### Tuple:"
   ]
  },
  {
   "cell_type": "code",
   "execution_count": 83,
   "metadata": {
    "id": "VPeCCFvW4KWe"
   },
   "outputs": [
    {
     "name": "stdout",
     "output_type": "stream",
     "text": [
      "(1, 2, 3, 4)\n"
     ]
    }
   ],
   "source": [
    "a = (1,2,3,4)\n",
    "print(a)"
   ]
  },
  {
   "cell_type": "code",
   "execution_count": 84,
   "metadata": {
    "id": "QyCiSMTJ4kyt"
   },
   "outputs": [
    {
     "ename": "TypeError",
     "evalue": "'tuple' object does not support item assignment",
     "output_type": "error",
     "traceback": [
      "\u001b[0;31m---------------------------------------------------------------------------\u001b[0m",
      "\u001b[0;31mTypeError\u001b[0m                                 Traceback (most recent call last)",
      "Cell \u001b[0;32mIn[84], line 1\u001b[0m\n\u001b[0;32m----> 1\u001b[0m a[\u001b[38;5;241m0\u001b[39m]\u001b[38;5;241m=\u001b[39m\u001b[38;5;241m5\u001b[39m\n",
      "\u001b[0;31mTypeError\u001b[0m: 'tuple' object does not support item assignment"
     ]
    }
   ],
   "source": [
    "a[0]=5"
   ]
  },
  {
   "cell_type": "code",
   "execution_count": 85,
   "metadata": {
    "id": "CLqU2blY4l3E"
   },
   "outputs": [
    {
     "name": "stdout",
     "output_type": "stream",
     "text": [
      "1\n"
     ]
    }
   ],
   "source": [
    "print(a[0])"
   ]
  },
  {
   "cell_type": "code",
   "execution_count": 86,
   "metadata": {
    "id": "dleAUQHc_ZyL"
   },
   "outputs": [
    {
     "name": "stdout",
     "output_type": "stream",
     "text": [
      "4\n"
     ]
    }
   ],
   "source": [
    "x,y,z,w = a\n",
    "print(w)"
   ]
  },
  {
   "cell_type": "code",
   "execution_count": 87,
   "metadata": {
    "id": "eC7l0fS4_jO2"
   },
   "outputs": [],
   "source": [
    "a,b,c= 1,10.,\"X\""
   ]
  },
  {
   "cell_type": "code",
   "execution_count": 88,
   "metadata": {
    "id": "Il-qcxInCl-o"
   },
   "outputs": [
    {
     "name": "stdout",
     "output_type": "stream",
     "text": [
      "15\n"
     ]
    }
   ],
   "source": [
    "a= 10\n",
    "b= 15\n",
    "a,b= b,a\n",
    "print(a)"
   ]
  },
  {
   "cell_type": "markdown",
   "metadata": {
    "id": "MAciDF9hAL7S"
   },
   "source": [
    "### Set"
   ]
  },
  {
   "cell_type": "code",
   "execution_count": 89,
   "metadata": {
    "id": "nOvHLMBR5nM7"
   },
   "outputs": [
    {
     "name": "stdout",
     "output_type": "stream",
     "text": [
      "{1, 3, 4, 5}\n"
     ]
    }
   ],
   "source": [
    "a= {1,1,3,4,5}\n",
    "print(a)"
   ]
  },
  {
   "cell_type": "code",
   "execution_count": 90,
   "metadata": {
    "id": "QAJsDdv2ASvj"
   },
   "outputs": [
    {
     "data": {
      "text/plain": [
       "True"
      ]
     },
     "execution_count": 90,
     "metadata": {},
     "output_type": "execute_result"
    }
   ],
   "source": [
    "1 in a"
   ]
  },
  {
   "cell_type": "code",
   "execution_count": 91,
   "metadata": {
    "id": "VzLvBEGJAetK"
   },
   "outputs": [
    {
     "name": "stdout",
     "output_type": "stream",
     "text": [
      "{1, 3, 4, 5, 'a'}\n"
     ]
    }
   ],
   "source": [
    "a.add('a')\n",
    "a.add('a')\n",
    "print(a)"
   ]
  },
  {
   "cell_type": "code",
   "execution_count": 92,
   "metadata": {},
   "outputs": [],
   "source": [
    "b = {1,4,7,8}"
   ]
  },
  {
   "cell_type": "code",
   "execution_count": 93,
   "metadata": {},
   "outputs": [
    {
     "data": {
      "text/plain": [
       "{1, 3, 4, 5, 7, 8, 'a'}"
      ]
     },
     "execution_count": 93,
     "metadata": {},
     "output_type": "execute_result"
    }
   ],
   "source": [
    "a | b # or"
   ]
  },
  {
   "cell_type": "code",
   "execution_count": 94,
   "metadata": {},
   "outputs": [
    {
     "data": {
      "text/plain": [
       "{1, 4}"
      ]
     },
     "execution_count": 94,
     "metadata": {},
     "output_type": "execute_result"
    }
   ],
   "source": [
    "a & b # and"
   ]
  },
  {
   "cell_type": "code",
   "execution_count": 95,
   "metadata": {},
   "outputs": [
    {
     "data": {
      "text/plain": [
       "{3, 5, 7, 8, 'a'}"
      ]
     },
     "execution_count": 95,
     "metadata": {},
     "output_type": "execute_result"
    }
   ],
   "source": [
    "a ^ b # xor"
   ]
  },
  {
   "cell_type": "code",
   "execution_count": 96,
   "metadata": {},
   "outputs": [
    {
     "data": {
      "text/plain": [
       "{3, 5, 'a'}"
      ]
     },
     "execution_count": 96,
     "metadata": {},
     "output_type": "execute_result"
    }
   ],
   "source": [
    "a - b"
   ]
  },
  {
   "cell_type": "markdown",
   "metadata": {
    "id": "O1yPz_ZUAv-A"
   },
   "source": [
    "### Dictionary"
   ]
  },
  {
   "cell_type": "code",
   "execution_count": 97,
   "metadata": {
    "id": "MgYJYLYVAmkU"
   },
   "outputs": [
    {
     "name": "stdout",
     "output_type": "stream",
     "text": [
      "{'age': 20, 'name': 'Bob', 'phone': '+11 111 222 333'}\n"
     ]
    }
   ],
   "source": [
    "a= {\"age\": 20, \"name\":\"Bob\",\"phone\":\"+11 111 222 333\"}\n",
    "print(a)"
   ]
  },
  {
   "cell_type": "code",
   "execution_count": 98,
   "metadata": {
    "id": "bIl1boBSBCFg"
   },
   "outputs": [
    {
     "name": "stdout",
     "output_type": "stream",
     "text": [
      "20\n"
     ]
    }
   ],
   "source": [
    "print(a[\"age\"])"
   ]
  },
  {
   "cell_type": "code",
   "execution_count": 99,
   "metadata": {
    "id": "MEkzUZY5BHlQ"
   },
   "outputs": [
    {
     "name": "stdout",
     "output_type": "stream",
     "text": [
      "{'age': 20, 'name': 'Bob', 'phone': '+11 111 222 333', 'second_name': 'John'}\n"
     ]
    }
   ],
   "source": [
    "a[\"second_name\"] =\"John\"\n",
    "print(a)"
   ]
  },
  {
   "cell_type": "code",
   "execution_count": 100,
   "metadata": {
    "id": "XD_MfWxGB4F-"
   },
   "outputs": [
    {
     "data": {
      "text/plain": [
       "dict_values([20, 'Bob', '+11 111 222 333', 'John'])"
      ]
     },
     "execution_count": 100,
     "metadata": {},
     "output_type": "execute_result"
    }
   ],
   "source": [
    "a.values()"
   ]
  },
  {
   "cell_type": "code",
   "execution_count": 101,
   "metadata": {
    "id": "G84t5YuiCvYU"
   },
   "outputs": [
    {
     "name": "stdout",
     "output_type": "stream",
     "text": [
      "age\n",
      "name\n",
      "phone\n",
      "second_name\n"
     ]
    }
   ],
   "source": [
    "for key in a:\n",
    "    print(key)"
   ]
  },
  {
   "cell_type": "code",
   "execution_count": 102,
   "metadata": {
    "id": "F-G950q7B8mG"
   },
   "outputs": [
    {
     "name": "stdout",
     "output_type": "stream",
     "text": [
      "age   20\n",
      "name   Bob\n",
      "phone   +11 111 222 333\n",
      "second_name   John\n"
     ]
    }
   ],
   "source": [
    "for key, value in a.items():\n",
    "    print(key, \" \", value)"
   ]
  },
  {
   "cell_type": "markdown",
   "metadata": {
    "id": "CFP9ehlYDDsh"
   },
   "source": [
    "### Questions and answers"
   ]
  },
  {
   "cell_type": "code",
   "execution_count": 105,
   "metadata": {
    "id": "th4WhicwCI75"
   },
   "outputs": [],
   "source": [
    "# Print last element from the list\n",
    "# fruits = [\"apple\", \"banana\", \"cherry\"]\n",
    "# print(?)"
   ]
  },
  {
   "cell_type": "code",
   "execution_count": 106,
   "metadata": {
    "id": "lEA97glDDBrw"
   },
   "outputs": [],
   "source": [
    "# Print number of elements in the list\n",
    "# a = [1,2,3,4,5,6]\n",
    "# print(?)"
   ]
  },
  {
   "cell_type": "code",
   "execution_count": 107,
   "metadata": {
    "id": "Hu-MkKPQEAjO"
   },
   "outputs": [],
   "source": [
    "# Print first element in the list:\n",
    "# a = [1,2,3,4,5,6]\n",
    "# print(a[?])"
   ]
  },
  {
   "cell_type": "code",
   "execution_count": 109,
   "metadata": {
    "id": "JIJQrn8wEayD"
   },
   "outputs": [],
   "source": [
    "# What it might print?\n",
    "# a= [1,2,3,4,5,6]\n",
    "# print(a[1:4]) # ?"
   ]
  },
  {
   "cell_type": "markdown",
   "metadata": {
    "id": "j9m0HS-kIUeM"
   },
   "source": [
    "---\n",
    "### Conditional statements and loops.\n",
    "\n",
    "IF-ELIF-ELSE"
   ]
  },
  {
   "cell_type": "code",
   "execution_count": 110,
   "metadata": {
    "id": "gTXSq6crIWYo"
   },
   "outputs": [
    {
     "name": "stdout",
     "output_type": "stream",
     "text": [
      "X\n"
     ]
    }
   ],
   "source": [
    "a= 5\n",
    "if a<10:\n",
    "    print(\"X\")\n",
    "elif a<15:\n",
    "    print(\"Y\")\n",
    "else:\n",
    "    print(\"Z\")"
   ]
  },
  {
   "cell_type": "code",
   "execution_count": 111,
   "metadata": {
    "id": "Luy8ujWXIrYg"
   },
   "outputs": [
    {
     "name": "stdout",
     "output_type": "stream",
     "text": [
      "Write your name: Bob\n",
      "You are one of the users. You have access to this branch\n"
     ]
    }
   ],
   "source": [
    "users= [\"Alice\", \"Bob\", \"Carol\"]\n",
    "name= input(\"Write your name: \") # New element! What it does?\n",
    "if name in users:\n",
    "    print(\"You are one of the users. You have access to this branch\")\n",
    "else:\n",
    "    print(\"You are not a user!\")"
   ]
  },
  {
   "cell_type": "markdown",
   "metadata": {
    "id": "gAwdjA_sKenL"
   },
   "source": [
    "FOR"
   ]
  },
  {
   "cell_type": "code",
   "execution_count": 112,
   "metadata": {
    "id": "A0eks6qzKLcA"
   },
   "outputs": [
    {
     "name": "stdout",
     "output_type": "stream",
     "text": [
      "1\n",
      "2\n",
      "3\n",
      "4\n",
      "6\n"
     ]
    }
   ],
   "source": [
    "x= 10232\n",
    "for x in [1,2,3,4,6]:\n",
    "    print(x)"
   ]
  },
  {
   "cell_type": "code",
   "execution_count": 113,
   "metadata": {
    "id": "5OvM83dzEyu8"
   },
   "outputs": [
    {
     "name": "stdout",
     "output_type": "stream",
     "text": [
      "6\n"
     ]
    }
   ],
   "source": [
    "print(x)"
   ]
  },
  {
   "cell_type": "code",
   "execution_count": 116,
   "metadata": {
    "id": "RMAH2hgXKiFC"
   },
   "outputs": [
    {
     "name": "stdout",
     "output_type": "stream",
     "text": [
      "0 0\n",
      "1 1\n",
      "2 4\n",
      "3 9\n",
      "4 16\n",
      "5 25\n",
      "6 36\n",
      "7 49\n",
      "8 64\n",
      "9 81\n"
     ]
    }
   ],
   "source": [
    "for x in range(10):\n",
    "    print(x, x**2)\n",
    "    # any_function_of(x)"
   ]
  },
  {
   "cell_type": "code",
   "execution_count": 117,
   "metadata": {
    "id": "oGXhAkEVK8ds"
   },
   "outputs": [
    {
     "name": "stdout",
     "output_type": "stream",
     "text": [
      "S\n",
      "o\n",
      "m\n",
      "e\n",
      " \n",
      "l\n",
      "o\n",
      "n\n",
      "g\n",
      " \n",
      "t\n",
      "e\n",
      "x\n",
      "t\n"
     ]
    }
   ],
   "source": [
    "for letter in \"Some long text\":\n",
    "    print(letter)"
   ]
  },
  {
   "cell_type": "code",
   "execution_count": 118,
   "metadata": {
    "id": "ds10hG-VxM-n"
   },
   "outputs": [
    {
     "ename": "TypeError",
     "evalue": "'int' object is not iterable",
     "output_type": "error",
     "traceback": [
      "\u001b[0;31m---------------------------------------------------------------------------\u001b[0m",
      "\u001b[0;31mTypeError\u001b[0m                                 Traceback (most recent call last)",
      "Cell \u001b[0;32mIn[118], line 1\u001b[0m\n\u001b[0;32m----> 1\u001b[0m \u001b[38;5;28;01mfor\u001b[39;00m x \u001b[38;5;129;01min\u001b[39;00m \u001b[38;5;241m10\u001b[39m:\n\u001b[1;32m      2\u001b[0m     \u001b[38;5;28mprint\u001b[39m(x)\n",
      "\u001b[0;31mTypeError\u001b[0m: 'int' object is not iterable"
     ]
    }
   ],
   "source": [
    "for x in 10:\n",
    "    print(x)"
   ]
  },
  {
   "cell_type": "code",
   "execution_count": 119,
   "metadata": {
    "id": "ggs1xuhnxVx6"
   },
   "outputs": [
    {
     "name": "stdout",
     "output_type": "stream",
     "text": [
      "12\n",
      "54\n",
      "23\n"
     ]
    }
   ],
   "source": [
    "for x in {12,23,54,12}:\n",
    "    print(x)"
   ]
  },
  {
   "cell_type": "code",
   "execution_count": 120,
   "metadata": {
    "id": "c1z-5mynx8p7"
   },
   "outputs": [
    {
     "name": "stdout",
     "output_type": "stream",
     "text": [
      "1\n",
      "2\n",
      "3\n",
      "4\n"
     ]
    }
   ],
   "source": [
    "x = [1,2,3,4]\n",
    "for i in range(len(x)): # Bad pattern! Not pythonic\n",
    "    print(x[i])"
   ]
  },
  {
   "cell_type": "markdown",
   "metadata": {
    "id": "hhDFtbWNKslh"
   },
   "source": [
    "WHILE"
   ]
  },
  {
   "cell_type": "code",
   "execution_count": 121,
   "metadata": {
    "id": "QCRPyE_2Km81"
   },
   "outputs": [
    {
     "name": "stdout",
     "output_type": "stream",
     "text": [
      "1\n",
      "2\n",
      "3\n",
      "4\n",
      "5\n",
      "6\n",
      "7\n",
      "8\n",
      "9\n",
      "10\n"
     ]
    }
   ],
   "source": [
    "i= 0\n",
    "while i<10:\n",
    "    i= i+1\n",
    "    print(i)"
   ]
  },
  {
   "cell_type": "code",
   "execution_count": 122,
   "metadata": {
    "id": "iepEIRsmFt34"
   },
   "outputs": [
    {
     "name": "stdout",
     "output_type": "stream",
     "text": [
      "10\n"
     ]
    }
   ],
   "source": [
    "print(i)"
   ]
  },
  {
   "cell_type": "markdown",
   "metadata": {
    "id": "XXSXBgBZL5ku"
   },
   "source": [
    "Continue i break"
   ]
  },
  {
   "cell_type": "code",
   "execution_count": 123,
   "metadata": {
    "id": "bKHkWSENK4Gc"
   },
   "outputs": [
    {
     "name": "stdout",
     "output_type": "stream",
     "text": [
      "1\n",
      "2\n",
      "3\n",
      "5\n",
      "6\n",
      "7\n",
      "8\n",
      "9\n",
      "10\n"
     ]
    }
   ],
   "source": [
    "# Let's go through the following code:\n",
    "i= 0\n",
    "while i<10:\n",
    "    i= i+1\n",
    "    if i == 4:\n",
    "        continue\n",
    "    print(i)"
   ]
  },
  {
   "cell_type": "code",
   "execution_count": 124,
   "metadata": {
    "id": "gCxdEurcK0QE"
   },
   "outputs": [
    {
     "name": "stdout",
     "output_type": "stream",
     "text": [
      "1\n",
      "2\n",
      "3\n"
     ]
    }
   ],
   "source": [
    "# And now:\n",
    "i= 0\n",
    "while i<10:\n",
    "    i= i+1\n",
    "    if i == 4:\n",
    "        break\n",
    "    print(i)"
   ]
  },
  {
   "cell_type": "markdown",
   "metadata": {
    "id": "ZZerFR-G604U"
   },
   "source": [
    "--- \n",
    "## Modules\n",
    "\n",
    "Many functions that we often need can be found in modules available in every Python interpreter. You can find a complete list of these in the [documentation](https://docs.python.org/3/library/).\n",
    "\n",
    "The most important ones are:\n",
    "- sys\n",
    "- os\n",
    "- math\n",
    "- glob\n",
    "- time\n",
    "- argparse\n",
    "\n",
    "In addition to them, there are also many modules that are not part of the standard library and usually need to be installed separately (the two most important tools for installing modules are pip and conda. We will talk more about them in the modules-related meeting). The most important ones are:\n",
    "\n",
    "- matplotlib - for creating plots\n",
    "- scipy - scientific Python\n",
    "- numpy - numerical Python\n",
    "- pandas - for working with data using DataFrames\n",
    "- scikit-learn - for machine learning\n",
    "- pytorch / jax / tensorflow and keras - for machine learning (neural networks)\n",
    "- astropy - a collection of tools for astronomers."
   ]
  },
  {
   "cell_type": "code",
   "execution_count": 125,
   "metadata": {
    "id": "nSHh8SFuMgTc"
   },
   "outputs": [
    {
     "name": "stdout",
     "output_type": "stream",
     "text": [
      "3.141592653589793\n"
     ]
    }
   ],
   "source": [
    "import math # This is how we import a module\n",
    "\n",
    "print(math.pi)"
   ]
  },
  {
   "cell_type": "code",
   "execution_count": 126,
   "metadata": {
    "id": "UVnjxvpV0u9C"
   },
   "outputs": [
    {
     "data": {
      "text/plain": [
       "array([10, 10])"
      ]
     },
     "execution_count": 126,
     "metadata": {},
     "output_type": "execute_result"
    }
   ],
   "source": [
    "import numpy as np\n",
    "np.abs([-10,10])"
   ]
  },
  {
   "cell_type": "code",
   "execution_count": 128,
   "metadata": {
    "id": "dcai2QeC1cPY"
   },
   "outputs": [
    {
     "ename": "ModuleNotFoundError",
     "evalue": "No module named 'not_existing_module'",
     "output_type": "error",
     "traceback": [
      "\u001b[0;31m---------------------------------------------------------------------------\u001b[0m",
      "\u001b[0;31mModuleNotFoundError\u001b[0m                       Traceback (most recent call last)",
      "Cell \u001b[0;32mIn[128], line 1\u001b[0m\n\u001b[0;32m----> 1\u001b[0m \u001b[38;5;28;01mimport\u001b[39;00m \u001b[38;5;21;01mnot_existing_module\u001b[39;00m\n",
      "\u001b[0;31mModuleNotFoundError\u001b[0m: No module named 'not_existing_module'"
     ]
    }
   ],
   "source": [
    "import not_existing_module"
   ]
  },
  {
   "cell_type": "code",
   "execution_count": 129,
   "metadata": {
    "id": "H3E_PeGg8ji4"
   },
   "outputs": [
    {
     "data": {
      "text/plain": [
       "['__doc__',\n",
       " '__file__',\n",
       " '__loader__',\n",
       " '__name__',\n",
       " '__package__',\n",
       " '__spec__',\n",
       " 'acos',\n",
       " 'acosh',\n",
       " 'asin',\n",
       " 'asinh',\n",
       " 'atan',\n",
       " 'atan2',\n",
       " 'atanh',\n",
       " 'ceil',\n",
       " 'comb',\n",
       " 'copysign',\n",
       " 'cos',\n",
       " 'cosh',\n",
       " 'degrees',\n",
       " 'dist',\n",
       " 'e',\n",
       " 'erf',\n",
       " 'erfc',\n",
       " 'exp',\n",
       " 'expm1',\n",
       " 'fabs',\n",
       " 'factorial',\n",
       " 'floor',\n",
       " 'fmod',\n",
       " 'frexp',\n",
       " 'fsum',\n",
       " 'gamma',\n",
       " 'gcd',\n",
       " 'hypot',\n",
       " 'inf',\n",
       " 'isclose',\n",
       " 'isfinite',\n",
       " 'isinf',\n",
       " 'isnan',\n",
       " 'isqrt',\n",
       " 'ldexp',\n",
       " 'lgamma',\n",
       " 'log',\n",
       " 'log10',\n",
       " 'log1p',\n",
       " 'log2',\n",
       " 'modf',\n",
       " 'nan',\n",
       " 'perm',\n",
       " 'pi',\n",
       " 'pow',\n",
       " 'prod',\n",
       " 'radians',\n",
       " 'remainder',\n",
       " 'sin',\n",
       " 'sinh',\n",
       " 'sqrt',\n",
       " 'tan',\n",
       " 'tanh',\n",
       " 'tau',\n",
       " 'trunc']"
      ]
     },
     "execution_count": 129,
     "metadata": {},
     "output_type": "execute_result"
    }
   ],
   "source": [
    "dir(math) # It returns a list containing the functions available in the math module."
   ]
  },
  {
   "cell_type": "code",
   "execution_count": 130,
   "metadata": {
    "id": "Y_7a9vBb8mu2"
   },
   "outputs": [
    {
     "name": "stdout",
     "output_type": "stream",
     "text": [
      "Help on built-in function isclose in module math:\n",
      "\n",
      "isclose(a, b, *, rel_tol=1e-09, abs_tol=0.0)\n",
      "    Determine whether two floating point numbers are close in value.\n",
      "    \n",
      "      rel_tol\n",
      "        maximum difference for being considered \"close\", relative to the\n",
      "        magnitude of the input values\n",
      "      abs_tol\n",
      "        maximum difference for being considered \"close\", regardless of the\n",
      "        magnitude of the input values\n",
      "    \n",
      "    Return True if a is close in value to b, and False otherwise.\n",
      "    \n",
      "    For the values to be considered close, the difference between them\n",
      "    must be smaller than at least one of the tolerances.\n",
      "    \n",
      "    -inf, inf and NaN behave similarly to the IEEE 754 Standard.  That\n",
      "    is, NaN is not close to anything, even itself.  inf and -inf are\n",
      "    only close to themselves.\n",
      "\n"
     ]
    }
   ],
   "source": [
    "help(math.isclose)"
   ]
  },
  {
   "cell_type": "code",
   "execution_count": 132,
   "metadata": {
    "id": "0nPHvIGX8xvu"
   },
   "outputs": [
    {
     "name": "stdout",
     "output_type": "stream",
     "text": [
      "False\n",
      "True\n"
     ]
    }
   ],
   "source": [
    "print(0.1+0.1+0.1 == 0.3)\n",
    "print(math.isclose(0.1+0.1+0.1, 0.3))"
   ]
  },
  {
   "cell_type": "markdown",
   "metadata": {
    "id": "JqdX9jn5MjVM"
   },
   "source": [
    "## Functions\n",
    "\n",
    "It is often beneficial to extract frequently used code snippets into functions. By using functions, the code becomes more readable and easier to maintain.\n",
    "\n",
    "Additionally, we don't necessarily need to know how a function solves a particular problem. It is sufficient to understand what arguments it takes and what result it returns."
   ]
  },
  {
   "cell_type": "code",
   "execution_count": 133,
   "metadata": {
    "id": "bDb78ab784A2"
   },
   "outputs": [],
   "source": [
    "def function(arg1, arg2, arg3):\n",
    "    \"\"\"\n",
    "    Compute average of three numbers\n",
    "    Other comments\n",
    "    \"\"\"\n",
    "    return (arg1+arg2+arg3)/3"
   ]
  },
  {
   "cell_type": "code",
   "execution_count": 134,
   "metadata": {
    "id": "PK1xbXaeOvx_"
   },
   "outputs": [
    {
     "name": "stdout",
     "output_type": "stream",
     "text": [
      "Help on function function in module __main__:\n",
      "\n",
      "function(arg1, arg2, arg3)\n",
      "    Compute average of three numbers\n",
      "    Other comments\n",
      "\n"
     ]
    }
   ],
   "source": [
    "help(function)"
   ]
  },
  {
   "cell_type": "code",
   "execution_count": 135,
   "metadata": {
    "id": "Bg7qyDFmOxAP"
   },
   "outputs": [
    {
     "name": "stdout",
     "output_type": "stream",
     "text": [
      "2.0\n"
     ]
    }
   ],
   "source": [
    "result= function(1,2,3)\n",
    "print(result)"
   ]
  },
  {
   "cell_type": "code",
   "execution_count": 137,
   "metadata": {
    "id": "QhrfjwAe23hc"
   },
   "outputs": [
    {
     "name": "stdout",
     "output_type": "stream",
     "text": [
      "5\n",
      "2.0\n",
      "10\n"
     ]
    }
   ],
   "source": [
    "x = 10\n",
    "def function(arg1, arg2, arg3):\n",
    "    \"\"\"\n",
    "    Compute average of three numbers\n",
    "    Other comments\n",
    "    \"\"\"\n",
    "    x = 5\n",
    "    print(x) # Clarify the idea of a scope - is this x equal 5 or 10?\n",
    "    return (arg1+arg2+arg3)/3\n",
    "\n",
    "avr= function(1,2,3)\n",
    "print(avr)\n",
    "print(x) # What ebout this x (5? or 10?)"
   ]
  },
  {
   "cell_type": "markdown",
   "metadata": {
    "id": "MySoz7kSPqn7"
   },
   "source": [
    "#### How to implement a good function?\n"
   ]
  },
  {
   "cell_type": "code",
   "execution_count": 138,
   "metadata": {
    "id": "kEmvVaiEO9qH"
   },
   "outputs": [
    {
     "name": "stdout",
     "output_type": "stream",
     "text": [
      "[7, 8, 10, 10, 1, 6, 8, 6, 6, 7, 6, 2, 8, 6, 9, 8, 4, 2, 6, 10, 3, 2, 6, 4, 5, 1, 10, 0, 9, 7, 6, 2, 9, 3, 10, 7, 1, 3, 2, 5, 10, 5, 8, 2, 7, 0, 4, 0, 5, 4, 2, 1, 3, 7, 5, 5, 9, 8, 9, 10, 6, 9, 3, 6, 9, 9, 4, 3, 10, 9, 10, 0, 0, 7, 6, 10, 6, 6, 9, 6, 8, 4, 10, 9, 8, 1, 6, 3, 2, 9, 7, 3, 5, 4, 9, 9, 6, 5, 6, 8]\n"
     ]
    }
   ],
   "source": [
    "# I want to calculate the average value from 100 measurements.\n",
    "import random\n",
    "\n",
    "no_measurements= 100\n",
    "measurements= []\n",
    "for _ in range(no_measurements):\n",
    "    single_measurement= random.randint(0,10)\n",
    "    measurements.append(single_measurement)\n",
    "print(measurements)"
   ]
  },
  {
   "cell_type": "code",
   "execution_count": 139,
   "metadata": {
    "id": "DzZe0FELQPHP"
   },
   "outputs": [
    {
     "name": "stdout",
     "output_type": "stream",
     "text": [
      "5.79\n"
     ]
    }
   ],
   "source": [
    "cumulative= 0\n",
    "for single_measurement in measurements:\n",
    "    cumulative = cumulative + single_measurement\n",
    "    # cumulative += single_measurement\n",
    "average_of_measurements= cumulative/no_measurements\n",
    "print(average_of_measurements)"
   ]
  },
  {
   "cell_type": "code",
   "execution_count": 140,
   "metadata": {
    "id": "WkeCzhMcQrRu"
   },
   "outputs": [],
   "source": [
    "def average(measurements):\n",
    "    cumulative= 0\n",
    "    for single_measurement in measurements:\n",
    "        cumulative += single_measurement\n",
    "    return cumulative/len(measurements)"
   ]
  },
  {
   "cell_type": "code",
   "execution_count": 141,
   "metadata": {
    "id": "jE5pZ8KpRg2O"
   },
   "outputs": [
    {
     "name": "stdout",
     "output_type": "stream",
     "text": [
      "5.79\n"
     ]
    }
   ],
   "source": [
    "print(average(measurements))"
   ]
  },
  {
   "cell_type": "code",
   "execution_count": 142,
   "metadata": {
    "id": "Tc9gKhdGRlQG"
   },
   "outputs": [],
   "source": [
    "# I want to calculate the factorial of N."
   ]
  },
  {
   "cell_type": "code",
   "execution_count": 143,
   "metadata": {
    "id": "Sn4P8knfRwDu"
   },
   "outputs": [
    {
     "name": "stdout",
     "output_type": "stream",
     "text": [
      "120.0\n"
     ]
    }
   ],
   "source": [
    "N= 5\n",
    "N_factorial = 1.\n",
    "for i in range(1,N+1):\n",
    "    N_factorial= N_factorial*i\n",
    "print(N_factorial)"
   ]
  },
  {
   "cell_type": "code",
   "execution_count": 144,
   "metadata": {
    "id": "WJmD6uYmR4PW"
   },
   "outputs": [
    {
     "name": "stdout",
     "output_type": "stream",
     "text": [
      "120.0\n"
     ]
    }
   ],
   "source": [
    "def factorial(N):\n",
    "    N_factorial = 1.\n",
    "    for i in range(1,N+1):\n",
    "        N_factorial*=i\n",
    "    return N_factorial\n",
    "\n",
    "print(factorial(5))"
   ]
  },
  {
   "cell_type": "code",
   "execution_count": 146,
   "metadata": {
    "id": "jEttM9hnSJS3"
   },
   "outputs": [],
   "source": [
    "# I want the variable \"a\" to always contain the larger number, \n",
    "# and the variable \"b\" to contain the smaller number."
   ]
  },
  {
   "cell_type": "code",
   "execution_count": 147,
   "metadata": {
    "id": "AyopyRB6SWpV"
   },
   "outputs": [
    {
     "name": "stdout",
     "output_type": "stream",
     "text": [
      "a =  15 ; b =  10\n"
     ]
    }
   ],
   "source": [
    "a= 10\n",
    "b= 15\n",
    "if a<b:\n",
    "    temp=a\n",
    "    a=b\n",
    "    b=temp\n",
    "print(\"a = \", a,\"; b = \",b)"
   ]
  },
  {
   "cell_type": "code",
   "execution_count": 148,
   "metadata": {
    "id": "KQCVA7rcSzEt"
   },
   "outputs": [],
   "source": [
    "def swap_first_bigger(a,b):\n",
    "    if a<b:\n",
    "        temp=a\n",
    "        a=b\n",
    "        b=temp\n",
    "    return a,b"
   ]
  },
  {
   "cell_type": "markdown",
   "metadata": {},
   "source": [
    "How to swap numbers in single line of code?\n",
    "<details>\n",
    "<summary>Answer (click me)</summary>\n",
    "a,b = b,a\n",
    "</details>"
   ]
  },
  {
   "cell_type": "code",
   "execution_count": 150,
   "metadata": {
    "id": "QT__TnHQTF-3"
   },
   "outputs": [
    {
     "name": "stdout",
     "output_type": "stream",
     "text": [
      "a =  15 ; b =  10\n"
     ]
    }
   ],
   "source": [
    "a= 10\n",
    "b= 15\n",
    "a,b= swap_first_bigger(a,b)\n",
    "print(\"a = \", a,\"; b = \",b)"
   ]
  },
  {
   "cell_type": "code",
   "execution_count": 153,
   "metadata": {
    "id": "K3M6fY_pTGad"
   },
   "outputs": [],
   "source": [
    "# Sort a list of numbers using a bubble sort"
   ]
  },
  {
   "cell_type": "markdown",
   "metadata": {
    "id": "ZMhcQ_JOjiNY"
   },
   "source": [
    "Example:\n",
    "First Pass:\n",
    "1. ( 5 1 4 2 8 ) –> ( 1 5 4 2 8 ), Here, algorithm compares the first two elements, and swaps since 5 > 1.\n",
    "2. ( 1 5 4 2 8 ) –>  ( 1 4 5 2 8 ), Swap since 5 > 4\n",
    "3. ( 1 4 5 2 8 ) –>  ( 1 4 2 5 8 ), Swap since 5 > 2\n",
    "4. ( 1 4 2 5 8 ) –> ( 1 4 2 5 8 ), Now, since these elements are already in order (8 > 5), algorithm does not swap them.\n",
    "\n",
    "Second Pass:\n",
    "1. ( 1 4 2 5 8 ) –> ( 1 4 2 5 8 )\n",
    "2. ( 1 4 2 5 8 ) –> ( 1 2 4 5 8 ), Swap since 4 > 2\n",
    "3. ( 1 2 4 5 8 ) –> ( 1 2 4 5 8 )\n",
    "4. ( 1 2 4 5 8 ) –>  ( 1 2 4 5 8 )\n",
    "\n",
    "Now, the array is already sorted, but our algorithm does not know if it is completed. The algorithm needs one whole pass without any swap to know it is sorted.\n",
    "\n",
    "Third Pass:\n",
    "1. ( 1 2 4 5 8 ) –> ( 1 2 4 5 8 )\n",
    "2. ( 1 2 4 5 8 ) –> ( 1 2 4 5 8 )\n",
    "3. ( 1 2 4 5 8 ) –> ( 1 2 4 5 8 )\n",
    "4. ( 1 2 4 5 8 ) –> ( 1 2 4 5 8 )"
   ]
  },
  {
   "cell_type": "code",
   "execution_count": 154,
   "metadata": {
    "id": "-RY4ifQwjA0A"
   },
   "outputs": [
    {
     "name": "stdout",
     "output_type": "stream",
     "text": [
      "Last  0 already sorted!\n",
      "0 1  swapped:\n",
      "[1, 5, 4, 2, 3]\n",
      "1 2  swapped:\n",
      "[1, 4, 5, 2, 3]\n",
      "2 3  swapped:\n",
      "[1, 4, 2, 5, 3]\n",
      "3 4  swapped:\n",
      "[1, 4, 2, 3, 5]\n",
      "Last  1 already sorted!\n",
      "[1, 4, 2, 3, 5]\n",
      "1 2  swapped:\n",
      "[1, 2, 4, 3, 5]\n",
      "2 3  swapped:\n",
      "[1, 2, 3, 4, 5]\n",
      "Last  2 already sorted!\n",
      "[1, 2, 3, 4, 5]\n",
      "[1, 2, 3, 4, 5]\n",
      "Last  3 already sorted!\n",
      "[1, 2, 3, 4, 5]\n",
      "Last  4 already sorted!\n",
      "[1, 2, 3, 4, 5]\n"
     ]
    }
   ],
   "source": [
    "import numpy as np\n",
    "x= [5, 1, 4, 2, 3]\n",
    "\n",
    "n= len(x)\n",
    "for i in range(n):\n",
    "    print(\"Last \",i, \"already sorted!\")\n",
    "    for j in range(0, n-i-1): \n",
    "        if x[j] > x[j+1]: \n",
    "            x[j], x[j+1] = x[j+1], x[j]\n",
    "            print(j,j+1, \" swapped:\")\n",
    "        print(x)\n",
    "print(x)"
   ]
  },
  {
   "cell_type": "code",
   "execution_count": 155,
   "metadata": {
    "id": "t3Min-v9mUUM"
   },
   "outputs": [
    {
     "name": "stdout",
     "output_type": "stream",
     "text": [
      "[1, 2, 3, 4, 5]\n"
     ]
    }
   ],
   "source": [
    "def bubble_sort(x):\n",
    "    # https://youtu.be/lyZQPjUT5B4\n",
    "    n= len(x)\n",
    "    for i in range(n):\n",
    "        for j in range(0, n-i-1): \n",
    "            if x[j] > x[j+1]: \n",
    "                x[j], x[j+1] = x[j+1], x[j]\n",
    "\n",
    "x= [5, 1, 4, 2, 3]\n",
    "bubble_sort(x)\n",
    "print(x)"
   ]
  },
  {
   "cell_type": "code",
   "execution_count": null,
   "metadata": {
    "id": "Js7I4xg4nyFQ"
   },
   "outputs": [],
   "source": []
  }
 ],
 "metadata": {
  "colab": {
   "authorship_tag": "ABX9TyMVkU5MgJBzcBJldIPDDjuN",
   "collapsed_sections": [],
   "name": "03_postawy.ipynb",
   "provenance": []
  },
  "kernelspec": {
   "display_name": "Python 3 (ipykernel)",
   "language": "python",
   "name": "python3"
  },
  "language_info": {
   "codemirror_mode": {
    "name": "ipython",
    "version": 3
   },
   "file_extension": ".py",
   "mimetype": "text/x-python",
   "name": "python",
   "nbconvert_exporter": "python",
   "pygments_lexer": "ipython3",
   "version": "3.8.3"
  }
 },
 "nbformat": 4,
 "nbformat_minor": 1
}
