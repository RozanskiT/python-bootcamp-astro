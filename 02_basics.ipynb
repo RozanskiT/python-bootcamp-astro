{
 "cells": [
  {
   "cell_type": "markdown",
   "metadata": {
    "id": "O5DrLoQsrc2O"
   },
   "source": [
    "# Basics of the Python language\n",
    "\n",
    "In this notebook, we will take a look at the syntax of the language and the fragments that every piece of Python code is built from. This overview is far from complete, but it is intended to give an idea of what we might encounter in the code we are working with."
   ]
  },
  {
   "cell_type": "markdown",
   "metadata": {
    "id": "izmgKHJkr5GJ"
   },
   "source": [
    "---\n",
    "## Blocks\n",
    "Let's try to read the following code as if it were English."
   ]
  },
  {
   "cell_type": "code",
   "execution_count": null,
   "metadata": {
    "id": "tenRPZPksczj"
   },
   "outputs": [],
   "source": [
    "a= 10\n",
    "b= 15\n",
    "print(a+b)"
   ]
  },
  {
   "cell_type": "code",
   "execution_count": null,
   "metadata": {
    "id": "8WLwc8WssLM3"
   },
   "outputs": [],
   "source": [
    "if 5>2:\n",
    "    print(\"It's true that 5 is greater than 2.\")\n",
    "else:\n",
    "    print(\"It's false that 5 is greater than 2.\")"
   ]
  },
  {
   "cell_type": "code",
   "execution_count": null,
   "metadata": {
    "id": "ebo2ceLnsb9T"
   },
   "outputs": [],
   "source": [
    "i= 0\n",
    "sum= 0.\n",
    "while i<10:\n",
    "    print(\"Now i = \",i)\n",
    "    sum= sum + i\n",
    "    i = i+1 \n",
    "print(sum)"
   ]
  },
  {
   "cell_type": "code",
   "execution_count": null,
   "metadata": {
    "id": "v3yRO2Lfs9Y-"
   },
   "outputs": [],
   "source": [
    "N= 10\n",
    "M= 10\n",
    "i,j= 1,1\n",
    "multiplication_table= []\n",
    "while i <= N:\n",
    "    next_row_of_multiplicable_table= []\n",
    "    while j <= M:\n",
    "        next_row_of_multiplicable_table.append(i*j)\n",
    "        j= j+1\n",
    "    i= i+1\n",
    "    j= 1\n",
    "    print(next_row_of_multiplicable_table)\n",
    "    multiplication_table.append(next_row_of_multiplicable_table)"
   ]
  },
  {
   "cell_type": "code",
   "execution_count": null,
   "metadata": {
    "id": "Vwi1iyck9qVf"
   },
   "outputs": [],
   "source": [
    "print(multiplication_table)"
   ]
  },
  {
   "cell_type": "markdown",
   "metadata": {
    "id": "Qrw_UFxbG6-T"
   },
   "source": [
    "- **Indentations are important: 1, 2, 3 spaces - it doesn't matter how many, only that it's the same number everywhere!!!**\n",
    "- **Not Tab** - fortunately, in practice, most editors replace Tab with spaces."
   ]
  },
  {
   "cell_type": "markdown",
   "metadata": {
    "id": "YED5BnRtrp51"
   },
   "source": [
    "---\n",
    "## Variables\n",
    "\n",
    "- Variables are assigned a value.\n",
    "- Values have a type.\n",
    "- Variables \"live\" throughout the entire Jupyter notebook, if they have already been created. Unless they have a scope limited to a certain block of code, such as a function.\n",
    "- Variables store in the code all the information needed to perform calculations."
   ]
  },
  {
   "cell_type": "code",
   "execution_count": null,
   "metadata": {
    "id": "1w8sFis7rVnW"
   },
   "outputs": [],
   "source": [
    "a= 10\n",
    "print(a)"
   ]
  },
  {
   "cell_type": "code",
   "execution_count": null,
   "metadata": {
    "id": "25E8YuiQrk1q"
   },
   "outputs": [],
   "source": [
    "type(a)"
   ]
  },
  {
   "cell_type": "code",
   "execution_count": null,
   "metadata": {
    "id": "U-BOOTWZreiS"
   },
   "outputs": [],
   "source": [
    "print(a)"
   ]
  },
  {
   "cell_type": "markdown",
   "metadata": {
    "id": "EYVaS-Uwumrs"
   },
   "source": [
    "The values and types(!) of variables can be changed."
   ]
  },
  {
   "cell_type": "code",
   "execution_count": null,
   "metadata": {
    "id": "-k8dSlloulP6"
   },
   "outputs": [],
   "source": [
    "a = 15.0996"
   ]
  },
  {
   "cell_type": "code",
   "execution_count": null,
   "metadata": {
    "id": "563t8TQ_uzkD"
   },
   "outputs": [],
   "source": [
    "type(a)"
   ]
  },
  {
   "cell_type": "code",
   "execution_count": null,
   "metadata": {
    "id": "BSjWwmXOu25r"
   },
   "outputs": [],
   "source": [
    "print(a)"
   ]
  },
  {
   "cell_type": "markdown",
   "metadata": {
    "id": "cF8maUM_wlJu"
   },
   "source": [
    "Variables of type `string`:"
   ]
  },
  {
   "cell_type": "code",
   "execution_count": null,
   "metadata": {
    "id": "zFCqVYVEu3e7"
   },
   "outputs": [],
   "source": [
    "a= \"Alice has a cat\" # The stereotypical first sentence taught in Polish schools.\n",
    "print(a)"
   ]
  },
  {
   "cell_type": "code",
   "execution_count": null,
   "metadata": {
    "id": "DELta72IwkjK"
   },
   "outputs": [],
   "source": [
    "print(a[0])"
   ]
  },
  {
   "cell_type": "code",
   "execution_count": null,
   "metadata": {
    "id": "KQzCmrzCwvTo"
   },
   "outputs": [],
   "source": [
    "print(a[0:5])"
   ]
  },
  {
   "cell_type": "code",
   "execution_count": null,
   "metadata": {
    "id": "ecwTdrNzzelx"
   },
   "outputs": [],
   "source": [
    "print(a.replace(\"Alice\",'Bob'))"
   ]
  },
  {
   "cell_type": "code",
   "execution_count": null,
   "metadata": {
    "id": "j2T67iB92N4p"
   },
   "outputs": [],
   "source": [
    "print(\"First row,\\n Second row\\nThird\")"
   ]
  },
  {
   "cell_type": "code",
   "execution_count": null,
   "metadata": {
    "id": "kT9PgZDP15Qn"
   },
   "outputs": [],
   "source": [
    "x= float(\"3.32\")\n",
    "print(x, type(x))"
   ]
  },
  {
   "cell_type": "code",
   "execution_count": null,
   "metadata": {
    "id": "s1oxcuDi2XdU"
   },
   "outputs": [],
   "source": [
    "name= \"Alice\"\n",
    "x= name+\" has a cat\"\n",
    "print(x)"
   ]
  },
  {
   "cell_type": "markdown",
   "metadata": {
    "id": "k3CjMhCeyZmj"
   },
   "source": [
    "Boolean variables (bool)"
   ]
  },
  {
   "cell_type": "code",
   "execution_count": null,
   "metadata": {
    "id": "6hOqF-4jyZ1C"
   },
   "outputs": [],
   "source": [
    "a= True # False\n",
    "print(a)"
   ]
  },
  {
   "cell_type": "code",
   "execution_count": null,
   "metadata": {
    "id": "II9MRvHwio2U"
   },
   "outputs": [],
   "source": [
    "5 == 5"
   ]
  },
  {
   "cell_type": "code",
   "execution_count": null,
   "metadata": {
    "id": "HGCSahGKzJ5s"
   },
   "outputs": [],
   "source": [
    "a =  (5 == 5)\n",
    "print(a)"
   ]
  },
  {
   "cell_type": "code",
   "execution_count": null,
   "metadata": {
    "id": "tVSI7nW_iywk"
   },
   "outputs": [],
   "source": [
    "x = 5\n",
    "if x = 5: # Should be ==\n",
    "    print(x)"
   ]
  },
  {
   "cell_type": "markdown",
   "metadata": {
    "id": "jdB4Po9gzsSp"
   },
   "source": [
    "Complex"
   ]
  },
  {
   "cell_type": "code",
   "execution_count": null,
   "metadata": {
    "id": "Bq8lcYS8zsaB"
   },
   "outputs": [],
   "source": [
    "a= 1j + 8"
   ]
  },
  {
   "cell_type": "code",
   "execution_count": null,
   "metadata": {
    "id": "ypyhg57PzwJT"
   },
   "outputs": [],
   "source": [
    "a"
   ]
  },
  {
   "cell_type": "code",
   "execution_count": null,
   "metadata": {
    "id": "ny31HHJSzxIK"
   },
   "outputs": [],
   "source": [
    "a+a"
   ]
  },
  {
   "cell_type": "code",
   "execution_count": null,
   "metadata": {
    "id": "6HD5MiVVjRgQ"
   },
   "outputs": [],
   "source": [
    "a = 10 + j"
   ]
  },
  {
   "cell_type": "code",
   "execution_count": null,
   "metadata": {
    "id": "2aWYYIaEjWu0"
   },
   "outputs": [],
   "source": [
    "a = 10 + 1.0j"
   ]
  },
  {
   "cell_type": "markdown",
   "metadata": {
    "id": "dsPOm7hswTv3"
   },
   "source": [
    "### Questions and answers"
   ]
  },
  {
   "cell_type": "code",
   "execution_count": null,
   "metadata": {
    "id": "Vtgi9XSPwW8g"
   },
   "outputs": [],
   "source": [
    "# Create a variable storing a string, \n",
    "\n",
    "# a float type number, \n",
    "\n",
    "# and an integer type number.\n"
   ]
  },
  {
   "cell_type": "code",
   "execution_count": null,
   "metadata": {
    "id": "2R4qLxHEw-yi"
   },
   "outputs": [],
   "source": [
    "# type(\"Alice has a cat.\")"
   ]
  },
  {
   "cell_type": "code",
   "execution_count": null,
   "metadata": {
    "id": "kwV8L1SXxNYX"
   },
   "outputs": [],
   "source": [
    "# type(1.0)"
   ]
  },
  {
   "cell_type": "code",
   "execution_count": null,
   "metadata": {
    "id": "EwjWF_kVxvjm"
   },
   "outputs": [],
   "source": [
    "# a= 10\n",
    "# type(a)"
   ]
  },
  {
   "cell_type": "code",
   "execution_count": null,
   "metadata": {
    "id": "5giroh2sxzls"
   },
   "outputs": [],
   "source": [
    "# a= 10\n",
    "# b= 10.\n",
    "# type(a+b)"
   ]
  },
  {
   "cell_type": "code",
   "execution_count": null,
   "metadata": {
    "id": "hOmvevV4ynqL"
   },
   "outputs": [],
   "source": [
    "# print(bool(\"a\"))"
   ]
  },
  {
   "cell_type": "code",
   "execution_count": null,
   "metadata": {
    "id": "57r1v3Ceyuug"
   },
   "outputs": [],
   "source": [
    "# print(bool(\"\"))\n",
    "# print(bool(0))\n",
    "# print(bool(0.))\n",
    "# print(bool(None))"
   ]
  },
  {
   "cell_type": "code",
   "execution_count": null,
   "metadata": {
    "id": "7WL5hSB6HeNX"
   },
   "outputs": [],
   "source": [
    "# if True:\n",
    "# print(\"Alice has a cat\")"
   ]
  },
  {
   "cell_type": "markdown",
   "metadata": {
    "id": "pAhg6PdOxDZ2"
   },
   "source": [
    "### Operations on variables - operators: +, -, *, /, //, %, =, =="
   ]
  },
  {
   "cell_type": "code",
   "execution_count": null,
   "metadata": {
    "id": "CYfdQItxzq_I"
   },
   "outputs": [],
   "source": [
    "a= 10\n",
    "print(2*a)"
   ]
  },
  {
   "cell_type": "code",
   "execution_count": null,
   "metadata": {
    "id": "rdLSuL9Tz-Zd"
   },
   "outputs": [],
   "source": [
    "a/2"
   ]
  },
  {
   "cell_type": "code",
   "execution_count": null,
   "metadata": {
    "id": "IUZSi9WVz_wM"
   },
   "outputs": [],
   "source": [
    "a/3"
   ]
  },
  {
   "cell_type": "code",
   "execution_count": null,
   "metadata": {
    "id": "IznBXh350BG7"
   },
   "outputs": [],
   "source": [
    "a//3"
   ]
  },
  {
   "cell_type": "code",
   "execution_count": null,
   "metadata": {
    "id": "6JqE9IbI0DCC"
   },
   "outputs": [],
   "source": [
    "a%3"
   ]
  },
  {
   "cell_type": "code",
   "execution_count": null,
   "metadata": {
    "id": "VpUXFLZ10ENy"
   },
   "outputs": [],
   "source": [
    "a + a"
   ]
  },
  {
   "cell_type": "code",
   "execution_count": null,
   "metadata": {
    "id": "yLJFojNq0HZA"
   },
   "outputs": [],
   "source": [
    "a -= 5 # This is a shorthand for the expression a = a + 5\n",
    "print(a)"
   ]
  },
  {
   "cell_type": "markdown",
   "metadata": {},
   "source": [
    "Operators perform different functions for variables of different types."
   ]
  },
  {
   "cell_type": "code",
   "execution_count": null,
   "metadata": {},
   "outputs": [],
   "source": [
    "a=\"Alice has a cat\"\n",
    "print(2*a)"
   ]
  },
  {
   "cell_type": "code",
   "execution_count": null,
   "metadata": {},
   "outputs": [],
   "source": [
    "a/2 # a//2"
   ]
  },
  {
   "cell_type": "code",
   "execution_count": null,
   "metadata": {},
   "outputs": [],
   "source": [
    "\"%.2f\" % 2"
   ]
  },
  {
   "cell_type": "code",
   "execution_count": null,
   "metadata": {},
   "outputs": [],
   "source": [
    "a+a"
   ]
  },
  {
   "cell_type": "markdown",
   "metadata": {
    "id": "RZYJSHWz0w2U"
   },
   "source": [
    "Boolean functions"
   ]
  },
  {
   "cell_type": "code",
   "execution_count": null,
   "metadata": {
    "id": "F8Hy-u_20LDW"
   },
   "outputs": [],
   "source": [
    "(True and True)"
   ]
  },
  {
   "cell_type": "code",
   "execution_count": null,
   "metadata": {
    "id": "KhfO0XFL03dW"
   },
   "outputs": [],
   "source": [
    "False and True"
   ]
  },
  {
   "cell_type": "code",
   "execution_count": null,
   "metadata": {
    "id": "-ZrDW5Os04oc"
   },
   "outputs": [],
   "source": [
    "False or True"
   ]
  },
  {
   "cell_type": "code",
   "execution_count": null,
   "metadata": {
    "id": "rC4s-_lx06HL"
   },
   "outputs": [],
   "source": [
    "(False or True) and True"
   ]
  },
  {
   "cell_type": "code",
   "execution_count": null,
   "metadata": {
    "id": "QncwVcqj08qX"
   },
   "outputs": [],
   "source": [
    "(3>5) or True"
   ]
  },
  {
   "cell_type": "code",
   "execution_count": null,
   "metadata": {
    "id": "t4exJni01GtD"
   },
   "outputs": [],
   "source": [
    "not True"
   ]
  },
  {
   "cell_type": "code",
   "execution_count": null,
   "metadata": {
    "id": "qasR8-OG1IpK"
   },
   "outputs": [],
   "source": [
    "1+1+1 == 3"
   ]
  },
  {
   "cell_type": "code",
   "execution_count": null,
   "metadata": {
    "id": "AlFzeRBs1QhG"
   },
   "outputs": [],
   "source": [
    "0.1 + 0.1 + 0.1 == 0.3"
   ]
  },
  {
   "cell_type": "markdown",
   "metadata": {},
   "source": [
    "<details>\n",
    "<summary>Comment (click me)</summary>\n",
    "Never compare floats using a simple `==` operator! Use some version of isclose() function\n",
    "</details>"
   ]
  },
  {
   "cell_type": "markdown",
   "metadata": {},
   "source": [
    "### Operator `in`"
   ]
  },
  {
   "cell_type": "code",
   "execution_count": null,
   "metadata": {},
   "outputs": [],
   "source": [
    "'a' in \"Alice has a cat\""
   ]
  },
  {
   "cell_type": "code",
   "execution_count": null,
   "metadata": {},
   "outputs": [],
   "source": [
    "'C' in \"Alice has a cat\""
   ]
  },
  {
   "cell_type": "code",
   "execution_count": null,
   "metadata": {},
   "outputs": [],
   "source": [
    "3 in [3, 4, 2, 1] # check if 3 can be found in a container (list container)"
   ]
  },
  {
   "cell_type": "markdown",
   "metadata": {
    "id": "XHBvxz7m3HnR"
   },
   "source": [
    "### Questions and answers\n",
    "\n",
    "Replace `?` to see a correct statement"
   ]
  },
  {
   "cell_type": "code",
   "execution_count": null,
   "metadata": {
    "id": "Hv0wp5QL1SmW"
   },
   "outputs": [],
   "source": [
    "# if 3 == 7 ? 0 == 0:\n",
    "  # print(\"At least one statement is true\")"
   ]
  },
  {
   "cell_type": "code",
   "execution_count": null,
   "metadata": {
    "id": "hfOWnmzL3VbK"
   },
   "outputs": [],
   "source": [
    "# if 3 ? 5:\n",
    "#   print(\"If 3 not equal 5\")"
   ]
  },
  {
   "cell_type": "markdown",
   "metadata": {
    "id": "PbugomNU3zVq"
   },
   "source": [
    "### Containers\n",
    "\n",
    "#### List:\n",
    "* What is the concept?"
   ]
  },
  {
   "cell_type": "code",
   "execution_count": null,
   "metadata": {
    "id": "ybwYx8Ei3sr_"
   },
   "outputs": [],
   "source": [
    "a= [1,2,3,4]\n",
    "print(type(a))"
   ]
  },
  {
   "cell_type": "code",
   "execution_count": null,
   "metadata": {
    "id": "5xuB8l193_Rj"
   },
   "outputs": [],
   "source": [
    "a[0] = 10\n",
    "print(a)"
   ]
  },
  {
   "cell_type": "code",
   "execution_count": null,
   "metadata": {
    "id": "-83zVWUoDGgB"
   },
   "outputs": [],
   "source": [
    "len(a)"
   ]
  },
  {
   "cell_type": "code",
   "execution_count": null,
   "metadata": {
    "id": "q7B_eyD94DGl"
   },
   "outputs": [],
   "source": [
    "del a[1]\n",
    "print(a)"
   ]
  },
  {
   "cell_type": "code",
   "execution_count": null,
   "metadata": {
    "id": "N0z2dUgH4Fsd"
   },
   "outputs": [],
   "source": [
    "a.append(8)\n",
    "print(a)"
   ]
  },
  {
   "cell_type": "code",
   "execution_count": null,
   "metadata": {
    "id": "YJHf9A1JEz-v"
   },
   "outputs": [],
   "source": [
    "a.insert(0,-12)\n",
    "print(a)"
   ]
  },
  {
   "cell_type": "code",
   "execution_count": null,
   "metadata": {
    "id": "E8F9TEkT4ek5"
   },
   "outputs": [],
   "source": [
    "a = a + [1,2,3,4]\n",
    "print(a)"
   ]
  },
  {
   "cell_type": "code",
   "execution_count": null,
   "metadata": {
    "id": "K5pOId-wCE90"
   },
   "outputs": [],
   "source": [
    "x= [\"Alice\", [1,2,3], 6.9, {1,2,3},(1,2)]\n",
    "print(x)"
   ]
  },
  {
   "cell_type": "code",
   "execution_count": null,
   "metadata": {},
   "outputs": [],
   "source": [
    "# print(x[1])"
   ]
  },
  {
   "cell_type": "code",
   "execution_count": null,
   "metadata": {
    "id": "0_lo_sFMAbKb"
   },
   "outputs": [],
   "source": [
    "# 11 in a"
   ]
  },
  {
   "cell_type": "markdown",
   "metadata": {
    "id": "UekAoWLV4Vg9"
   },
   "source": [
    "#### Tuple:"
   ]
  },
  {
   "cell_type": "code",
   "execution_count": null,
   "metadata": {
    "id": "VPeCCFvW4KWe"
   },
   "outputs": [],
   "source": [
    "a = (1,2,3,4)\n",
    "print(a)"
   ]
  },
  {
   "cell_type": "code",
   "execution_count": null,
   "metadata": {
    "id": "QyCiSMTJ4kyt"
   },
   "outputs": [],
   "source": [
    "a[0]=5"
   ]
  },
  {
   "cell_type": "code",
   "execution_count": null,
   "metadata": {
    "id": "CLqU2blY4l3E"
   },
   "outputs": [],
   "source": [
    "print(a[0])"
   ]
  },
  {
   "cell_type": "code",
   "execution_count": null,
   "metadata": {
    "id": "dleAUQHc_ZyL"
   },
   "outputs": [],
   "source": [
    "x,y,z,w = a\n",
    "print(w)"
   ]
  },
  {
   "cell_type": "code",
   "execution_count": null,
   "metadata": {
    "id": "eC7l0fS4_jO2"
   },
   "outputs": [],
   "source": [
    "a,b,c= 1,10.,\"X\""
   ]
  },
  {
   "cell_type": "code",
   "execution_count": null,
   "metadata": {
    "id": "Il-qcxInCl-o"
   },
   "outputs": [],
   "source": [
    "a= 10\n",
    "b= 15\n",
    "a,b= b,a\n",
    "print(a)"
   ]
  },
  {
   "cell_type": "markdown",
   "metadata": {
    "id": "MAciDF9hAL7S"
   },
   "source": [
    "### Set"
   ]
  },
  {
   "cell_type": "code",
   "execution_count": null,
   "metadata": {
    "id": "nOvHLMBR5nM7"
   },
   "outputs": [],
   "source": [
    "a= {1,1,3,4,5}\n",
    "print(a)"
   ]
  },
  {
   "cell_type": "code",
   "execution_count": null,
   "metadata": {
    "id": "QAJsDdv2ASvj"
   },
   "outputs": [],
   "source": [
    "1 in a"
   ]
  },
  {
   "cell_type": "code",
   "execution_count": null,
   "metadata": {
    "id": "VzLvBEGJAetK"
   },
   "outputs": [],
   "source": [
    "a.add('a')\n",
    "a.add('a')\n",
    "print(a)"
   ]
  },
  {
   "cell_type": "code",
   "execution_count": null,
   "metadata": {},
   "outputs": [],
   "source": [
    "b = {1,4,7,8}"
   ]
  },
  {
   "cell_type": "code",
   "execution_count": null,
   "metadata": {},
   "outputs": [],
   "source": [
    "a | b # or"
   ]
  },
  {
   "cell_type": "code",
   "execution_count": null,
   "metadata": {},
   "outputs": [],
   "source": [
    "a & b # and"
   ]
  },
  {
   "cell_type": "code",
   "execution_count": null,
   "metadata": {},
   "outputs": [],
   "source": [
    "a ^ b # xor"
   ]
  },
  {
   "cell_type": "code",
   "execution_count": null,
   "metadata": {},
   "outputs": [],
   "source": [
    "a - b"
   ]
  },
  {
   "cell_type": "markdown",
   "metadata": {
    "id": "O1yPz_ZUAv-A"
   },
   "source": [
    "### Dictionary"
   ]
  },
  {
   "cell_type": "code",
   "execution_count": null,
   "metadata": {
    "id": "MgYJYLYVAmkU"
   },
   "outputs": [],
   "source": [
    "a= {\"age\": 20, \"name\":\"Bob\",\"phone\":\"+11 111 222 333\"}\n",
    "print(a)"
   ]
  },
  {
   "cell_type": "code",
   "execution_count": null,
   "metadata": {
    "id": "bIl1boBSBCFg"
   },
   "outputs": [],
   "source": [
    "print(a[\"age\"])"
   ]
  },
  {
   "cell_type": "code",
   "execution_count": null,
   "metadata": {
    "id": "MEkzUZY5BHlQ"
   },
   "outputs": [],
   "source": [
    "a[\"second_name\"] =\"John\"\n",
    "print(a)"
   ]
  },
  {
   "cell_type": "code",
   "execution_count": null,
   "metadata": {
    "id": "XD_MfWxGB4F-"
   },
   "outputs": [],
   "source": [
    "a.values()"
   ]
  },
  {
   "cell_type": "code",
   "execution_count": null,
   "metadata": {
    "id": "G84t5YuiCvYU"
   },
   "outputs": [],
   "source": [
    "for key in a:\n",
    "    print(key)"
   ]
  },
  {
   "cell_type": "code",
   "execution_count": null,
   "metadata": {
    "id": "F-G950q7B8mG"
   },
   "outputs": [],
   "source": [
    "for key, value in a.items():\n",
    "    print(key, \" \", value)"
   ]
  },
  {
   "cell_type": "markdown",
   "metadata": {
    "id": "CFP9ehlYDDsh"
   },
   "source": [
    "### Questions and answers"
   ]
  },
  {
   "cell_type": "code",
   "execution_count": null,
   "metadata": {
    "id": "th4WhicwCI75"
   },
   "outputs": [],
   "source": [
    "# Print last element from the list\n",
    "# fruits = [\"apple\", \"banana\", \"cherry\"]\n",
    "# print(?)"
   ]
  },
  {
   "cell_type": "code",
   "execution_count": null,
   "metadata": {
    "id": "lEA97glDDBrw"
   },
   "outputs": [],
   "source": [
    "# Print number of elements in the list\n",
    "# a = [1,2,3,4,5,6]\n",
    "# print(?)"
   ]
  },
  {
   "cell_type": "code",
   "execution_count": null,
   "metadata": {
    "id": "Hu-MkKPQEAjO"
   },
   "outputs": [],
   "source": [
    "# Print first element in the list:\n",
    "# a = [1,2,3,4,5,6]\n",
    "# print(a[?])"
   ]
  },
  {
   "cell_type": "code",
   "execution_count": null,
   "metadata": {
    "id": "JIJQrn8wEayD"
   },
   "outputs": [],
   "source": [
    "# What it might print?\n",
    "# a= [1,2,3,4,5,6]\n",
    "# print(a[1:4]) # ?"
   ]
  },
  {
   "cell_type": "markdown",
   "metadata": {
    "id": "j9m0HS-kIUeM"
   },
   "source": [
    "---\n",
    "### Conditional statements and loops.\n",
    "\n",
    "IF-ELIF-ELSE"
   ]
  },
  {
   "cell_type": "code",
   "execution_count": null,
   "metadata": {
    "id": "gTXSq6crIWYo"
   },
   "outputs": [],
   "source": [
    "a= 5\n",
    "if a<10:\n",
    "    print(\"X\")\n",
    "elif a<15:\n",
    "    print(\"Y\")\n",
    "else:\n",
    "    print(\"Z\")"
   ]
  },
  {
   "cell_type": "code",
   "execution_count": null,
   "metadata": {
    "id": "Luy8ujWXIrYg"
   },
   "outputs": [],
   "source": [
    "users= [\"Alice\", \"Bob\", \"Carol\"]\n",
    "name= input(\"Write your name: \") # New element! What it does?\n",
    "if name in users:\n",
    "    print(\"You are one of the users. You have access to this branch\")\n",
    "else:\n",
    "    print(\"You are not a user!\")"
   ]
  },
  {
   "cell_type": "markdown",
   "metadata": {
    "id": "gAwdjA_sKenL"
   },
   "source": [
    "FOR"
   ]
  },
  {
   "cell_type": "code",
   "execution_count": null,
   "metadata": {
    "id": "A0eks6qzKLcA"
   },
   "outputs": [],
   "source": [
    "x= 10232\n",
    "for x in [1,2,3,4,6]:\n",
    "    print(x)"
   ]
  },
  {
   "cell_type": "code",
   "execution_count": null,
   "metadata": {
    "id": "5OvM83dzEyu8"
   },
   "outputs": [],
   "source": [
    "print(x)"
   ]
  },
  {
   "cell_type": "code",
   "execution_count": null,
   "metadata": {
    "id": "RMAH2hgXKiFC"
   },
   "outputs": [],
   "source": [
    "for x in range(10):\n",
    "    print(x, x**2)\n",
    "    # any_function_of(x)"
   ]
  },
  {
   "cell_type": "code",
   "execution_count": null,
   "metadata": {
    "id": "oGXhAkEVK8ds"
   },
   "outputs": [],
   "source": [
    "for letter in \"Some long text\":\n",
    "    print(letter)"
   ]
  },
  {
   "cell_type": "code",
   "execution_count": null,
   "metadata": {
    "id": "ds10hG-VxM-n"
   },
   "outputs": [],
   "source": [
    "for x in 10:\n",
    "    print(x)"
   ]
  },
  {
   "cell_type": "code",
   "execution_count": null,
   "metadata": {
    "id": "ggs1xuhnxVx6"
   },
   "outputs": [],
   "source": [
    "for x in {12,23,54,12}:\n",
    "    print(x)"
   ]
  },
  {
   "cell_type": "code",
   "execution_count": null,
   "metadata": {
    "id": "c1z-5mynx8p7"
   },
   "outputs": [],
   "source": [
    "x = [1,2,3,4]\n",
    "for i in range(len(x)): # Bad pattern! Not pythonic\n",
    "    print(x[i])"
   ]
  },
  {
   "cell_type": "markdown",
   "metadata": {
    "id": "hhDFtbWNKslh"
   },
   "source": [
    "WHILE"
   ]
  },
  {
   "cell_type": "code",
   "execution_count": null,
   "metadata": {
    "id": "QCRPyE_2Km81"
   },
   "outputs": [],
   "source": [
    "i= 0\n",
    "while i<10:\n",
    "    i= i+1\n",
    "    print(i)"
   ]
  },
  {
   "cell_type": "code",
   "execution_count": null,
   "metadata": {
    "id": "iepEIRsmFt34"
   },
   "outputs": [],
   "source": [
    "print(i)"
   ]
  },
  {
   "cell_type": "markdown",
   "metadata": {
    "id": "XXSXBgBZL5ku"
   },
   "source": [
    "Continue i break"
   ]
  },
  {
   "cell_type": "code",
   "execution_count": null,
   "metadata": {
    "id": "bKHkWSENK4Gc"
   },
   "outputs": [],
   "source": [
    "# Let's go through the following code:\n",
    "i= 0\n",
    "while i<10:\n",
    "    i= i+1\n",
    "    if i == 4:\n",
    "        continue\n",
    "    print(i)"
   ]
  },
  {
   "cell_type": "code",
   "execution_count": null,
   "metadata": {
    "id": "gCxdEurcK0QE"
   },
   "outputs": [],
   "source": [
    "# And now:\n",
    "i= 0\n",
    "while i<10:\n",
    "    i= i+1\n",
    "    if i == 4:\n",
    "        break\n",
    "    print(i)"
   ]
  },
  {
   "cell_type": "markdown",
   "metadata": {
    "id": "ZZerFR-G604U"
   },
   "source": [
    "--- \n",
    "## Modules\n",
    "\n",
    "Many functions that we often need can be found in modules available in every Python interpreter. You can find a complete list of these in the [documentation](https://docs.python.org/3/library/).\n",
    "\n",
    "The most important ones are:\n",
    "- sys\n",
    "- os\n",
    "- math\n",
    "- glob\n",
    "- time\n",
    "- argparse\n",
    "\n",
    "In addition to them, there are also many modules that are not part of the standard library and usually need to be installed separately (the two most important tools for installing modules are pip and conda. We will talk more about them in the modules-related meeting). The most important ones are:\n",
    "\n",
    "- matplotlib - for creating plots\n",
    "- scipy - scientific Python\n",
    "- numpy - numerical Python\n",
    "- pandas - for working with data using DataFrames\n",
    "- scikit-learn - for machine learning\n",
    "- pytorch / jax / tensorflow and keras - for machine learning (neural networks)\n",
    "- astropy - a collection of tools for astronomers."
   ]
  },
  {
   "cell_type": "code",
   "execution_count": null,
   "metadata": {
    "id": "nSHh8SFuMgTc"
   },
   "outputs": [],
   "source": [
    "import math # This is how we import a module\n",
    "\n",
    "print(math.pi)"
   ]
  },
  {
   "cell_type": "code",
   "execution_count": null,
   "metadata": {
    "id": "UVnjxvpV0u9C"
   },
   "outputs": [],
   "source": [
    "import numpy as np\n",
    "np.abs([-10,10])"
   ]
  },
  {
   "cell_type": "code",
   "execution_count": null,
   "metadata": {
    "id": "dcai2QeC1cPY"
   },
   "outputs": [],
   "source": [
    "import not_existing_module"
   ]
  },
  {
   "cell_type": "code",
   "execution_count": null,
   "metadata": {
    "id": "H3E_PeGg8ji4"
   },
   "outputs": [],
   "source": [
    "dir(math) # It returns a list containing the functions available in the math module."
   ]
  },
  {
   "cell_type": "code",
   "execution_count": null,
   "metadata": {
    "id": "Y_7a9vBb8mu2"
   },
   "outputs": [],
   "source": [
    "help(math.isclose)"
   ]
  },
  {
   "cell_type": "code",
   "execution_count": null,
   "metadata": {
    "id": "0nPHvIGX8xvu"
   },
   "outputs": [],
   "source": [
    "print(0.1+0.1+0.1 == 0.3)\n",
    "print(math.isclose(0.1+0.1+0.1, 0.3))"
   ]
  },
  {
   "cell_type": "markdown",
   "metadata": {
    "id": "JqdX9jn5MjVM"
   },
   "source": [
    "## Functions\n",
    "\n",
    "It is often beneficial to extract frequently used code snippets into functions. By using functions, the code becomes more readable and easier to maintain.\n",
    "\n",
    "Additionally, we don't necessarily need to know how a function solves a particular problem. It is sufficient to understand what arguments it takes and what result it returns."
   ]
  },
  {
   "cell_type": "code",
   "execution_count": null,
   "metadata": {
    "id": "bDb78ab784A2"
   },
   "outputs": [],
   "source": [
    "def function(arg1, arg2, arg3):\n",
    "    \"\"\"\n",
    "    Compute average of three numbers\n",
    "    Other comments\n",
    "    \"\"\"\n",
    "    return (arg1+arg2+arg3)/3"
   ]
  },
  {
   "cell_type": "code",
   "execution_count": null,
   "metadata": {
    "id": "PK1xbXaeOvx_"
   },
   "outputs": [],
   "source": [
    "help(function)"
   ]
  },
  {
   "cell_type": "code",
   "execution_count": null,
   "metadata": {
    "id": "Bg7qyDFmOxAP"
   },
   "outputs": [],
   "source": [
    "result= function(1,2,3)\n",
    "print(result)"
   ]
  },
  {
   "cell_type": "code",
   "execution_count": null,
   "metadata": {
    "id": "QhrfjwAe23hc"
   },
   "outputs": [],
   "source": [
    "x = 10\n",
    "def function(arg1, arg2, arg3):\n",
    "    \"\"\"\n",
    "    Compute average of three numbers\n",
    "    Other comments\n",
    "    \"\"\"\n",
    "    x = 5\n",
    "    print(x) # Clarify the idea of a scope - is this x equal 5 or 10?\n",
    "    return (arg1+arg2+arg3)/3\n",
    "\n",
    "avr= function(1,2,3)\n",
    "print(avr)\n",
    "print(x) # What ebout this x (5? or 10?)"
   ]
  },
  {
   "cell_type": "markdown",
   "metadata": {
    "id": "MySoz7kSPqn7"
   },
   "source": [
    "#### How to implement a good function?\n"
   ]
  },
  {
   "cell_type": "code",
   "execution_count": null,
   "metadata": {
    "id": "kEmvVaiEO9qH"
   },
   "outputs": [],
   "source": [
    "# I want to calculate the average value from 100 measurements.\n",
    "import random\n",
    "\n",
    "no_measurements= 100\n",
    "measurements= []\n",
    "for _ in range(no_measurements):\n",
    "    single_measurement= random.randint(0,10)\n",
    "    measurements.append(single_measurement)\n",
    "print(measurements)"
   ]
  },
  {
   "cell_type": "code",
   "execution_count": null,
   "metadata": {
    "id": "DzZe0FELQPHP"
   },
   "outputs": [],
   "source": [
    "cumulative= 0\n",
    "for single_measurement in measurements:\n",
    "    cumulative = cumulative + single_measurement\n",
    "    # cumulative += single_measurement\n",
    "average_of_measurements= cumulative/no_measurements\n",
    "print(average_of_measurements)"
   ]
  },
  {
   "cell_type": "code",
   "execution_count": null,
   "metadata": {
    "id": "WkeCzhMcQrRu"
   },
   "outputs": [],
   "source": [
    "def average(measurements):\n",
    "    cumulative= 0\n",
    "    for single_measurement in measurements:\n",
    "        cumulative += single_measurement\n",
    "    return cumulative/len(measurements)"
   ]
  },
  {
   "cell_type": "code",
   "execution_count": null,
   "metadata": {
    "id": "jE5pZ8KpRg2O"
   },
   "outputs": [],
   "source": [
    "print(average(measurements))"
   ]
  },
  {
   "cell_type": "code",
   "execution_count": null,
   "metadata": {
    "id": "Tc9gKhdGRlQG"
   },
   "outputs": [],
   "source": [
    "# I want to calculate the factorial of N."
   ]
  },
  {
   "cell_type": "code",
   "execution_count": null,
   "metadata": {
    "id": "Sn4P8knfRwDu"
   },
   "outputs": [],
   "source": [
    "N= 5\n",
    "N_factorial = 1.\n",
    "for i in range(1,N+1):\n",
    "    N_factorial= N_factorial*i\n",
    "print(N_factorial)"
   ]
  },
  {
   "cell_type": "code",
   "execution_count": null,
   "metadata": {
    "id": "WJmD6uYmR4PW"
   },
   "outputs": [],
   "source": [
    "def factorial(N):\n",
    "    N_factorial = 1.\n",
    "    for i in range(1,N+1):\n",
    "        N_factorial*=i\n",
    "    return N_factorial\n",
    "\n",
    "print(factorial(5))"
   ]
  },
  {
   "cell_type": "code",
   "execution_count": null,
   "metadata": {
    "id": "jEttM9hnSJS3"
   },
   "outputs": [],
   "source": [
    "# I want the variable \"a\" to always contain the larger number, \n",
    "# and the variable \"b\" to contain the smaller number."
   ]
  },
  {
   "cell_type": "code",
   "execution_count": null,
   "metadata": {
    "id": "AyopyRB6SWpV"
   },
   "outputs": [],
   "source": [
    "a= 10\n",
    "b= 15\n",
    "if a<b:\n",
    "    temp=a\n",
    "    a=b\n",
    "    b=temp\n",
    "print(\"a = \", a,\"; b = \",b)"
   ]
  },
  {
   "cell_type": "code",
   "execution_count": null,
   "metadata": {
    "id": "KQCVA7rcSzEt"
   },
   "outputs": [],
   "source": [
    "def swap_first_bigger(a,b):\n",
    "    if a<b:\n",
    "        temp=a\n",
    "        a=b\n",
    "        b=temp\n",
    "    return a,b"
   ]
  },
  {
   "cell_type": "markdown",
   "metadata": {},
   "source": [
    "How to swap numbers in single line of code?\n",
    "<details>\n",
    "<summary>Answer (click me)</summary>\n",
    "a,b = b,a\n",
    "</details>"
   ]
  },
  {
   "cell_type": "code",
   "execution_count": null,
   "metadata": {
    "id": "QT__TnHQTF-3"
   },
   "outputs": [],
   "source": [
    "a= 10\n",
    "b= 15\n",
    "a,b= swap_first_bigger(a,b)\n",
    "print(\"a = \", a,\"; b = \",b)"
   ]
  },
  {
   "cell_type": "code",
   "execution_count": null,
   "metadata": {
    "id": "K3M6fY_pTGad"
   },
   "outputs": [],
   "source": [
    "# Sort a list of numbers using a bubble sort"
   ]
  },
  {
   "cell_type": "markdown",
   "metadata": {
    "id": "ZMhcQ_JOjiNY"
   },
   "source": [
    "Example:\n",
    "First Pass:\n",
    "1. ( 5 1 4 2 8 ) –> ( 1 5 4 2 8 ), Here, algorithm compares the first two elements, and swaps since 5 > 1.\n",
    "2. ( 1 5 4 2 8 ) –>  ( 1 4 5 2 8 ), Swap since 5 > 4\n",
    "3. ( 1 4 5 2 8 ) –>  ( 1 4 2 5 8 ), Swap since 5 > 2\n",
    "4. ( 1 4 2 5 8 ) –> ( 1 4 2 5 8 ), Now, since these elements are already in order (8 > 5), algorithm does not swap them.\n",
    "\n",
    "Second Pass:\n",
    "1. ( 1 4 2 5 8 ) –> ( 1 4 2 5 8 )\n",
    "2. ( 1 4 2 5 8 ) –> ( 1 2 4 5 8 ), Swap since 4 > 2\n",
    "3. ( 1 2 4 5 8 ) –> ( 1 2 4 5 8 )\n",
    "4. ( 1 2 4 5 8 ) –>  ( 1 2 4 5 8 )\n",
    "\n",
    "Now, the array is already sorted, but our algorithm does not know if it is completed. The algorithm needs one whole pass without any swap to know it is sorted.\n",
    "\n",
    "Third Pass:\n",
    "1. ( 1 2 4 5 8 ) –> ( 1 2 4 5 8 )\n",
    "2. ( 1 2 4 5 8 ) –> ( 1 2 4 5 8 )\n",
    "3. ( 1 2 4 5 8 ) –> ( 1 2 4 5 8 )\n",
    "4. ( 1 2 4 5 8 ) –> ( 1 2 4 5 8 )"
   ]
  },
  {
   "cell_type": "code",
   "execution_count": null,
   "metadata": {
    "id": "-RY4ifQwjA0A"
   },
   "outputs": [],
   "source": [
    "import numpy as np\n",
    "x= [5, 1, 4, 2, 3]\n",
    "\n",
    "n= len(x)\n",
    "for i in range(n):\n",
    "    print(\"Last \",i, \"already sorted!\")\n",
    "    for j in range(0, n-i-1): \n",
    "        if x[j] > x[j+1]: \n",
    "            x[j], x[j+1] = x[j+1], x[j]\n",
    "            print(j,j+1, \" swapped:\")\n",
    "        print(x)\n",
    "print(x)"
   ]
  },
  {
   "cell_type": "code",
   "execution_count": null,
   "metadata": {
    "id": "t3Min-v9mUUM"
   },
   "outputs": [],
   "source": [
    "def bubble_sort(x):\n",
    "    # https://youtu.be/lyZQPjUT5B4\n",
    "    n= len(x)\n",
    "    for i in range(n):\n",
    "        for j in range(0, n-i-1): \n",
    "            if x[j] > x[j+1]: \n",
    "                x[j], x[j+1] = x[j+1], x[j]\n",
    "\n",
    "x= [5, 1, 4, 2, 3]\n",
    "bubble_sort(x)\n",
    "print(x)"
   ]
  },
  {
   "cell_type": "code",
   "execution_count": null,
   "metadata": {
    "id": "Js7I4xg4nyFQ"
   },
   "outputs": [],
   "source": []
  }
 ],
 "metadata": {
  "colab": {
   "authorship_tag": "ABX9TyMVkU5MgJBzcBJldIPDDjuN",
   "collapsed_sections": [],
   "name": "03_postawy.ipynb",
   "provenance": []
  },
  "kernelspec": {
   "display_name": "Python 3 (ipykernel)",
   "language": "python",
   "name": "python3"
  },
  "language_info": {
   "codemirror_mode": {
    "name": "ipython",
    "version": 3
   },
   "file_extension": ".py",
   "mimetype": "text/x-python",
   "name": "python",
   "nbconvert_exporter": "python",
   "pygments_lexer": "ipython3",
   "version": "3.8.3"
  }
 },
 "nbformat": 4,
 "nbformat_minor": 1
}
